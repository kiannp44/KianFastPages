{
 "cells": [
  {
   "attachments": {},
   "cell_type": "markdown",
   "metadata": {},
   "source": [
    "# 8 FRQs\n",
    "- toc: true\n",
    "- badges: true\n",
    "- comments: true\n",
    "- author: Kian Pasokhi\n",
    "- categories: [ Collegeboard]"
   ]
  },
  {
   "attachments": {},
   "cell_type": "markdown",
   "metadata": {},
   "source": [
    "- Most of these were done with the help of Marks Education Tutorials, and Vallandi Allulis on youtube."
   ]
  },
  {
   "attachments": {},
   "cell_type": "markdown",
   "metadata": {},
   "source": [
    "# 2014\n",
    "- Consider the following partial declaration for a WordScrambler class. The constructor for theWordScrambler class takes an even-length array of String objects and initializes the instance variable scrambledWords.\n",
    " \n",
    "- Takes a word a scrambles it.\n",
    "\n",
    "- What we want to do is iterate through the characters in word. If we have an A followed by not A, then we swap those two characters. Then we return the word."
   ]
  },
  {
   "cell_type": "code",
   "execution_count": 7,
   "metadata": {},
   "outputs": [],
   "source": [
    "public static String scrambleWord (String word) {\n",
    "    for(int i = 1; i < word.length(); i++)  // set index to 1 and iterate through the string\n",
    "        {\n",
    "            if (word.substring(i - 1, i).equals(\"A\") && // letter prior to index\n",
    "            !word.substring(i, i + 1).equals(\"A\")) // Continues if not equal\n",
    "            {\n",
    "                word = word.substring(0, i - 1 ) + word.substring(i, i + 1) // from the 0 of index to the letter prior to the A we are trying to swap. Then capture character at index.\n",
    "                    + word.substring(i - 1, i) + word.substring(i + 1); // Passes parameter to the end of the string\n",
    "                i++;\n",
    "            }\n",
    "        }\n",
    "    \n",
    "        return word;\n",
    "\n",
    "        \n",
    "    }\n",
    "    "
   ]
  },
  {
   "attachments": {},
   "cell_type": "markdown",
   "metadata": {},
   "source": [
    "# 2020 "
   ]
  },
  {
   "attachments": {},
   "cell_type": "markdown",
   "metadata": {},
   "source": [
    "- Methods and Control Structures\n",
    "- Help detect if an error has occured when a number is entered or transmitted electoronically."
   ]
  },
  {
   "cell_type": "code",
   "execution_count": 13,
   "metadata": {},
   "outputs": [],
   "source": [
    "public static boolean isValid(int numWithCheckDigit) {\n",
    "\n",
    "    int lastDigit = numWithCheckDigit % 10;\n",
    "    int num = numWithCheckDigit / 10;\n",
    "\n",
    "    if (getCheck(num) == lastDigit) {\n",
    "        return true;\n",
    "    }\n",
    "    else{\n",
    "        return false;\n",
    "    }\n",
    "}"
   ]
  },
  {
   "attachments": {},
   "cell_type": "markdown",
   "metadata": {},
   "source": [
    "In order to count how many times the isValid method returned false, a new integer counter field would need to be created for the CheckDigit class. Every time, either in the else statement in the isValid method, or whenever the isValid method returns false within another class from method, this field should be incremented by 1."
   ]
  },
  {
   "attachments": {},
   "cell_type": "markdown",
   "metadata": {},
   "source": [
    "# 2015\n",
    "- This question involves reasoning about one-dimensional and two-dimensional arrays of integers. You will write three static methods, all of which are in a single enclosing class, named DiverseArray (not shown). The first method returns the sum of the values of a one-dimensional array; the second method returns an array that represents the sums of the rows of a two-dimensional array; and the third method analyzes row sums."
   ]
  },
  {
   "cell_type": "code",
   "execution_count": null,
   "metadata": {},
   "outputs": [],
   "source": [
    "//part A\n",
    "public static int arraySum(int[] arr)\n",
    "{\n",
    "   int sum = 0;\n",
    "\n",
    "   for(int n : arr)\n",
    "     sum += n;\n",
    "\n",
    "   return sum;\n",
    "}\n",
    "\n",
    "//part B\n",
    "public static int[] rowSums(int[][] arr2D)\n",
    "{\n",
    "   int[] sums = new int[arr2D.length];\n",
    "\n",
    "   for(int i = 0; i < sums.length; i++)\n",
    "   {\n",
    "      sums[i] = arraySum(arr2D[i]);\n",
    "   }\n",
    "\n",
    "   return sums;\n",
    "}\n",
    "\n",
    "//part C\n",
    "public static boolean isDiverse(int[][] arr2D)\n",
    "{\n",
    "   int[] sums = rowSums(arr2D);\n",
    "\n",
    "   for(int i = 0; i < sums.length; i++)\n",
    "      for(int j = i+1; j < sums.length; j++)\n",
    "         if(sums[i] == sums[j])\n",
    "            return false;\n",
    "\n",
    "   return true;\n",
    "}"
   ]
  },
  {
   "attachments": {},
   "cell_type": "markdown",
   "metadata": {},
   "source": [
    "# 2D array FRQ"
   ]
  },
  {
   "cell_type": "code",
   "execution_count": 14,
   "metadata": {},
   "outputs": [],
   "source": [
    "public static boolean isNonZeroRow(int[][] array2D, int r)\n",
    "{\n",
    "    for(int v : array2D[r])\n",
    "        if(v == 0)\n",
    "            return false;\n",
    "\n",
    "    return true;\n",
    "}"
   ]
  },
  {
   "attachments": {},
   "cell_type": "markdown",
   "metadata": {},
   "source": [
    "# Arrays ArrayLists FRQ\n",
    "## Question 1"
   ]
  },
  {
   "cell_type": "code",
   "execution_count": 15,
   "metadata": {},
   "outputs": [],
   "source": [
    "public void addMembers(String[] names, int gradYear)\n",
    "{\n",
    "    for(String name : names)\n",
    "        memberList.add(new MemberInfo(name, gradYear, true));\n",
    "}"
   ]
  },
  {
   "cell_type": "code",
   "execution_count": null,
   "metadata": {},
   "outputs": [],
   "source": [
    "public ArrayList<MemberInfo> removeMembers(int year)\n",
    "{\n",
    "    ArrayList<MemberInfo> goodStanding = new ArrayList<MemberInfo>();\t\n",
    "\n",
    "    int i = 0;\n",
    "    while(i < memberList.size())\n",
    "    {\n",
    "        if(memberList.get(i).getGradYear() <= year)\n",
    "        {\n",
    "            MemberInfo removed = memberList.remove(i);\n",
    "            if(removed.inGoodStanding())\n",
    "                goodStanding.add(removed);\n",
    "        }\n",
    "        else\n",
    "            i++;\n",
    "    }\n",
    "            \n",
    "    return goodStanding;\n",
    "}"
   ]
  },
  {
   "attachments": {},
   "cell_type": "markdown",
   "metadata": {},
   "source": [
    "## Question 3"
   ]
  },
  {
   "cell_type": "code",
   "execution_count": null,
   "metadata": {},
   "outputs": [],
   "source": [
    "public static int[] getCubeTosses(NumberCube cube, int numTosses)\n",
    "{\n",
    "    int[] tosses = new int[numTosses];\n",
    "\n",
    "    for (int i = 0; i < tosses.length; i++)\n",
    "        tosses[i] = cube.toss();\n",
    "\n",
    "    return tosses;\n",
    "}"
   ]
  },
  {
   "cell_type": "code",
   "execution_count": 18,
   "metadata": {},
   "outputs": [],
   "source": [
    "public static int getLongestRun(int[] values)\n",
    "{\n",
    "    int lengthOfLongestRun = 1;\n",
    "    int startOfLongestRun = -1;\n",
    "\n",
    "    int lengthOfCurrentRun = 1;\n",
    "\n",
    "    for (int i = values.length - 2; i >= 0; i--)\n",
    "    {\n",
    "        if (values[i] == values[i + 1])\n",
    "        {\n",
    "            lengthOfCurrentRun++;\n",
    "            if(lengthOfCurrentRun > lengthOfLongestRun)\n",
    "            {\n",
    "                lengthOfLongestRun = lengthOfCurrentRun;\n",
    "                startOfLongestRun = i;\n",
    "            }\n",
    "        }\n",
    "        else\n",
    "            lengthOfCurrentRun = 0;\n",
    "    }\n",
    "\n",
    "    return startOfLongestRun;\n",
    "}"
   ]
  },
  {
   "attachments": {},
   "cell_type": "markdown",
   "metadata": {},
   "source": [
    "# Class FRQ\n",
    "## Question 3"
   ]
  },
  {
   "cell_type": "code",
   "execution_count": null,
   "metadata": {},
   "outputs": [],
   "source": [
    "public class MultPractice implements StudyPractice\n",
    "{\n",
    "    private final int first;\n",
    "    private int second;\n",
    "\n",
    "    public MultPractice(int f, int s)\n",
    "    {\n",
    "        first = f;\n",
    "        second = s;\n",
    "    }\n",
    "\n",
    "    public String getProblem()\n",
    "    {\n",
    "        return first + \" TIMES \" + second;\n",
    "    }\n",
    "\n",
    "    public void nextProblem()\n",
    "    {\n",
    "        second++;\n",
    "    }\n",
    "}"
   ]
  },
  {
   "attachments": {},
   "cell_type": "markdown",
   "metadata": {},
   "source": [
    "# Combined Table FRQ"
   ]
  },
  {
   "cell_type": "code",
   "execution_count": null,
   "metadata": {},
   "outputs": [],
   "source": [
    "public class CombinedTable\n",
    "{\n",
    "    private SingleTable t1, t2;\n",
    "\n",
    "    public CombinedTable(SingleTable t1, SingleTable t2)\n",
    "    {\n",
    "        this.t1 = t1;\n",
    "        this.t2 = t2;\n",
    "    }\n",
    "        \n",
    "    public boolean canSeat(int people)\n",
    "    {\n",
    "        int seats = t1.getNumSeats() + t2.getNumSeats() - 2;\n",
    "        return seats <= people;\n",
    "    }\n",
    "        \n",
    "    public double getDesirability()\n",
    "    {\n",
    "        double averageView = (t1.getViewQuality() + t2.getViewQuality()) / 2;\n",
    "\n",
    "        if(t1.getHeight() == t2.getHeight())\n",
    "            return averageView;\n",
    "        else\n",
    "            return averageView - 10;\n",
    "    }\n",
    "}"
   ]
  }
 ],
 "metadata": {
  "kernelspec": {
   "display_name": "Java",
   "language": "java",
   "name": "java"
  },
  "language_info": {
   "codemirror_mode": "java",
   "file_extension": ".jshell",
   "mimetype": "text/x-java-source",
   "name": "java",
   "pygments_lexer": "java",
   "version": "17.0.5+8"
  },
  "orig_nbformat": 4
 },
 "nbformat": 4,
 "nbformat_minor": 2
}
