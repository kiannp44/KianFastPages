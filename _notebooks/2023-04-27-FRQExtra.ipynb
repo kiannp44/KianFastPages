{
 "cells": [
  {
   "attachments": {},
   "cell_type": "markdown",
   "metadata": {},
   "source": [
    "# 8 FRQs\n",
    "- toc: true\n",
    "- badges: true\n",
    "- comments: true\n",
    "- author: Kian Pasokhi\n",
    "- categories: [ Collegeboard]"
   ]
  },
  {
   "attachments": {},
   "cell_type": "markdown",
   "metadata": {},
   "source": [
    "- Most of these were done with the help of Marks Education Tutorials, and Vallandi Allulis on youtube."
   ]
  },
  {
   "attachments": {},
   "cell_type": "markdown",
   "metadata": {},
   "source": [
    "# 2014\n",
    "- Consider the following partial declaration for a WordScrambler class. The constructor for theWordScrambler class takes an even-length array of String objects and initializes the instance variable scrambledWords.\n",
    "\n",
    "- Takes a word a scrambles it.\n",
    "\n",
    "- What we want to do is iterate through the characters in word. If we have an A followed by not A, then we swap those two characters. Then we return the word."
   ]
  },
  {
   "cell_type": "code",
   "execution_count": 12,
   "metadata": {
    "vscode": {
     "languageId": "java"
    }
   },
   "outputs": [],
   "source": [
    "public static String scrambleWord (String word) {\n",
    "    for(int i = 1; i < word.length(); i++)  // set index to 1 and iterate through the string\n",
    "        {\n",
    "            if (word.substring(i - 1, i).equals(\"A\") && // letter prior to index\n",
    "            !word.substring(i, i + 1).equals(\"A\")) // Continues if not equal\n",
    "            {\n",
    "                word = word.substring(0, i - 1 ) + word.substring(i, i + 1) // from the 0 of index to the letter prior to the A we are trying to swap. Then capture character at index.\n",
    "                    + word.substring(i - 1, i) + word.substring(i + 1); // Passes parameter to the end of the string\n",
    "                i++;\n",
    "            }\n",
    "        }\n",
    "    \n",
    "        return word;\n",
    "    }"
   ]
  },
  {
   "attachments": {},
   "cell_type": "markdown",
   "metadata": {},
   "source": [
    "# 2020 "
   ]
  },
  {
   "attachments": {},
   "cell_type": "markdown",
   "metadata": {},
   "source": [
    "- Methods and Control Structures\n",
    "- Help detect if an error has occured when a number is entered or transmitted electoronically."
   ]
  },
  {
   "cell_type": "code",
   "execution_count": 13,
   "metadata": {
    "vscode": {
     "languageId": "java"
    }
   },
   "outputs": [],
   "source": [
    "public static boolean isValid(int numWithCheckDigit) {\n",
    "\n",
    "    int lastDigit = numWithCheckDigit % 10;\n",
    "    int num = numWithCheckDigit / 10;\n",
    "\n",
    "    if (getCheck(num) == lastDigit) {\n",
    "        return true;\n",
    "    }\n",
    "    else{\n",
    "        return false;\n",
    "    }\n",
    "}"
   ]
  },
  {
   "attachments": {},
   "cell_type": "markdown",
   "metadata": {},
   "source": [
    "In order to count how many times the isValid method returned false, a new integer counter field would need to be created for the CheckDigit class. Every time, either in the else statement in the isValid method, or whenever the isValid method returns false within another class from method, this field should be incremented by 1."
   ]
  },
  {
   "cell_type": "code",
   "execution_count": null,
   "metadata": {
    "vscode": {
     "languageId": "java"
    }
   },
   "outputs": [],
   "source": []
  },
  {
   "attachments": {},
   "cell_type": "markdown",
   "metadata": {},
   "source": [
    "# 2015\n",
    "- This question involves reasoning about one-dimensional and two-dimensional arrays of integers. You will write three static methods, all of which are in a single enclosing class, named DiverseArray (not shown). The first method returns the sum of the values of a one-dimensional array; the second method returns an array that represents the sums of the rows of a two-dimensional array; and the third method analyzes row sums."
   ]
  },
  {
   "cell_type": "code",
   "execution_count": null,
   "metadata": {
    "vscode": {
     "languageId": "java"
    }
   },
   "outputs": [],
   "source": [
    "//part A\n",
    "public static int arraySum(int[] arr)\n",
    "{\n",
    "   int sum = 0;\n",
    "\n",
    "   for(int n : arr)\n",
    "     sum += n;\n",
    "\n",
    "   return sum;\n",
    "}\n",
    "\n",
    "//part B\n",
    "public static int[] rowSums(int[][] arr2D)\n",
    "{\n",
    "   int[] sums = new int[arr2D.length];\n",
    "\n",
    "   for(int i = 0; i < sums.length; i++)\n",
    "   {\n",
    "      sums[i] = arraySum(arr2D[i]);\n",
    "   }\n",
    "\n",
    "   return sums;\n",
    "}\n",
    "\n",
    "//part C\n",
    "public static boolean isDiverse(int[][] arr2D)\n",
    "{\n",
    "   int[] sums = rowSums(arr2D);\n",
    "\n",
    "   for(int i = 0; i < sums.length; i++)\n",
    "      for(int j = i+1; j < sums.length; j++)\n",
    "         if(sums[i] == sums[j])\n",
    "            return false;\n",
    "\n",
    "   return true;\n",
    "}"
   ]
  }
 ],
 "metadata": {
  "kernelspec": {
   "display_name": "Java",
   "language": "java",
   "name": "java"
  },
  "language_info": {
   "codemirror_mode": "java",
   "file_extension": ".jshell",
   "mimetype": "text/x-java-source",
   "name": "Java",
   "pygments_lexer": "java",
   "version": "17.0.5+8"
  },
  "orig_nbformat": 4
 },
 "nbformat": 4,
 "nbformat_minor": 2
}
