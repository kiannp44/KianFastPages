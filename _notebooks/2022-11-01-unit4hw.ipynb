{
 "cells": [
  {
   "cell_type": "markdown",
   "metadata": {},
   "source": [
    "# Unit 4 Iteration\n",
    "- toc: true\n",
    "- badges: true\n",
    "- comments: true\n",
    "- author: Kian Pasokhi\n",
    "- categories: [ Collegeboard]\n",
    "\n"
   ]
  },
  {
   "cell_type": "code",
   "execution_count": 1,
   "metadata": {},
   "outputs": [
    {
     "name": "stdout",
     "output_type": "stream",
     "text": [
      "nice job!\n",
      "code code code\n",
      "supercalifragilisticexpialidocious\n"
     ]
    }
   ],
   "source": [
    "public class CaesarCipher {\n",
    "\n",
    "    public static String decode (String message) {\n",
    "      String decoded = \"\";\n",
    "      for (int i = 0; i<message.length(); i++) {\n",
    "        if (message.charAt(i) < 'a' || message.charAt(i) > 'z') {\n",
    "          decoded += message.charAt(i);\n",
    "          continue;\n",
    "        }\n",
    "        int letter = message.charAt(i)-'a';\n",
    "        int new_letter = (letter+3)%26;\n",
    "        decoded += (char)(new_letter+'a');\n",
    "      }\n",
    "      return decoded;\n",
    "    }\n",
    "  \n",
    "    public static void main(String[] args) {\n",
    "  \n",
    "        String message1 = \"kfzb gly!\";\n",
    "        System.out.println(decode(message1));\n",
    "  \n",
    "        String message2 = \"zlab zlab zlab\";\n",
    "        System.out.println(decode(message2));\n",
    "  \n",
    "        String message3 = \"prmbozxifcoxdfifpqfzbumfxifalzflrp\";\n",
    "        System.out.println(decode(message3));\n",
    "    }\n",
    "  }\n",
    "  \n",
    "  CaesarCipher.main(null);"
   ]
  }
 ],
 "metadata": {
  "kernelspec": {
   "display_name": "Java",
   "language": "java",
   "name": "java"
  },
  "language_info": {
   "codemirror_mode": "java",
   "file_extension": ".jshell",
   "mimetype": "text/x-java-source",
   "name": "java",
   "pygments_lexer": "java",
   "version": "11.0.16+8-post-Ubuntu-0ubuntu120.04"
  },
  "orig_nbformat": 4,
  "vscode": {
   "interpreter": {
    "hash": "916dbcbb3f70747c44a77c7bcd40155683ae19c65e1c03b4aa3499c5328201f1"
   }
  }
 },
 "nbformat": 4,
 "nbformat_minor": 2
}
