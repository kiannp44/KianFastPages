{
 "cells": [
  {
   "cell_type": "markdown",
   "metadata": {},
   "source": [
    "# Unit 4 Iteration\n",
    "- toc: true\n",
    "- badges: true\n",
    "- comments: true\n",
    "- author: Kian Pasokhi\n",
    "- categories: [ Collegeboard]\n",
    "\n"
   ]
  },
  {
   "cell_type": "markdown",
   "metadata": {},
   "source": [
    "# Hacks"
   ]
  },
  {
   "cell_type": "code",
   "execution_count": 1,
   "metadata": {
    "vscode": {
     "languageId": "java"
    }
   },
   "outputs": [
    {
     "name": "stdout",
     "output_type": "stream",
     "text": [
      "35\n"
     ]
    }
   ],
   "source": [
    "public class WhileLoops {\n",
    "    public static void main(String[] args) {\n",
    "        int i = 5450000;\n",
    "        int years = 0;\n",
    "        while (i < 30000000){\n",
    "            i *= 1.05;\n",
    "            years += 1;\n",
    "        }\n",
    "        System.out.println(years);\n",
    "    }\n",
    "}\n",
    "\n",
    "WhileLoops.main(null);\n"
   ]
  },
  {
   "cell_type": "code",
   "execution_count": 2,
   "metadata": {
    "vscode": {
     "languageId": "java"
    }
   },
   "outputs": [
    {
     "name": "stdout",
     "output_type": "stream",
     "text": [
      "10\n",
      "11\n",
      "12\n",
      "13\n",
      "14\n",
      "15\n"
     ]
    }
   ],
   "source": [
    "public class ForLoops {\n",
    "    public static void main(String[] args) {\n",
    "        for (int x = 10; x <= 15; x++) {\n",
    "            System.out.println(x);\n",
    "        }\n",
    "    }\n",
    "}\n",
    "ForLoops.main(null);"
   ]
  },
  {
   "cell_type": "code",
   "execution_count": 3,
   "metadata": {
    "vscode": {
     "languageId": "java"
    }
   },
   "outputs": [
    {
     "name": "stdout",
     "output_type": "stream",
     "text": [
      "50\n",
      "51\n",
      "53\n",
      "55\n",
      "57\n",
      "59\n",
      "60\n",
      "62\n",
      "64\n",
      "66\n",
      "68\n",
      "69\n",
      "71\n",
      "73\n",
      "75\n",
      "77\n"
     ]
    }
   ],
   "source": [
    "public class ForLoops {\n",
    "    public static void main(String[] args) {\n",
    "        for (int x = 10; x <= 25; x++) {\n",
    "            System.out.println(x * 9/5 + 32);\n",
    "        }\n",
    "    }\n",
    "}\n",
    "ForLoops.main(null);"
   ]
  },
  {
   "cell_type": "code",
   "execution_count": 4,
   "metadata": {
    "vscode": {
     "languageId": "java"
    }
   },
   "outputs": [
    {
     "name": "stdout",
     "output_type": "stream",
     "text": [
      "26\n"
     ]
    }
   ],
   "source": [
    "int numbers[] = {2, 5, 7, 12};\n",
    "int sum = 0;\n",
    "for (int num: numbers){\n",
    "    sum += num;\n",
    "}\n",
    "System.out.println(sum);"
   ]
  },
  {
   "cell_type": "code",
   "execution_count": 5,
   "metadata": {
    "vscode": {
     "languageId": "java"
    }
   },
   "outputs": [
    {
     "name": "stdout",
     "output_type": "stream",
     "text": [
      "nice job\n",
      "code code code\n",
      "supercalifragilisticexpialidocious\n"
     ]
    }
   ],
   "source": [
    "public class CaesarCipher {\n",
    "    private final String[] letters = {\"a\", \"b\", \"c\", \"d\", \"e\", \"f\", \"g\", \"h\", \"i\", \"j\", \"k\", \"l\", \"m\", \"n\", \"o\", \"p\", \"q\", \"r\", \"s\", \"t\", \"u\", \"v\", \"w\", \"x\", \"y\", \"z\"};\n",
    "    private String newMsg;\n",
    "\n",
    "    public String Decipher(String msg){\n",
    "        this.newMsg = \"\";\n",
    "        for(int i = 0; i < msg.length(); i++){\n",
    "            if(msg.substring(i, i+1).equals(\" \")){\n",
    "                this.newMsg += \" \";\n",
    "            }\n",
    "            else{\n",
    "                for(int k = 0; k < letters.length; k++){\n",
    "                    if(msg.substring(i, i+1).equals(this.letters[k])){\n",
    "                        if(k + 3 > 25){ // largest index is 25 because starts from 0\n",
    "                            this.newMsg += letters[k + 3 - 26]; // subtract 26 because still shift 26 letters\n",
    "                        }\n",
    "                        else{\n",
    "                            this.newMsg += letters[k + 3];\n",
    "                        }\n",
    "                    }\n",
    "                }\n",
    "            }\n",
    "        }\n",
    "        return this.newMsg;\n",
    "    }\n",
    "\n",
    "    public static void main(String[] args) {\n",
    "        // String message1 = \"Kfzb gly!\";\n",
    "        String message1 = \"kfzb gly!\";\n",
    "        String message2 = \"zlab zlab zlab\";\n",
    "        String message3 = \"prmbozxifcoxdfifpqfzbumfxifalzflrp\";\n",
    "\n",
    "        CaesarCipher solver = new CaesarCipher();\n",
    "        System.out.println(solver.Decipher(message1));\n",
    "        System.out.println(solver.Decipher(message2));\n",
    "        System.out.println(solver.Decipher(message3));\n",
    "    }\n",
    "}\n",
    "\n",
    "CaesarCipher.main(null);"
   ]
  }
 ],
 "metadata": {
  "kernelspec": {
   "display_name": "Java",
   "language": "java",
   "name": "java"
  },
  "language_info": {
   "codemirror_mode": "java",
   "file_extension": ".jshell",
   "mimetype": "text/x-java-source",
   "name": "Java",
   "pygments_lexer": "java",
   "version": "17.0.5+8"
  },
  "orig_nbformat": 4,
  "vscode": {
   "interpreter": {
    "hash": "916dbcbb3f70747c44a77c7bcd40155683ae19c65e1c03b4aa3499c5328201f1"
   }
  }
 },
 "nbformat": 4,
 "nbformat_minor": 2
}
