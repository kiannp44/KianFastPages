{
 "cells": [
  {
   "cell_type": "markdown",
   "metadata": {},
   "source": [
    "# Unit 4 Iteration\n",
    "- toc: true\n",
    "- badges: true\n",
    "- comments: true\n",
    "- author: Kian Pasokhi\n",
    "- categories: [ Collegeboard]\n",
    "\n"
   ]
  },
  {
   "cell_type": "markdown",
   "metadata": {},
   "source": [
    "While loops consist of 2 portions: the boolean expression and the brackets which store the looping code inside."
   ]
  },
  {
   "cell_type": "code",
   "execution_count": null,
   "metadata": {},
   "outputs": [],
   "source": [
    "while (condition) {\n",
    "    ...\n",
    "}"
   ]
  },
  {
   "cell_type": "markdown",
   "metadata": {},
   "source": [
    "The boolean expression is checked before the loop is started and every time the loop ends and is about to start anew. Usually, inside the loop something is done that slightly changes the conditions for the boolean expression until it reads false and ends. In the example below, the condition is x > 0, meaning that x has to be changed for the loop to stop. Inside the loop, x is decremented by 1 every time, changing the conditions over and over again until it finally returns false and terminates the while loop."
   ]
  },
  {
   "cell_type": "code",
   "execution_count": 7,
   "metadata": {},
   "outputs": [
    {
     "name": "stdout",
     "output_type": "stream",
     "text": [
      "5\n",
      "4\n",
      "3\n",
      "2\n",
      "1\n"
     ]
    }
   ],
   "source": [
    "int x = 5;\n",
    "\n",
    "// The boolean expression in this case is x > 0\n",
    "while (x > 0) {\n",
    "    System.out.println(x);\n",
    "    x--;\n",
    "}"
   ]
  },
  {
   "cell_type": "markdown",
   "metadata": {},
   "source": [
    "One unique application of while loops lie in infinite while loops, loops that run over and over again permanently. This is usually accomplished by setting the boolean condition to be true at all times. The only way to stop these loops are to use a break command, which ends the loop regardless of the conditions present.\n"
   ]
  },
  {
   "cell_type": "markdown",
   "metadata": {},
   "source": [
    "<mark>For Loop and Enhanced Loop</mark>\n",
    "- Enhanced for loops are easier to use and errors will usually happen less, as you don't have to manage steps by themselves, but for loops allows you to control everything about looping\n",
    "- For loops you can change by how many steps it iterates and if it goes backwards or forwards\n",
    "- Enhanced for loops will just go forward and increment its steps by 1"
   ]
  },
  {
   "cell_type": "markdown",
   "metadata": {},
   "source": [
    "# Hacks"
   ]
  },
  {
   "cell_type": "code",
   "execution_count": 1,
   "metadata": {},
   "outputs": [
    {
     "name": "stdout",
     "output_type": "stream",
     "text": [
      "35\n"
     ]
    }
   ],
   "source": [
    "public class WhileLoops {\n",
    "    public static void main(String[] args) {\n",
    "        int i = 5450000;\n",
    "        int years = 0;\n",
    "        while (i < 30000000){\n",
    "            i *= 1.05;\n",
    "            years += 1;\n",
    "        }\n",
    "        System.out.println(years);\n",
    "    }\n",
    "}\n",
    "\n",
    "WhileLoops.main(null);\n"
   ]
  },
  {
   "cell_type": "code",
   "execution_count": 2,
   "metadata": {},
   "outputs": [
    {
     "name": "stdout",
     "output_type": "stream",
     "text": [
      "10\n",
      "11\n",
      "12\n",
      "13\n",
      "14\n",
      "15\n"
     ]
    }
   ],
   "source": [
    "public class ForLoops {\n",
    "    public static void main(String[] args) {\n",
    "        for (int x = 10; x <= 15; x++) {\n",
    "            System.out.println(x);\n",
    "        }\n",
    "    }\n",
    "}\n",
    "ForLoops.main(null);"
   ]
  },
  {
   "cell_type": "code",
   "execution_count": 3,
   "metadata": {},
   "outputs": [
    {
     "name": "stdout",
     "output_type": "stream",
     "text": [
      "50\n",
      "51\n",
      "53\n",
      "55\n",
      "57\n",
      "59\n",
      "60\n",
      "62\n",
      "64\n",
      "66\n",
      "68\n",
      "69\n",
      "71\n",
      "73\n",
      "75\n",
      "77\n"
     ]
    }
   ],
   "source": [
    "public class ForLoops {\n",
    "    public static void main(String[] args) {\n",
    "        for (int x = 10; x <= 25; x++) {\n",
    "            System.out.println(x * 9/5 + 32);\n",
    "        }\n",
    "    }\n",
    "}\n",
    "ForLoops.main(null);"
   ]
  },
  {
   "cell_type": "code",
   "execution_count": 4,
   "metadata": {},
   "outputs": [
    {
     "name": "stdout",
     "output_type": "stream",
     "text": [
      "26\n"
     ]
    }
   ],
   "source": [
    "int numbers[] = {2, 5, 7, 12};\n",
    "int sum = 0;\n",
    "for (int num: numbers){\n",
    "    sum += num;\n",
    "}\n",
    "System.out.println(sum);"
   ]
  },
  {
   "cell_type": "code",
   "execution_count": 5,
   "metadata": {},
   "outputs": [
    {
     "name": "stdout",
     "output_type": "stream",
     "text": [
      "nice job\n",
      "code code code\n",
      "supercalifragilisticexpialidocious\n"
     ]
    }
   ],
   "source": [
    "public class CaesarCipher {\n",
    "    private final String[] letters = {\"a\", \"b\", \"c\", \"d\", \"e\", \"f\", \"g\", \"h\", \"i\", \"j\", \"k\", \"l\", \"m\", \"n\", \"o\", \"p\", \"q\", \"r\", \"s\", \"t\", \"u\", \"v\", \"w\", \"x\", \"y\", \"z\"};\n",
    "    private String newMsg;\n",
    "\n",
    "    public String Decipher(String msg){\n",
    "        this.newMsg = \"\";\n",
    "        for(int i = 0; i < msg.length(); i++){\n",
    "            if(msg.substring(i, i+1).equals(\" \")){\n",
    "                this.newMsg += \" \";\n",
    "            }\n",
    "            else{\n",
    "                for(int k = 0; k < letters.length; k++){\n",
    "                    if(msg.substring(i, i+1).equals(this.letters[k])){\n",
    "                        if(k + 3 > 25){ // largest index is 25 because starts from 0\n",
    "                            this.newMsg += letters[k + 3 - 26]; // subtract 26 because still shift 26 letters\n",
    "                        }\n",
    "                        else{\n",
    "                            this.newMsg += letters[k + 3];\n",
    "                        }\n",
    "                    }\n",
    "                }\n",
    "            }\n",
    "        }\n",
    "        return this.newMsg;\n",
    "    }\n",
    "\n",
    "    public static void main(String[] args) {\n",
    "        // String message1 = \"Kfzb gly!\";\n",
    "        String message1 = \"kfzb gly!\";\n",
    "        String message2 = \"zlab zlab zlab\";\n",
    "        String message3 = \"prmbozxifcoxdfifpqfzbumfxifalzflrp\";\n",
    "\n",
    "        CaesarCipher solver = new CaesarCipher();\n",
    "        System.out.println(solver.Decipher(message1));\n",
    "        System.out.println(solver.Decipher(message2));\n",
    "        System.out.println(solver.Decipher(message3));\n",
    "    }\n",
    "}\n",
    "\n",
    "CaesarCipher.main(null);"
   ]
  }
 ],
 "metadata": {
  "kernelspec": {
   "display_name": "Java",
   "language": "java",
   "name": "java"
  },
  "language_info": {
   "codemirror_mode": "java",
   "file_extension": ".jshell",
   "mimetype": "text/x-java-source",
   "name": "java",
   "pygments_lexer": "java",
   "version": "17.0.5+8"
  },
  "orig_nbformat": 4,
  "vscode": {
   "interpreter": {
    "hash": "916dbcbb3f70747c44a77c7bcd40155683ae19c65e1c03b4aa3499c5328201f1"
   }
  }
 },
 "nbformat": 4,
 "nbformat_minor": 2
}
