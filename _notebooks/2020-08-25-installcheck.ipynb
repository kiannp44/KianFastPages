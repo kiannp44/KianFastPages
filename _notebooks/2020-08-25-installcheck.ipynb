{
 "cells": [
  {
   "cell_type": "markdown",
   "metadata": {},
   "source": [
    "# Install Checks\n",
    "> Week 1: This is a productive blog that includes checks for installs of python, java, javac...\n"
   ]
  },
  {
   "cell_type": "code",
   "execution_count": 1,
   "metadata": {
    "vscode": {
     "languageId": "shellscript"
    }
   },
   "outputs": [
    {
     "ename": "NameError",
     "evalue": "name 'python' is not defined",
     "output_type": "error",
     "traceback": [
      "\u001b[0;31m---------------------------------------------------------------------------\u001b[0m",
      "\u001b[0;31mNameError\u001b[0m                                 Traceback (most recent call last)",
      "\u001b[1;32m/home/kianp/vscode/KianFastPages/_notebooks/2020-08-25-installcheck.ipynb Cell 2\u001b[0m in \u001b[0;36m<cell line: 1>\u001b[0;34m()\u001b[0m\n\u001b[0;32m----> <a href='vscode-notebook-cell://wsl%2Bubuntu/home/kianp/vscode/KianFastPages/_notebooks/2020-08-25-installcheck.ipynb#W0sdnNjb2RlLXJlbW90ZQ%3D%3D?line=0'>1</a>\u001b[0m python \u001b[39m-\u001b[39m\u001b[39m-\u001b[39mversion\n\u001b[1;32m      <a href='vscode-notebook-cell://wsl%2Bubuntu/home/kianp/vscode/KianFastPages/_notebooks/2020-08-25-installcheck.ipynb#W0sdnNjb2RlLXJlbW90ZQ%3D%3D?line=1'>2</a>\u001b[0m java \u001b[39m-\u001b[39m\u001b[39m-\u001b[39mversion\n\u001b[1;32m      <a href='vscode-notebook-cell://wsl%2Bubuntu/home/kianp/vscode/KianFastPages/_notebooks/2020-08-25-installcheck.ipynb#W0sdnNjb2RlLXJlbW90ZQ%3D%3D?line=2'>3</a>\u001b[0m javac \u001b[39m-\u001b[39mversion\n",
      "\u001b[0;31mNameError\u001b[0m: name 'python' is not defined"
     ]
    }
   ],
   "source": [
    "python --version\n",
    "java --version\n",
    "javac -version"
   ]
  }
 ],
 "metadata": {
  "kernelspec": {
   "display_name": "Python 3.9.12 ('base')",
   "language": "python",
   "name": "python3"
  },
  "language_info": {
   "codemirror_mode": {
    "name": "ipython",
    "version": 3
   },
   "file_extension": ".py",
   "mimetype": "text/x-python",
   "name": "python",
   "nbconvert_exporter": "python",
   "pygments_lexer": "ipython3",
   "version": "3.9.12"
  },
  "orig_nbformat": 4,
  "vscode": {
   "interpreter": {
    "hash": "8c8857ce64b21bd3ccd4fbc6254adfd729bc4820a97fa6d21d3364e118603856"
   }
  }
 },
 "nbformat": 4,
 "nbformat_minor": 2
}
