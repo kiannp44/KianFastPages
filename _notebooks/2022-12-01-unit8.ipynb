{
 "cells": [
  {
   "cell_type": "markdown",
   "metadata": {},
   "source": [
    "# Unit 8 - 2D Array\n",
    "- toc: true\n",
    "- badges: true\n",
    "- comments: true\n",
    "- author: Kian Pasokhi\n",
    "- categories: [ Collegeboard]\n"
   ]
  },
  {
   "cell_type": "markdown",
   "metadata": {},
   "source": [
    "- Array = a data structure used to implement a collection (list) of primitive or object reference data\n",
    "- Element = a single value in the array\n",
    "- Index = the position of the element in the array (starts from 0)\n",
    "- Array Length = the number of elements in the array\n"
   ]
  },
  {
   "cell_type": "markdown",
   "metadata": {},
   "source": [
    "### Example of an Array"
   ]
  },
  {
   "cell_type": "code",
   "execution_count": 1,
   "metadata": {},
   "outputs": [
    {
     "name": "stdout",
     "output_type": "stream",
     "text": [
      "arr[0][0] = 1\n",
      "arr[1][2] = 6\n",
      "arr[2][1] = 8\n"
     ]
    }
   ],
   "source": [
    "public class Test {\n",
    "\n",
    "    public static void main(String[] args) {\n",
    " \n",
    "       int[][] arr = {\n",
    "          { 1, 2, 3 },\n",
    "          { 4, 5, 6 },\n",
    "          { 7, 8, 9 }\n",
    "       };\n",
    " \n",
    "       System.out.println(\"arr[0][0] = \" + arr[0][0]);\n",
    "       System.out.println(\"arr[1][2] = \" + arr[1][2]);\n",
    "       System.out.println(\"arr[2][1] = \" + arr[2][1]);\n",
    "       \n",
    "    }\n",
    " \n",
    " }\n",
    " Test.main(null);"
   ]
  },
  {
   "cell_type": "markdown",
   "metadata": {},
   "source": [
    "### Accessing Elements of Array"
   ]
  },
  {
   "cell_type": "code",
   "execution_count": 2,
   "metadata": {},
   "outputs": [],
   "source": [
    "public class Test {\n",
    "\n",
    "    public static void main(String[] args) {\n",
    " \n",
    "      String[][] arr = {\n",
    "         { \"a\", \"f\", \"g\" },\n",
    "         { \"b\", \"e\", \"h\" },\n",
    "         { \"c\", \"d\", \"i\" }\n",
    "      };\n",
    " \n",
    "      // Print the last element in the array!\n",
    "       print()\n",
    "    }\n",
    " \n",
    " }\n",
    " Test.main(null);"
   ]
  },
  {
   "cell_type": "code",
   "execution_count": 3,
   "metadata": {},
   "outputs": [
    {
     "name": "stdout",
     "output_type": "stream",
     "text": [
      "Use nested for loops to find the longest or shortest string!\n"
     ]
    }
   ],
   "source": [
    "public class Test {\n",
    "\n",
    "    public static void main(String[] args) {\n",
    "  \n",
    "        String[][] arr = {\n",
    "            { \"Atlanta\", \"Baltimore\", \"Chicago\" },\n",
    "            { \"Australia\", \"Boston\", \"Cincinnati\" },\n",
    "            { \"Austin\", \"Beaumont\", \"Columbus\" }\n",
    "        };\n",
    "\n",
    "        String longest = arr[0][0];\n",
    "        \n",
    "    }\n",
    " \n",
    " }\n",
    "Test.main(null);"
   ]
  }
 ],
 "metadata": {
  "kernelspec": {
   "display_name": "Java",
   "language": "java",
   "name": "java"
  },
  "language_info": {
   "codemirror_mode": "java",
   "file_extension": ".jshell",
   "mimetype": "text/x-java-source",
   "name": "java",
   "pygments_lexer": "java",
   "version": "17.0.5+8"
  },
  "orig_nbformat": 4
 },
 "nbformat": 4,
 "nbformat_minor": 2
}
