{
 "cells": [
  {
   "cell_type": "markdown",
   "metadata": {},
   "source": [
    "# Java Primitive Notebook\n",
    "> Week 1, MPG calculator using primitives\n",
    "- toc: true\n",
    "- badges: true\n",
    "- comments: true\n",
    "- author: Kian Pasokhi\n",
    "- categories: [fastpages, jupyter]\n",
    "- image: /images/computer.jpg\n",
    "\n"
   ]
  },
  {
   "cell_type": "code",
   "execution_count": 1,
   "metadata": {
    "vscode": {
     "languageId": "java"
    }
   },
   "outputs": [
    {
     "name": "stdout",
     "output_type": "stream",
     "text": [
      "Enter car make (ex: Ford Escape): Ford Bronco\n",
      "What year? (ex: 2022): 1970\n",
      "Miles driven during single trip: 216\n",
      "Enter gallons burned: 12\n",
      "The 1970 Ford Bronco had an mpg of 18.0 miles per gallon \n"
     ]
    }
   ],
   "source": [
    "import java.util.Scanner;\n",
    "\n",
    "public class mpg {\n",
    "    public static void main(String[] args) {    \n",
    "\n",
    "        // Car MPG calculator\n",
    "\n",
    "        Scanner input;\n",
    "\n",
    "        // define integers to be use for inputs and ending text\n",
    "        int tripMiles = 0;\n",
    "\n",
    "        int gallonsBurned = 0;\n",
    "\n",
    "        double mpg = 0.0;\n",
    "\n",
    "        // define strings to be used for inputs and ending text\n",
    "        \n",
    "        String car = null;\n",
    "\n",
    "        String caryear = null;\n",
    "\n",
    "        String finalString;\n",
    "        \n",
    "       \n",
    "\n",
    "        // input for the car\n",
    "        // primitive string\n",
    "        input =  new Scanner(System.in);\n",
    "        System.out.print(\"Enter car make (ex: Ford Escape): \");\n",
    "        try {\n",
    "            car = input.nextLine();\n",
    "            System.out.println(car);\n",
    "        } catch (Exception e) { // this may never happen\n",
    "            System.out.println(\"Not an String, \" + e);\n",
    "        }\n",
    "        input.close();\n",
    "\n",
    "        // input for car year\n",
    "        // primitive string\n",
    "        input =  new Scanner(System.in);\n",
    "        System.out.print(\"What year? (ex: 2022): \");\n",
    "        try {\n",
    "            caryear = input.nextLine();\n",
    "            System.out.println(caryear);\n",
    "        } catch (Exception e) { // this may never happen\n",
    "            System.out.println(\"Not a String, \" + e);\n",
    "        }\n",
    "        input.close();\n",
    "        \n",
    "        // input total miles driven during single trip\n",
    "        // primitive int\n",
    "        input = new Scanner(System.in);\n",
    "        System.out.print(\"Miles driven during single trip: \");\n",
    "        try {\n",
    "            tripMiles = input.nextInt();\n",
    "            System.out.println(tripMiles);\n",
    "        } catch (Exception e) {  // if not an integer\n",
    "            System.out.println(\"Not an integer (form like 159), \" + e);\n",
    "        }\n",
    "        input.close();\n",
    "        \n",
    "        // input total gallons burned during a trip\n",
    "        // primitive int\n",
    "        input = new Scanner(System.in);\n",
    "        System.out.print(\"Enter gallons burned: \");\n",
    "        try {\n",
    "            gallonsBurned = input.nextInt();\n",
    "            System.out.println(gallonsBurned);\n",
    "        } catch (Exception e) {  // if not an integer\n",
    "            System.out.println(\"Not an integer (form like 159), \" + e);\n",
    "        }\n",
    "        input.close();\n",
    "\n",
    "\n",
    "        \n",
    "        // math function for finding the final MPG of the car\n",
    "        mpg = tripMiles / gallonsBurned; \n",
    "\n",
    "        // compound assignment operator to create final output\n",
    "        finalString = \"The \" + caryear + \" \" + car + \" had an mpg of \" + mpg + \" miles per gallon \" ;\n",
    "\n",
    "        System.out.println(finalString); \n",
    "    }\n",
    "}\n",
    "// running the class\n",
    "mpg.main(null);"
   ]
  }
 ],
 "metadata": {
  "kernelspec": {
   "display_name": "Java",
   "language": "java",
   "name": "java"
  },
  "language_info": {
   "codemirror_mode": "java",
   "file_extension": ".jshell",
   "mimetype": "text/x-java-source",
   "name": "Java",
   "pygments_lexer": "java",
   "version": "11.0.16+8-post-Ubuntu-0ubuntu120.04"
  },
  "orig_nbformat": 4,
  "vscode": {
   "interpreter": {
    "hash": "916dbcbb3f70747c44a77c7bcd40155683ae19c65e1c03b4aa3499c5328201f1"
   }
  }
 },
 "nbformat": 4,
 "nbformat_minor": 2
}
