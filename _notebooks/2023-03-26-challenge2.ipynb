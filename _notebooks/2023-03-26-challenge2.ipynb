{
 "cells": [
  {
   "attachments": {},
   "cell_type": "markdown",
   "metadata": {},
   "source": [
    "# Challenge 2\n",
    "- toc: true\n",
    "- badges: true\n",
    "- comments: true\n",
    "- author: Kian Pasokhi\n",
    "- categories: [ Collegeboard]"
   ]
  },
  {
   "cell_type": "code",
   "execution_count": 1,
   "metadata": {
    "vscode": {
     "languageId": "java"
    }
   },
   "outputs": [
    {
     "name": "stdout",
     "output_type": "stream",
     "text": [
      "1 2 3 4 5 6 "
     ]
    }
   ],
   "source": [
    "import java.util.LinkedList;\n",
    "import java.util.Queue;\n",
    "\n",
    "public class MergeQueues {\n",
    "    public static void main(String[] args) {\n",
    "        Queue<Integer> q1 = new LinkedList<>();\n",
    "        q1.add(1);\n",
    "        q1.add(3);\n",
    "        q1.add(5);\n",
    "\n",
    "        Queue<Integer> q2 = new LinkedList<>();\n",
    "        q2.add(2);\n",
    "        q2.add(4);\n",
    "        q2.add(6);\n",
    "\n",
    "        Queue<Integer> mergedQueue = merge(q1, q2);\n",
    "\n",
    "        // Print the merged queue\n",
    "        while (!mergedQueue.isEmpty()) {\n",
    "            System.out.print(mergedQueue.poll() + \" \");\n",
    "        }\n",
    "    }\n",
    "\n",
    "    public static Queue<Integer> merge(Queue<Integer> q1, Queue<Integer> q2) {\n",
    "        Queue<Integer> mergedQueue = new LinkedList<>();\n",
    "\n",
    "        while (!q1.isEmpty() && !q2.isEmpty()) {\n",
    "            if (q1.peek() < q2.peek()) {\n",
    "                mergedQueue.add(q1.poll());\n",
    "            } else {\n",
    "                mergedQueue.add(q2.poll());\n",
    "            }\n",
    "        }\n",
    "\n",
    "        // Add remaining elements of q1, if any\n",
    "        while (!q1.isEmpty()) {\n",
    "            mergedQueue.add(q1.poll());\n",
    "        }\n",
    "\n",
    "        // Add remaining elements of q2, if any\n",
    "        while (!q2.isEmpty()) {\n",
    "            mergedQueue.add(q2.poll());\n",
    "        }\n",
    "\n",
    "        return mergedQueue;\n",
    "    }\n",
    "}\n",
    "MergeQueues.main(null)"
   ]
  }
 ],
 "metadata": {
  "kernelspec": {
   "display_name": "Java",
   "language": "java",
   "name": "java"
  },
  "language_info": {
   "codemirror_mode": "java",
   "file_extension": ".jshell",
   "mimetype": "text/x-java-source",
   "name": "Java",
   "pygments_lexer": "java",
   "version": "17.0.5+8"
  },
  "orig_nbformat": 4
 },
 "nbformat": 4,
 "nbformat_minor": 2
}
