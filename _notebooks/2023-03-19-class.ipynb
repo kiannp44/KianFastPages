{
 "cells": [
  {
   "attachments": {},
   "cell_type": "markdown",
   "metadata": {},
   "source": [
    "# Generic Types\n",
    "- toc: true\n",
    "- badges: true\n",
    "- comments: true\n",
    "- author: Kian Pasokhi\n",
    "- categories: [ Collegeboard]"
   ]
  },
  {
   "attachments": {},
   "cell_type": "markdown",
   "metadata": {},
   "source": [
    "# Notes\n",
    "\n",
    "- Access modifier: An access modifier specifies the visibility of a class or its members. There are four access modifiers in Java: public, private, protected, and default.\n",
    "- Constructors: A constructor is a special method that is called when an object of the class is created. It is used to initialize the object's state. A class can have multiple constructors, each with a different set of parameters.\n",
    "- Modifiers/Setters: Modifiers are methods that are used to modify the state of an object. They are also called setter methods because they set the value of an object's instance variables. A modifier method takes an argument and sets the value of the corresponding instance variable.\n",
    "- Getters: Getters are methods that are used to access the value of an object's instance variables. They are also called accessor methods. A getter method returns the value of the corresponding instance variable.\n",
    "- Instance variables: Instance variables are variables that are declared inside a class but outside any method. They represent the state of an object and can have different values for different objects of the same class.\n",
    "- Methods: Methods are functions that are declared inside a class. They are used to perform operations on the object's state.\n",
    "\n",
    "## Example"
   ]
  },
  {
   "cell_type": "code",
   "execution_count": 1,
   "metadata": {
    "vscode": {
     "languageId": "java"
    }
   },
   "outputs": [],
   "source": [
    "public class Person {\n",
    "    // instance variables\n",
    "    private String name;\n",
    "    private int age;\n",
    "    \n",
    "    // constructor\n",
    "    public Person(String name, int age) {\n",
    "        this.name = name;\n",
    "        this.age = age;\n",
    "    }\n",
    "    \n",
    "    // modifiers/setters\n",
    "    public void setName(String name) {\n",
    "        this.name = name;\n",
    "    }\n",
    "    \n",
    "    public void setAge(int age) {\n",
    "        this.age = age;\n",
    "    }\n",
    "    \n",
    "    // getters\n",
    "    public String getName() {\n",
    "        return name;\n",
    "    }\n",
    "    \n",
    "    public int getAge() {\n",
    "        return age;\n",
    "    }\n",
    "    \n",
    "    // method\n",
    "    public void sayHello() {\n",
    "        System.out.println(\"Hello, my name is \" + name + \" and I am \" + age + \" years old.\");\n",
    "    }\n",
    "}"
   ]
  },
  {
   "cell_type": "markdown",
   "metadata": {},
   "source": [
    "# Code Hacks"
   ]
  },
  {
   "cell_type": "code",
   "execution_count": 4,
   "metadata": {
    "vscode": {
     "languageId": "java"
    }
   },
   "outputs": [],
   "source": [
    "import java.util.LinkedList;\n",
    "import java.util.Queue;\n",
    "import java.util.Stack;\n",
    "\n",
    "    public static void main(String[] args) {\n",
    "        // Create a linked list\n",
    "        LinkedList<String> linkedList = new LinkedList<>();\n",
    "\n",
    "        // Add elements to the linked list\n",
    "        linkedList.add(\"Apple\");\n",
    "        linkedList.add(\"Banana\");\n",
    "        linkedList.add(\"Orange\");\n",
    "\n",
    "        // Print the linked list\n",
    "        System.out.println(\"Linked List: \" + linkedList);\n",
    "\n",
    "        // Create a queue\n",
    "        Queue<String> queue = new LinkedList<>();\n",
    "\n",
    "        // Add elements to the queue\n",
    "        queue.add(\"John\");\n",
    "        queue.add(\"Mary\");\n",
    "        queue.add(\"Alice\");\n",
    "\n",
    "        // Print the queue\n",
    "        System.out.println(\"Queue: \" + queue);\n",
    "\n",
    "        // Create a stack\n",
    "        Stack<String> stack = new Stack<>();\n",
    "\n",
    "        // Add elements to the stack\n",
    "        stack.push(\"Red\");\n",
    "        stack.push(\"Green\");\n",
    "        stack.push(\"Blue\");\n",
    "\n",
    "        // Print the stack\n",
    "        System.out.println(\"Stack: \" + stack);\n",
    "    }\n"
   ]
  }
 ],
 "metadata": {
  "kernelspec": {
   "display_name": "Java",
   "language": "java",
   "name": "java"
  },
  "language_info": {
   "codemirror_mode": "java",
   "file_extension": ".jshell",
   "mimetype": "text/x-java-source",
   "name": "Java",
   "pygments_lexer": "java",
   "version": "17.0.5+8"
  },
  "orig_nbformat": 4
 },
 "nbformat": 4,
 "nbformat_minor": 2
}
