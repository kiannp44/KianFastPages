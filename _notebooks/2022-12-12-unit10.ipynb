{
 "cells": [
  {
   "attachments": {},
   "cell_type": "markdown",
   "metadata": {},
   "source": [
    "# Unit 10 - Recursion \n",
    "- toc: true\n",
    "- badges: true\n",
    "- comments: true\n",
    "- author: Kian Pasokhi\n",
    "- categories: [ Collegeboard]\n"
   ]
  },
  {
   "attachments": {},
   "cell_type": "markdown",
   "metadata": {},
   "source": [
    "Two parts to the method: \n",
    "- a base case \n",
    "- recursive call. \n",
    "\n",
    "After multiple calls, the base case is reached where recursion is stopped and a value is returned\n",
    "- Should be written first to avoid infinite recursion \n",
    "\n",
    "<mark>Recursive method:</mark> Calls itself\n",
    "<mark>Merge Sort:</mark> can be used to sort ArrayLists\n",
    "<mark>Base case:</mark> after multiple calls base case is reached and its where recursion is stopped and value is returned --> should be written first to avoid infinite recursion\n",
    "<mark>Recursive calls:</mark> are apart of the method - each have different parameters\n",
    "All recursions can be written as loops\n",
    "<mark>Linear recursion:</mark>  a function that only makes a single call to itself each time the function runs\n",
    "<mark>Selection sort:</mark> algorithm works by repeatedly finding the minimum element\n",
    "\n",
    "Each call has different values that lead to the base case being reached\n",
    "Recursive methods have a call stack that keeps track of all the times that the recursive function is called, as well as their individual parameters"
   ]
  }
 ],
 "metadata": {
  "kernelspec": {
   "display_name": "Python 3",
   "language": "python",
   "name": "python3"
  },
  "language_info": {
   "name": "python",
   "version": "3.10.9 (main, Dec 15 2022, 17:11:09) [Clang 14.0.0 (clang-1400.0.29.202)]"
  },
  "orig_nbformat": 4,
  "vscode": {
   "interpreter": {
    "hash": "b0fa6594d8f4cbf19f97940f81e996739fb7646882a419484c72d19e05852a7e"
   }
  }
 },
 "nbformat": 4,
 "nbformat_minor": 2
}
