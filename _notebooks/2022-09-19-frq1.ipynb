{
 "cells": [
  {
   "cell_type": "markdown",
   "metadata": {},
   "source": [
    "# FRQ Questions\n",
    "- toc: true\n",
    "- badges: true\n",
    "- comments: true\n",
    "- author: Kian Pasokhi\n",
    "- categories: [ Collegeboard]"
   ]
  },
  {
   "cell_type": "markdown",
   "metadata": {},
   "source": [
    "# 2019 Free Response Question\n",
    "[Source PDF](https://apcentral.collegeboard.org/media/pdf/ap22-frq-computer-science-a.pdf?course=ap-computer-science-a)\n",
    "\n",
    "- Assignment is to create instantiate a getScore method.\n"
   ]
  },
  {
   "cell_type": "markdown",
   "metadata": {},
   "source": [
    "# getScore Method"
   ]
  },
  {
   "cell_type": "code",
   "execution_count": null,
   "metadata": {},
   "outputs": [],
   "source": [
    "public int getScore()\n",
    "{\n",
    "  int score = 0;\n",
    "  \n",
    "  if(levelOne.goalReached()) // if level 1 is completed...\n",
    "  {\n",
    "    score += levelOne.getPoints(); // adds level 1 points\n",
    "    \n",
    "    if(levelTwo.goalReached()) // if level 2 is completed...\n",
    "    {\n",
    "      score += levelTwo.getPoints(); // adds level 2 points\n",
    "      \n",
    "      if(levelThree.goalReached()) // if level 3 is completed...\n",
    "      {\n",
    "        score += levelThree.getPoints(); // adds level 3 points\n",
    "      }\n",
    "    }\n",
    "  }\n",
    "  \n",
    "  if(isBonus()) \n",
    "    score *= 3; // multiplied by 3\n",
    "  \n",
    "  return score;  // returns final score\n",
    "}"
   ]
  },
  {
   "cell_type": "markdown",
   "metadata": {},
   "source": [
    "# playManyTimes Method\n"
   ]
  },
  {
   "cell_type": "code",
   "execution_count": null,
   "metadata": {},
   "outputs": [],
   "source": [
    "public int playManyTimes(int num)\n",
    "{\n",
    "  play();\n",
    "  int bestScore = getScore();\n",
    "  \n",
    "  for(int g = 2; g <= num; g++)\n",
    "  {\n",
    "    play();\n",
    "    int score = getScore();\n",
    "    if(score > bestScore)\n",
    "      bestScore = score;\n",
    "  }\n",
    "  \n",
    "  return bestScore;\n",
    "}"
   ]
  },
  {
   "cell_type": "markdown",
   "metadata": {},
   "source": [
    "# Sources\n",
    "https://developer.mozilla.org/en-US/docs/Web/JavaScript/Reference/Operators/Addition_assignment\n",
    "<br>\n",
    "<br>\n",
    "https://apcentral.collegeboard.org/media/pdf/ap22-frq-computer-science-a.pdf?course=ap-computer-science-a\n",
    "<br>\n",
    "<br>\n",
    "https://www.w3schools.com/java/default.asp\n",
    "\n"
   ]
  }
 ],
 "metadata": {
  "kernelspec": {
   "display_name": "Java",
   "language": "java",
   "name": "java"
  },
  "language_info": {
   "name": "java",
   "version": "3.8.10"
  },
  "orig_nbformat": 4,
  "vscode": {
   "interpreter": {
    "hash": "916dbcbb3f70747c44a77c7bcd40155683ae19c65e1c03b4aa3499c5328201f1"
   }
  }
 },
 "nbformat": 4,
 "nbformat_minor": 2
}
