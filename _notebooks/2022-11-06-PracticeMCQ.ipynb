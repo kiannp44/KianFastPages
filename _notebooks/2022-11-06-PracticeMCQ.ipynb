{
 "cells": [
  {
   "cell_type": "markdown",
   "metadata": {},
   "source": [
    "# MCQ Practice Test\n",
    "- toc: true\n",
    "- badges: true\n",
    "- comments: true\n",
    "- author: Kian Pasokhi\n",
    "- categories: [ Collegeboard]\n",
    "- image: /images/mcq.png\n"
   ]
  },
  {
   "cell_type": "markdown",
   "metadata": {},
   "source": [
    "# Score\n",
    "\n",
    "![](my_icons/mcq.png)\n",
    "31/40\n"
   ]
  },
  {
   "cell_type": "markdown",
   "metadata": {},
   "source": [
    "## Question 5\n",
    "- Answer was C : I got this wrong because I was rushing through the question and forgot about the last number and chose the one closest to it. It would multiply and add 3 one last time."
   ]
  },
  {
   "cell_type": "markdown",
   "metadata": {},
   "source": [
    "## Question 6\n",
    "- Answer was E: I wasn't even close to getting this one right, I honestly was very confused on this question adn I think I need to work more on questions like this."
   ]
  },
  {
   "cell_type": "markdown",
   "metadata": {},
   "source": [
    "## Question 7\n",
    "- Answer was D: I made a new object rather than changing the information to the already created object. The question was a little difficult to read and understand to me due to the terms."
   ]
  },
  {
   "cell_type": "markdown",
   "metadata": {},
   "source": [
    "## Question 22\n",
    "- Answer was B: Honestly this was a very long question and there were a lot of information that I had to read, comprehend and remember which caused me to trip up the question and get it wrong."
   ]
  },
  {
   "cell_type": "markdown",
   "metadata": {},
   "source": [
    "# Question 23\n",
    "- Answer was B: I got this wrong because I didn't think about the logic of how it would start at 1 rather than 0 which is usually how it works."
   ]
  },
  {
   "cell_type": "markdown",
   "metadata": {},
   "source": [
    "## Question 25\n",
    "- Answer was A: The answer that I chose did not have a completed method that could be run, and I misread it and got it wrong."
   ]
  },
  {
   "cell_type": "markdown",
   "metadata": {},
   "source": [
    "## Question 33\n",
    "- Answer was A: Since K is never incremented, the and will always be true since the loop will always be less than 4, so it would be an infinite loop."
   ]
  },
  {
   "cell_type": "markdown",
   "metadata": {},
   "source": [
    "# Question 35\n",
    "- Answer was D: Since num is being divided by 10 forever until it is 0, it goes in reverse. I didn't really understand this and I think I need to work more on lists and loops."
   ]
  },
  {
   "cell_type": "markdown",
   "metadata": {},
   "source": [
    "# Question 36\n",
    "- Answer was B: I just read what each variable was equal to and since there was so many it was hard to keep up with the logic part of it."
   ]
  },
  {
   "cell_type": "markdown",
   "metadata": {},
   "source": [
    "## Unit 1 Primitives"
   ]
  },
  {
   "cell_type": "markdown",
   "metadata": {},
   "source": [
    "## Unit 2 Using Objects"
   ]
  },
  {
   "cell_type": "code",
   "execution_count": 1,
   "metadata": {},
   "outputs": [
    {
     "name": "stdout",
     "output_type": "stream",
     "text": [
      "4\n",
      "18\n",
      "36\n",
      "121\n",
      "\n",
      "4\n",
      "12\n",
      "18\n",
      "16\n",
      "0\n"
     ]
    }
   ],
   "source": [
    "public class WordMatch {\n",
    "  private String secret;\n",
    "\n",
    "  public WordMatch (String word) {\n",
    "    this.secret = word;\n",
    "  }\n",
    "\n",
    "  public int scoreGuess (String guess) {\n",
    "    String word_copy = secret;\n",
    "    int score = 0;\n",
    "    for (int i = 0; i<secret.length(); i++) {\n",
    "      if (word_copy.indexOf(guess) == 0) score++;\n",
    "      word_copy = word_copy.substring(1, word_copy.length());\n",
    "    }\n",
    "    return score*guess.length()*guess.length();\n",
    "  }\n",
    "\n",
    "  public static void main (String[] args) {\n",
    "    WordMatch game1 = new WordMatch(\"mississippi\");\n",
    "    System.out.println(game1.scoreGuess(\"i\"));\n",
    "    System.out.println(game1.scoreGuess(\"iss\"));\n",
    "    System.out.println(game1.scoreGuess(\"issipp\"));\n",
    "    System.out.println(game1.scoreGuess(\"mississippi\"));\n",
    "    System.out.println();\n",
    "    WordMatch game2 = new WordMatch(\"aaaabb\");\n",
    "    System.out.println(game2.scoreGuess(\"a\"));\n",
    "    System.out.println(game2.scoreGuess(\"aa\"));\n",
    "    System.out.println(game2.scoreGuess(\"aaa\"));\n",
    "    System.out.println(game2.scoreGuess(\"aabb\"));\n",
    "    System.out.println(game2.scoreGuess(\"c\"));\n",
    "  }\n",
    "}\n",
    "\n",
    "WordMatch.main(null);"
   ]
  },
  {
   "cell_type": "code",
   "execution_count": 2,
   "metadata": {},
   "outputs": [
    {
     "name": "stdout",
     "output_type": "stream",
     "text": [
      "nation\n",
      "con\n"
     ]
    }
   ],
   "source": [
    "public class WordMatch {\n",
    "    private String secret;\n",
    "  \n",
    "    public WordMatch (String word) {\n",
    "      this.secret = word;\n",
    "    }\n",
    "  \n",
    "    public int scoreGuess (String guess) {\n",
    "      String word_copy = secret;\n",
    "      int score = 0;\n",
    "      for (int i = 0; i<secret.length(); i++) {\n",
    "        if (word_copy.indexOf(guess) == 0) score++;\n",
    "        word_copy = word_copy.substring(1, word_copy.length());\n",
    "      }\n",
    "      return score*guess.length()*guess.length();\n",
    "    }\n",
    "  \n",
    "    public String findBetterGuess (String guess1, String guess2) {\n",
    "      int score1 = scoreGuess(guess1);\n",
    "      int score2 = scoreGuess(guess2);\n",
    "      if (score1 > score2) return guess1;\n",
    "      if (score1 < score2) return guess2;\n",
    "      return (guess1.compareTo(guess2) > 0 ? guess1 : guess2);\n",
    "    }\n",
    "  \n",
    "    public static void main (String[] args) {\n",
    "      WordMatch game1 = new WordMatch(\"concatenation\");\n",
    "      System.out.println(game1.findBetterGuess(\"ten\", \"nation\"));\n",
    "      System.out.println(game1.findBetterGuess(\"con\", \"cat\"));\n",
    "    }\n",
    "  }\n",
    "  \n",
    "  WordMatch.main(null);"
   ]
  },
  {
   "cell_type": "markdown",
   "metadata": {},
   "source": [
    "## Unit 3 Booleans/If Statements"
   ]
  },
  {
   "cell_type": "code",
   "execution_count": 4,
   "metadata": {},
   "outputs": [
    {
     "name": "stdout",
     "output_type": "stream",
     "text": [
      "2.0\n",
      "9.0\n",
      "2.0\n",
      "-0.9377422517014509 or -17.06225774829855\n"
     ]
    }
   ],
   "source": [
    "import java.util.*;\n",
    "\n",
    "public class Quadratic {\n",
    "\n",
    "    public static void main (String[] args) {\n",
    "\n",
    "        Scanner sc = new Scanner(System.in);\n",
    "\n",
    "        double a = sc.nextDouble();\n",
    "        System.out.println(a);\n",
    "        double b = sc.nextDouble();\n",
    "        System.out.println(b);\n",
    "        double c = sc.nextDouble();\n",
    "        System.out.println(c);\n",
    "\n",
    "        double quadratic1 = (-1*b + Math.sqrt(b*b-4*a*c))/2*a;\n",
    "        double quadratic2 = (-1*b - Math.sqrt(b*b-4*a*c))/2*a;\n",
    "\n",
    "        System.out.println(quadratic1 + \" or \" + quadratic2);\n",
    "    }\n",
    "\n",
    "}\n",
    "\n",
    "Quadratic.main(null);"
   ]
  },
  {
   "cell_type": "code",
   "execution_count": 5,
   "metadata": {},
   "outputs": [
    {
     "name": "stdout",
     "output_type": "stream",
     "text": [
      "Input number - 5.0\n",
      "Positive\n"
     ]
    }
   ],
   "source": [
    "import java.util.*;\n",
    "\n",
    "public class Sign {\n",
    "\n",
    "    public static void main (String[] args) {\n",
    "\n",
    "        Scanner sc = new Scanner(System.in);\n",
    "\n",
    "        System.out.print(\"Input number - \");\n",
    "        double input = sc.nextDouble();\n",
    "        System.out.println(input);\n",
    "\n",
    "        if (input < 0) {\n",
    "            System.out.println(\"Negative\");\n",
    "        }\n",
    "        else if (input > 0) {\n",
    "            System.out.println(\"Positive\");\n",
    "        }\n",
    "        else {\n",
    "            System.out.println(0);\n",
    "        }\n",
    "        \n",
    "\n",
    "    }\n",
    "\n",
    "}\n",
    "\n",
    "Sign.main(null);"
   ]
  },
  {
   "cell_type": "code",
   "execution_count": null,
   "metadata": {},
   "outputs": [],
   "source": [
    "public static int numberOfLeapYears(int year1, int year2) {\n",
    "    int count = 0;\n",
    "    for (int i = year1; i <= year2; i++) {\n",
    "      // add to count if year is leap year\n",
    "      if (isLeapYear(i)) count++;\n",
    "    }\n",
    "    return count;\n",
    "  }"
   ]
  },
  {
   "cell_type": "code",
   "execution_count": null,
   "metadata": {},
   "outputs": [],
   "source": [
    "public static int dayOfWeek(int month, int day, int year) {\n",
    "    int day = firstDayOfYear(year) + dayOfYear(month, day, year) - 1;\n",
    "    // only 7 days in a week\n",
    "    return day % 7;\n",
    "  }"
   ]
  },
  {
   "cell_type": "markdown",
   "metadata": {},
   "source": [
    "## Unit 4 Iteration"
   ]
  },
  {
   "cell_type": "code",
   "execution_count": 6,
   "metadata": {},
   "outputs": [
    {
     "name": "stdout",
     "output_type": "stream",
     "text": [
      "nice job!\n",
      "code code code\n",
      "supercalifragilisticexpialidocious\n"
     ]
    }
   ],
   "source": [
    "public class CaesarCipher {\n",
    "\n",
    "    public static String decode (String message) {\n",
    "      String decoded = \"\";\n",
    "      for (int i = 0; i<message.length(); i++) {\n",
    "        if (message.charAt(i) < 'a' || message.charAt(i) > 'z') {\n",
    "          decoded += message.charAt(i);\n",
    "          continue;\n",
    "        }\n",
    "        int letter = message.charAt(i)-'a';\n",
    "        int new_letter = (letter+3)%26;\n",
    "        decoded += (char)(new_letter+'a');\n",
    "      }\n",
    "      return decoded;\n",
    "    }\n",
    "  \n",
    "    public static void main(String[] args) {\n",
    "  \n",
    "        String message1 = \"kfzb gly!\";\n",
    "        System.out.println(decode(message1));\n",
    "  \n",
    "        String message2 = \"zlab zlab zlab\";\n",
    "        System.out.println(decode(message2));\n",
    "  \n",
    "        String message3 = \"prmbozxifcoxdfifpqfzbumfxifalzflrp\";\n",
    "        System.out.println(decode(message3));\n",
    "    }\n",
    "  }\n",
    "  \n",
    "  CaesarCipher.main(null);"
   ]
  },
  {
   "cell_type": "markdown",
   "metadata": {},
   "source": [
    "# Unit 5 Using Classes"
   ]
  },
  {
   "cell_type": "code",
   "execution_count": 7,
   "metadata": {},
   "outputs": [
    {
     "name": "stdout",
     "output_type": "stream",
     "text": [
      "0\n",
      "NaN\n",
      "0\n",
      "7000.0\n",
      "1\n",
      "9000.0\n",
      "2\n",
      "10222.2\n"
     ]
    }
   ],
   "source": [
    "public class StepTracker {\n",
    "\n",
    "    private double Steps = 0;\n",
    "    private int activeDays = 0;\n",
    "    private int totalDays = 0;\n",
    "    private double cutoff = 0;\n",
    "\n",
    "    public StepTracker (double Steps) {\n",
    "        this.cutoff = Steps;\n",
    "    }\n",
    "\n",
    "    public void addDailySteps (int Steps) {\n",
    "        this.Steps = this.Steps + Steps;\n",
    "\n",
    "        if (Steps >= cutoff) {\n",
    "            this.activeDays++;\n",
    "        }\n",
    "\n",
    "        this.totalDays++;\n",
    "\n",
    "    }\n",
    "\n",
    "    public int activeDays () {\n",
    "        return activeDays;\n",
    "    }\n",
    "\n",
    "    public double averageSteps() {\n",
    "        return this.Steps/totalDays;\n",
    "    }\n",
    "\n",
    "    public static void main (String[] args) {\n",
    "        StepTracker tr = new StepTracker(10000);\n",
    "        System.out.println(tr.activeDays());\n",
    "        System.out.println(tr.averageSteps());\n",
    "        tr.addDailySteps(9000);\n",
    "        tr.addDailySteps(5000);\n",
    "        System.out.println(tr.activeDays());\n",
    "        System.out.println(tr.averageSteps());\n",
    "        tr.addDailySteps(13000);\n",
    "        System.out.println(tr.activeDays());\n",
    "        System.out.println(tr.averageSteps());\n",
    "        tr.addDailySteps(23000);\n",
    "        tr.addDailySteps(1111);\n",
    "        System.out.println(tr.activeDays());\n",
    "        System.out.println(tr.averageSteps());\n",
    "    }\n",
    "}\n",
    "\n",
    "StepTracker.main(null);"
   ]
  },
  {
   "cell_type": "markdown",
   "metadata": {},
   "source": [
    "## Unit 6 Arrays"
   ]
  },
  {
   "cell_type": "code",
   "execution_count": null,
   "metadata": {},
   "outputs": [],
   "source": [
    "public void addMembers(String[] names, int gradYear) {\n",
    "    for (int i = 0; i<names.length; i++) {\n",
    "      memberList.add(new Member(names[i], gradYear, true));\n",
    "    }\n",
    "  }"
   ]
  }
 ],
 "metadata": {
  "kernelspec": {
   "display_name": "Java",
   "language": "java",
   "name": "java"
  },
  "language_info": {
   "codemirror_mode": "java",
   "file_extension": ".jshell",
   "mimetype": "text/x-java-source",
   "name": "java",
   "pygments_lexer": "java",
   "version": "11.0.16+8-post-Ubuntu-0ubuntu120.04"
  },
  "orig_nbformat": 4,
  "vscode": {
   "interpreter": {
    "hash": "31f2aee4e71d21fbe5cf8b01ff0e069b9275f58929596ceb00d14d90e3e16cd6"
   }
  }
 },
 "nbformat": 4,
 "nbformat_minor": 2
}
