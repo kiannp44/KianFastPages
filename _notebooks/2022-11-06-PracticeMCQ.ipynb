{
 "cells": [
  {
   "cell_type": "markdown",
   "metadata": {},
   "source": [
    "# MCQ Practice Test\n",
    "- toc: true\n",
    "- badges: true\n",
    "- comments: true\n",
    "- author: Kian Pasokhi\n",
    "- categories: [ Collegeboard]\n",
    "- image: /images/mcq.png\n"
   ]
  },
  {
   "cell_type": "markdown",
   "metadata": {},
   "source": [
    "# Score\n",
    "\n",
    "![](my_icons/mcq.png)\n",
    "31/40\n"
   ]
  },
  {
   "cell_type": "markdown",
   "metadata": {},
   "source": [
    "# Corrections\n",
    "Corrections with reasoning and explaining."
   ]
  },
  {
   "cell_type": "markdown",
   "metadata": {},
   "source": [
    "## Question 5\n",
    "- Answer was C : I got this wrong because I was rushing through the question and forgot about the last number and chose the one closest to it. It would multiply and add 3 one last time."
   ]
  },
  {
   "cell_type": "markdown",
   "metadata": {},
   "source": [
    "## Question 6\n",
    "- Answer was E: I wasn't even close to getting this one right, I honestly was very confused on this question adn I think I need to work more on questions like this."
   ]
  },
  {
   "cell_type": "markdown",
   "metadata": {},
   "source": [
    "## Question 7\n",
    "- Answer was D: I made a new object rather than changing the information to the already created object. The question was a little difficult to read and understand to me due to the terms."
   ]
  },
  {
   "cell_type": "markdown",
   "metadata": {},
   "source": [
    "## Question 22\n",
    "- Answer was B: Honestly this was a very long question and there were a lot of information that I had to read, comprehend and remember which caused me to trip up the question and get it wrong."
   ]
  },
  {
   "cell_type": "markdown",
   "metadata": {},
   "source": [
    "## Question 23\n",
    "- Answer was B: I got this wrong because I didn't think about the logic of how it would start at 1 rather than 0 which is usually how it works."
   ]
  },
  {
   "cell_type": "markdown",
   "metadata": {},
   "source": [
    "## Question 25\n",
    "- Answer was A: The answer that I chose did not have a completed method that could be run, and I misread it and got it wrong."
   ]
  },
  {
   "cell_type": "markdown",
   "metadata": {},
   "source": [
    "## Question 33\n",
    "- Answer was A: Since K is never incremented, the and will always be true since the loop will always be less than 4, so it would be an infinite loop."
   ]
  },
  {
   "cell_type": "markdown",
   "metadata": {},
   "source": [
    "## Question 35\n",
    "- Answer was D: Since num is being divided by 10 forever until it is 0, it goes in reverse. I didn't really understand this and I think I need to work more on lists and loops."
   ]
  },
  {
   "cell_type": "markdown",
   "metadata": {},
   "source": [
    "## Question 36\n",
    "- Answer was B: I just read what each variable was equal to and since there was so many it was hard to keep up with the logic part of it."
   ]
  }
 ],
 "metadata": {
  "kernelspec": {
   "display_name": "Java",
   "language": "java",
   "name": "java"
  },
  "language_info": {
   "codemirror_mode": "java",
   "file_extension": ".jshell",
   "mimetype": "text/x-java-source",
   "name": "java",
   "pygments_lexer": "java",
   "version": "11.0.16+8-post-Ubuntu-0ubuntu120.04"
  },
  "orig_nbformat": 4,
  "vscode": {
   "interpreter": {
    "hash": "31f2aee4e71d21fbe5cf8b01ff0e069b9275f58929596ceb00d14d90e3e16cd6"
   }
  }
 },
 "nbformat": 4,
 "nbformat_minor": 2
}
