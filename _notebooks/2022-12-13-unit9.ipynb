{
 "cells": [
  {
   "attachments": {},
   "cell_type": "markdown",
   "metadata": {},
   "source": [
    "# Unit 9 - Inheritance \n",
    "- toc: true\n",
    "- badges: true\n",
    "- comments: true\n",
    "- author: Kian Pasokhi\n",
    "- categories: [ Collegeboard]\n"
   ]
  },
  {
   "attachments": {},
   "cell_type": "markdown",
   "metadata": {},
   "source": [
    "# What is Inheritance?\n",
    "Imagine you wanted to create a racing game. You would need a bunch of different cars-bugattis, lamborghinis, rolls royce. Each of these cars would have different features; they would have different fuel types, tires, and engines. A car like an Aston Martin would have a spoiler inside the car for aerodynamics. Lambos have cools doors for when you pull up to a race. But all of these cars would also have a lot in common; all cars have gear shifts, gas, breaks, and steering.\n",
    "\n",
    "We could model each car with its own class, with attributes and methods specific to each car. But we would find that we're repeating a lot of the same code over and over - it doesn't really make sense to redefine the methods for gas and breaks for every single car, when it will do the same thing.\n",
    "\n",
    "This is a great use case for inheritance. We can define a base \"Car Class\" that has the methods and attributes common to every car - steering methods, gas and break methods, and attributes like speed and miles per gallon.\n",
    "\n",
    "Each car will \"extend\" from this base class. This means that it \"inherits\" the methods and attributes in the base Car Class (this is why it's called Inheritance). But each of the new car classes, for example a Bugatti Class, will have its own special methods and attributes."
   ]
  },
  {
   "cell_type": "code",
   "execution_count": 2,
   "metadata": {
    "vscode": {
     "languageId": "java"
    }
   },
   "outputs": [],
   "source": [
    "public class Car {\n",
    "    protected String brandName;\n",
    "    protected double range;\n",
    "    protected double doorNumber;\n",
    "    protected double maxSpeed;\n",
    "    \n",
    "    // Constructor for the attributes present in the superclass\n",
    "    public Car(String brandName, double range, double doorNumber, double maxSpeed) {\n",
    "        this.brandName = brandName;\n",
    "        this.range = range;\n",
    "        this.doorNumber = doorNumber;\n",
    "        this.maxSpeed = maxSpeed;\n",
    "    }\n",
    "    \n",
    "    public void gas () {\n",
    "        System.out.println(\"Go!\");\n",
    "    }\n",
    "    \n",
    "    public void brake () {\n",
    "        System.out.println(\"Stop!\");\n",
    "    }\n",
    "    \n",
    "    public void gearShift () {\n",
    "        System.out.println(\"Use the stick\");\n",
    "    }\n",
    "    \n",
    "    public void steer () {\n",
    "        System.out.println(\"turning left...\");\n",
    "    }\n",
    "    \n",
    "    public void horn () {\n",
    "        System.out.print(\"honking... \");\n",
    "    }\n",
    "}"
   ]
  },
  {
   "cell_type": "code",
   "execution_count": 3,
   "metadata": {
    "vscode": {
     "languageId": "java"
    }
   },
   "outputs": [
    {
     "name": "stdout",
     "output_type": "stream",
     "text": [
      "Go!\n",
      "Use the gear selector next to the wheel\n",
      "turning right...\n",
      "honking... eugh\n",
      "honking... brrr\n"
     ]
    }
   ],
   "source": [
    "public class TeslaModelS extends Car {\n",
    "    // Additional attribute not present in the superclass\n",
    "    protected String hornSound; \n",
    "    \n",
    "    // Constructor for Subclass\n",
    "    public TeslaModelS(String brandName, double range, double doorNumber, double maxSpeed, String hornSound) {\n",
    "        // We use the Superclass constructor for the shared attributes through the keyword \"super\"\n",
    "        super(brandName, range, doorNumber, maxSpeed);\n",
    "        // hornSound is not in the Superclass, so we add it separately in the constructor\n",
    "        this.hornSound = hornSound;\n",
    "    }\n",
    "    \n",
    "    // We use override to change the functionality in the subclass of an existing method in the superclass\n",
    "    @Override\n",
    "    public void gearShift () {\n",
    "        System.out.println(\"Use the gear selector next to the wheel\");\n",
    "    }\n",
    "    public void steer () {\n",
    "        System.out.println(\"turning right...\");\n",
    "    }\n",
    "    \n",
    "    // Here, we don't fully change the functionality of the existing horn method in the superclass\n",
    "    // Instead, we take all of the functionality of the superclass method, and then add on to it\n",
    "    public void horn () {\n",
    "        super.horn();\n",
    "        System.out.println(hornSound);\n",
    "    }\n",
    "    \n",
    "    public static void main(String[] args) {\n",
    "        // 5 argument constructor\n",
    "        TeslaModelS modelS = new TeslaModelS(\"Tesla\", 396, 4, 200, \"eugh\");\n",
    "        // Example of late binding\n",
    "        Car car = new TeslaModelS(\"Tesla\", 396, 4, 200, \"brrr\");\n",
    "        // We can still use the methods from the child class, even though we didn't mention them in the subclass!\n",
    "        modelS.gas();\n",
    "        // Using the overridden method\n",
    "        modelS.gearShift();\n",
    "        modelS.steer();\n",
    "        // Using the method we added on to\n",
    "        modelS.horn();\n",
    "        car.horn();\n",
    "    }\n",
    "    \n",
    "    \n",
    "}\n",
    "TeslaModelS.main(null);"
   ]
  },
  {
   "attachments": {},
   "cell_type": "markdown",
   "metadata": {},
   "source": [
    "# Overriding Methods\n",
    "Overriding allows a subclass or child class to provide a specific implementation of a method that has already been provided by a super-classes or parent classes. When a method in a subclass has the same name, same parameters or signature, and same return type (or sub-type) as a method in its super-class, then the method in the subclass will override the method in the super-class."
   ]
  },
  {
   "attachments": {},
   "cell_type": "markdown",
   "metadata": {},
   "source": [
    "# Vocab\n",
    "\n",
    "- <mark>Inheritance: </mark> define a base class like a car class that has methods and attributes common. For example, there can be a car steering method, gas and break method, and attributes like speed\n",
    "- <mark> Extend: </mark>Each car that is created will extend from this base class thus inheriting the methods and attributes defined in the base class\n",
    "New car classes with have special features\n",
    "- <mark>Super Class:</mark> Base class that has all the generic methods (base Car Class that has generic methods for all cars)\n",
    "protected: access modifier isn't affected by outside\n",
    "- <mark> Subclass constructor: </mark> inherits all methods and attributes from super class\n",
    "In car example, TeslaModelS was a subclass\n",
    "In personal example, IphoneX and IphoneV are subclasses\n",
    "- <mark> super Keyword: </mark>superclass objects - used to call superclass methods and access the constructor\n",
    "use constructors defined in the superclass\n",
    "can add specific attributes\n",
    "super() is the use of the keywords\n",
    "- <mark> Overloading </mark> a method (same name different parameters): two methods with the same name but different arguments; static polymorphism or compile time polymorphism\n",
    "- <mark> Overriding </mark>a method (same signature of a method): subclass has specific implementation of a method that the superclass provides\n",
    "- <mark> Polymorphism:</mark> doing one task in many ways through inheritance\n",
    "gearShift in cars can be used in two different ways in two different classes - two implementations through overriding"
   ]
  },
  {
   "attachments": {},
   "cell_type": "markdown",
   "metadata": {},
   "source": [
    "# Hacks 1-3"
   ]
  },
  {
   "cell_type": "code",
   "execution_count": 1,
   "metadata": {
    "vscode": {
     "languageId": "java"
    }
   },
   "outputs": [
    {
     "name": "stdout",
     "output_type": "stream",
     "text": [
      "On!\n",
      "The screen is now dark!\n",
      "Yes!\n",
      "Iphone is on...\n",
      "photo... taken\n",
      "photo... saved\n",
      "Dark mode is on!\n",
      "Length is 1\n",
      "Length is 1 and height is 1\n"
     ]
    }
   ],
   "source": [
    "public class Phone {\n",
    "    protected String brandName;\n",
    "    protected double version;\n",
    "    protected double cameraNumber;\n",
    "    protected double maxVolume;\n",
    "    \n",
    "    // Constructor for the attributes present in the superclass\n",
    "    public Phone(String brandName, double version, double cameraNumber, double maxVolume) {\n",
    "        this.brandName = brandName;\n",
    "        this.version = version;\n",
    "        this.cameraNumber = cameraNumber;\n",
    "        this.maxVolume = maxVolume;\n",
    "    }\n",
    "    \n",
    "    public void flash () {\n",
    "        System.out.println(\"On!\");\n",
    "    }\n",
    "    \n",
    "    public void homebutton () {\n",
    "        System.out.println(\"Yes!\");\n",
    "    }\n",
    "    \n",
    "    public void darkmode () {\n",
    "        System.out.println(\"on!\");\n",
    "    }\n",
    "    \n",
    "    public void powerbutton () {\n",
    "        System.out.println(\"turning on...\");\n",
    "    }\n",
    "    \n",
    "    public void camera () {\n",
    "        System.out.print(\"photo... \");\n",
    "    }\n",
    "}\n",
    "public class IphoneX extends Phone {\n",
    "    // Additional attribute not present in the superclass\n",
    "    protected String cameratype; \n",
    "    \n",
    "    // Constructor for Subclass\n",
    "    public IphoneX(String brandName, double version, double cameraNumber, double maxVolume, String cameratype) {\n",
    "        // We use the Superclass constructor for the shared attributes through the keyword \"super\"\n",
    "        super(brandName, version, cameraNumber, maxVolume);\n",
    "        // hornSound is not in the Superclass, so we add it separately in the constructor\n",
    "        this.cameratype = cameratype;\n",
    "    }\n",
    "    \n",
    "    // We use override to change the functionality in the subclass of an existing method in the superclass\n",
    "    @Override\n",
    "    public void darkmode () {\n",
    "        System.out.println(\"The screen is now dark!\");\n",
    "    }\n",
    "    public void powerbutton () {\n",
    "        System.out.println(\"Iphone is on...\");\n",
    "    }\n",
    "    \n",
    "    // Here, we don't fully change the functionality of the existing horn method in the superclass\n",
    "    // Instead, we take all of the functionality of the superclass method, and then add on to it\n",
    "    public void camera () {\n",
    "        super.camera();\n",
    "        System.out.println(cameratype);\n",
    "    }\n",
    "    \n",
    "    public static void main(String[] args) {\n",
    "        // 5 argument constructor\n",
    "        IphoneX modelS = new IphoneX(\"Tesla\", 396, 4, 200, \"taken\");\n",
    "        // Example of late binding\n",
    "        Phone phone = new IphoneX(\"Tesla\", 396, 4, 200, \"saved\");\n",
    "        // We can still use the methods from the child class, even though we didn't mention them in the subclass!\n",
    "        modelS.flash();\n",
    "        // Using the overridden method\n",
    "        modelS.darkmode();\n",
    "        modelS.homebutton();\n",
    "        modelS.powerbutton();\n",
    "        // Using the method we added on to\n",
    "        modelS.camera();\n",
    "        phone.camera();\n",
    "    } \n",
    "}\n",
    "IphoneX.main(null);\n",
    "\n",
    "public class IphoneV extends Phone {\n",
    "    \n",
    "    public IphoneV (String brandName, double version, double cameraNumber, double maxVolume) {\n",
    "        super(brandName, version, cameraNumber, maxVolume);\n",
    "    }\n",
    "    \n",
    "    @Override\n",
    "    public void darkmode () {\n",
    "        System.out.println(\"Dark mode is on!\");\n",
    "    }\n",
    "    \n",
    "    public void dimensions (int a) {\n",
    "        System.out.println(\"Length is \" + a);\n",
    "    }\n",
    "    \n",
    "    public void dimensions (int a, int b) {\n",
    "        System.out.println(\"Length is \" + a + \" and height is \" + b);\n",
    "    }\n",
    "    \n",
    "        \n",
    "    public static void main(String[] args) {\n",
    "        // 4 superclass argument constructor\n",
    "        IphoneV phone2 = new IphoneV(\"Apple\", 348, 4, 145);\n",
    "        // Using the overridden method\n",
    "        phone2.darkmode();\n",
    "        // Using the overloaded method\n",
    "        phone2.dimensions(1);\n",
    "        phone2.dimensions(1, 1);\n",
    "\n",
    "    }\n",
    "}\n",
    "IphoneV.main(null);"
   ]
  }
 ],
 "metadata": {
  "kernelspec": {
   "display_name": "Java",
   "language": "java",
   "name": "java"
  },
  "language_info": {
   "codemirror_mode": "java",
   "file_extension": ".jshell",
   "mimetype": "text/x-java-source",
   "name": "Java",
   "pygments_lexer": "java",
   "version": "17.0.5+8"
  },
  "orig_nbformat": 4,
  "vscode": {
   "interpreter": {
    "hash": "b0fa6594d8f4cbf19f97940f81e996739fb7646882a419484c72d19e05852a7e"
   }
  }
 },
 "nbformat": 4,
 "nbformat_minor": 2
}
