{
 "cells": [
  {
   "attachments": {},
   "cell_type": "markdown",
   "metadata": {},
   "source": [
    "# Extra Credit 03/28\n",
    "- toc: true\n",
    "- badges: true\n",
    "- comments: true\n",
    "- author: Kian Pasokhi\n",
    "- categories: [ Collegeboard]"
   ]
  },
  {
   "attachments": {},
   "cell_type": "markdown",
   "metadata": {},
   "source": [
    "- Computer science is used in fields outside of CS majors\n",
    "- You don't need a CS major to work a CS job\n",
    "- Applied physics, cyber security, computer engineering; constanly updating cirriculum and classes at cal state san marcos\n",
    "- joining clubs is important when doing an undergrad\n",
    "- Lots of internship oppurtunities at cal state\n",
    " - networking is key to having a good career and clubs and internships are a good way to network\n",
    " - try to avoid unpaid internships (Personally I kind of disagree with this.)\n",
    " - apply even if you feel underqualified - worse thing worse is a no\n",
    " - ask faculty members to read essay and ask others for help.\n",
    "- Grants are government money to get you to school\n",
    "- Scholarships are private money that helps you get to school\n",
    "- Loans\n",
    " - avoid getting loan in general\n",
    " - Unsubsidized loan: dont have to worry on intrest on loan, puts some intrest on loan\n",
    " - subsidized loan: partially funded by gov\n",
    "- Many cs majors go into military industrial complex after graduating\n",
    "- sometimes you get payed to go to graduate school\n"
   ]
  },
  {
   "cell_type": "markdown",
   "metadata": {},
   "source": [
    "![](my_icons/ec1.png)\n",
    "![](my_icons/ec2.png)\n",
    "![](my_icons/ec3.png)\n",
    "\n"
   ]
  }
 ],
 "metadata": {
  "kernelspec": {
   "display_name": "Java",
   "language": "java",
   "name": "java"
  },
  "language_info": {
   "name": "java"
  },
  "orig_nbformat": 4
 },
 "nbformat": 4,
 "nbformat_minor": 2
}
