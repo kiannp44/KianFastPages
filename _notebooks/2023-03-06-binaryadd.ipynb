{
 "cells": [
  {
   "attachments": {},
   "cell_type": "markdown",
   "metadata": {},
   "source": [
    "# Week\n",
    "- toc: true\n",
    "- badges: true\n",
    "- comments: true\n",
    "- author: Kian Pasokhi\n",
    "- categories: [ PLB]"
   ]
  },
  {
   "cell_type": "code",
   "execution_count": 5,
   "metadata": {
    "vscode": {
     "languageId": "java"
    }
   },
   "outputs": [
    {
     "name": "stdout",
     "output_type": "stream",
     "text": [
      "Decimal Sum: 2\n",
      "Binary Sum: 10\n"
     ]
    }
   ],
   "source": [
    "int a = 1;\n",
    "int b = 1;\n",
    "\n",
    "int sum = a+b;\n",
    "\n",
    "System.out.println(\"Decimal Sum: \" + sum); // Print Decimal Sum\n",
    "System.out.println(\"Binary Sum: \" + Integer.toBinaryString(sum)); // Print and Convert to Binary Sum"
   ]
  },
  {
   "cell_type": "code",
   "execution_count": 3,
   "metadata": {
    "vscode": {
     "languageId": "java"
    }
   },
   "outputs": [
    {
     "name": "stdout",
     "output_type": "stream",
     "text": [
      "Main method before changeInt(n): n = 5\n",
      "In changeInt method\n",
      "\tBefore n += 10: n = 5\n",
      "\tAfter n += 10: n = 15\n",
      "Main method after changeInt(n): n = 5\n"
     ]
    }
   ],
   "source": [
    "public class IntByValue {\n",
    "    \n",
    "    public static void changeInt(int n) {\n",
    "        System.out.println(\"In changeInt method\");\n",
    "        System.out.println(\"\\tBefore n += 10: n = \" + n); // prints 5\n",
    "        n = n += 10;\n",
    "        System.out.println(\"\\tAfter n += 10: n = \" + n); // prints 10\n",
    "    }\n",
    "\n",
    "    public static void main(String[] args) {\n",
    "        int n = 5;\n",
    "        System.out.println(\"Main method before changeInt(n): n = \" + n); // prints 5\n",
    "        changeInt(n);\n",
    "        System.out.println(\"Main method after changeInt(n): n = \" + n); // still prints 5\n",
    "    }\n",
    "}\n",
    "IntByValue.main(null);"
   ]
  },
  {
   "cell_type": "code",
   "execution_count": 4,
   "metadata": {
    "vscode": {
     "languageId": "java"
    }
   },
   "outputs": [
    {
     "name": "stdout",
     "output_type": "stream",
     "text": [
      "Before: 21 16\n",
      "After: 16 21\n",
      "\n",
      "Before: 16 21\n",
      "After: 16 21\n",
      "\n",
      "Before: 16 -1\n",
      "After: -1 16\n",
      "\n"
     ]
    }
   ],
   "source": [
    "public class IntByReference {\n",
    "    private int value;\n",
    "\n",
    "    public IntByReference(Integer value) {\n",
    "        this.value = value;\n",
    "    }\n",
    "\n",
    "    public String toString() {\n",
    "        return (String.format(\"%d\", this.value));\n",
    "    }\n",
    "\n",
    "    public void swapToLowHighOrder(IntByReference i) {\n",
    "        if (this.value > i.value) {\n",
    "            int tmp = this.value;\n",
    "            this.value = i.value;\n",
    "            i.value = tmp;\n",
    "        }\n",
    "    }\n",
    "\n",
    "    public static void swapper(int n0, int n1) {\n",
    "        IntByReference a = new IntByReference(n0);\n",
    "        IntByReference b = new IntByReference(n1);\n",
    "        System.out.println(\"Before: \" + a + \" \" + b);\n",
    "        a.swapToLowHighOrder(b);  // conditionally build swap method to change values of a, b\n",
    "        System.out.println(\"After: \" + a + \" \" + b);\n",
    "        System.out.println();\n",
    "    }\n",
    "\n",
    "    public static void main(String[] ags) {\n",
    "        IntByReference.swapper(21, 16);\n",
    "        IntByReference.swapper(16, 21);\n",
    "        IntByReference.swapper(16, -1);\n",
    "    }\n",
    "\n",
    "}\n",
    "IntByReference.main(null);"
   ]
  },
  {
   "attachments": {},
   "cell_type": "markdown",
   "metadata": {},
   "source": [
    "# Hacks"
   ]
  },
  {
   "cell_type": "code",
   "execution_count": 2,
   "metadata": {
    "vscode": {
     "languageId": "java"
    }
   },
   "outputs": [
    {
     "name": "stdout",
     "output_type": "stream",
     "text": [
      "Sum of numbers: 15\n"
     ]
    }
   ],
   "source": [
    "/// Primitive Data Type \"int\" within an array\n",
    "public class Example {\n",
    "    public static void main(String[] args) {\n",
    "      int[] numbers = {1, 2, 3, 4, 5}; // define array called numbers that have 5 int values\n",
    "      int sum = 0;\n",
    "      for (int i = 0; i < numbers.length; i++) { // iterate over array to sum the int values\n",
    "        sum += numbers[i];\n",
    "      }\n",
    "      System.out.println(\"Sum of numbers: \" + sum); // outputs the sum\n",
    "    }\n",
    "  }\n",
    "Example.main(null);"
   ]
  },
  {
   "cell_type": "code",
   "execution_count": 4,
   "metadata": {
    "vscode": {
     "languageId": "java"
    }
   },
   "outputs": [
    {
     "name": "stdout",
     "output_type": "stream",
     "text": [
      "Element 0 = 1.99\n",
      "Element 1 = 5.5\n",
      "Element 2 = 20.1\n",
      "Element 3 = 0.9999\n"
     ]
    }
   ],
   "source": [
    "/// Primitive Data Type \"double\" within an array\n",
    "public class DoubleArrayExample {\n",
    "    public static void main(String[] args) {\n",
    "        // declare an array of doubles\n",
    "        double[] myArray = { 1.99, 5.5, 20.1, 0.9999 }; // declare an array with 4 values\n",
    "        // print out the values of the array\n",
    "        for (int i = 0; i < myArray.length; i++) {\n",
    "            System.out.println(\"Element \" + i + \" = \" + myArray[i]); // loop through the array using a for loop and print out each element in the array. Note that we use the double primitive type to declare the array and assign values to it.\n",
    "        }\n",
    "    }\n",
    "}\n",
    "DoubleArrayExample.main(null);"
   ]
  },
  {
   "cell_type": "code",
   "execution_count": 6,
   "metadata": {
    "vscode": {
     "languageId": "java"
    }
   },
   "outputs": [
    {
     "name": "stdout",
     "output_type": "stream",
     "text": [
      "Element 0 = true\n",
      "Element 1 = true\n",
      "Element 2 = false\n",
      "Element 3 = false\n"
     ]
    }
   ],
   "source": [
    "/// Primitive Data Type \"boolean\" within an array\n",
    "public class BooleanArrayExample {\n",
    "    public static void main(String[] args) {\n",
    "        // declare an array of booleans\n",
    "        boolean[] myArray = { true, true, false, false }; // declare array with boolean data types\n",
    "\n",
    "        // print out the values of the array\n",
    "        for (int i = 0; i < myArray.length; i++) {\n",
    "            System.out.println(\"Element \" + i + \" = \" + myArray[i]);\n",
    "        }\n",
    "    }\n",
    "}\n",
    "BooleanArrayExample.main(null);\n"
   ]
  },
  {
   "cell_type": "code",
   "execution_count": 8,
   "metadata": {
    "vscode": {
     "languageId": "java"
    }
   },
   "outputs": [
    {
     "name": "stdout",
     "output_type": "stream",
     "text": [
      "The random letter A-E is c\n"
     ]
    }
   ],
   "source": [
    "/// Primitive Data Type \"char\" \n",
    "\n",
    "import java.util.Random;\n",
    "\n",
    "public class CharExample {\n",
    "    public static void main(String[] args) {\n",
    "        Random rand = new Random(); // create random object to generate random number\n",
    "        char[] vowels = {'a', 'b', 'c', 'd', 'e'}; // array of vowels\n",
    "        char randomVowel = vowels[rand.nextInt(vowels.length)]; // next Int method of the rand object generates a random integer that retrieves a random vowel\n",
    "\n",
    "        System.out.println(\"The random letter A-E is \" + randomVowel);\n",
    "    }\n",
    "}\n",
    "CharExample.main(null);"
   ]
  },
  {
   "cell_type": "markdown",
   "metadata": {},
   "source": [
    "# Methods And Control Structures"
   ]
  },
  {
   "attachments": {},
   "cell_type": "markdown",
   "metadata": {},
   "source": [
    "- What are methods: Methods are code functions when called preform a specific function.\n",
    "- What are Control Structures: A block of code that can change the path we take through those instructions, an example of this is a loop."
   ]
  },
  {
   "attachments": {},
   "cell_type": "markdown",
   "metadata": {},
   "source": [
    "# Mr. M's Code\n",
    "- Diverse Array: Has loops and if statements and uses data types since it has int and arrays.\n",
    "- Random: Generates type number greater than or equal to 0.0 and less than 1.0.\n",
    "- Do Nothing by Value: Doesn't change #s locally and changes variables subvalues.\n",
    "- Int by Reference: Value of int changes locally\n",
    "- Menu: Use of cat, try, and while"
   ]
  },
  {
   "cell_type": "markdown",
   "metadata": {},
   "source": [
    "# 2017 FRQ"
   ]
  },
  {
   "attachments": {},
   "cell_type": "markdown",
   "metadata": {},
   "source": [
    "## Part A"
   ]
  },
  {
   "cell_type": "code",
   "execution_count": null,
   "metadata": {
    "vscode": {
     "languageId": "java"
    }
   },
   "outputs": [],
   "source": [
    "public static Position findPosition(int num, int[][] intArr) {\n",
    "    \n",
    "    for (int row=0; row < intArr.length; row++) {\n",
    "        for (int col=0; col < intArr[0].length; col++) {\n",
    "            if (intArr[row][col] == num) {\n",
    "                return new Position(row, col);\n",
    "            }\n",
    "        }\n",
    "    }\n",
    "    return null;\n",
    "}"
   ]
  },
  {
   "attachments": {},
   "cell_type": "markdown",
   "metadata": {},
   "source": [
    "## Part B"
   ]
  },
  {
   "cell_type": "code",
   "execution_count": null,
   "metadata": {
    "vscode": {
     "languageId": "java"
    }
   },
   "outputs": [],
   "source": [
    "public static Position[][] getSuccessorArray(int[][] intArr) {\n",
    "    \n",
    "    Position[][] newArr = new Position[intArr.length][intArr[0].length];\n",
    "\n",
    "    for (int row=0; row < intArr.length; row++) {\n",
    "        for (int col=0; col < intArr[0].length; col++) {\n",
    "            newArr[row][col] = findPosition(intArr[row][col]+1, intArr);\n",
    "        }\n",
    "    }\n",
    "    return newArr;\n",
    "}"
   ]
  }
 ],
 "metadata": {
  "kernelspec": {
   "display_name": "Java",
   "language": "java",
   "name": "java"
  },
  "language_info": {
   "codemirror_mode": "java",
   "file_extension": ".jshell",
   "mimetype": "text/x-java-source",
   "name": "Java",
   "pygments_lexer": "java",
   "version": "17.0.5+8"
  },
  "orig_nbformat": 4
 },
 "nbformat": 4,
 "nbformat_minor": 2
}
