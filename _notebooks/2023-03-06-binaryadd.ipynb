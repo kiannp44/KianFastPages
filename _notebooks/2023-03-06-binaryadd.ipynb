{
 "cells": [
  {
   "attachments": {},
   "cell_type": "markdown",
   "metadata": {},
   "source": [
    "# Binary Add\n",
    "- toc: true\n",
    "- badges: true\n",
    "- comments: true\n",
    "- author: Kian Pasokhi\n",
    "- categories: [ PLB]"
   ]
  },
  {
   "cell_type": "code",
   "execution_count": 5,
   "metadata": {
    "vscode": {
     "languageId": "java"
    }
   },
   "outputs": [
    {
     "name": "stdout",
     "output_type": "stream",
     "text": [
      "Decimal Sum: 2\n",
      "Binary Sum: 10\n"
     ]
    }
   ],
   "source": [
    "int a = 1;\n",
    "int b = 1;\n",
    "\n",
    "int sum = a+b;\n",
    "\n",
    "System.out.println(\"Decimal Sum: \" + sum); // Print Decimal Sum\n",
    "System.out.println(\"Binary Sum: \" + Integer.toBinaryString(sum)); // Print and Convert to Binary Sum"
   ]
  },
  {
   "cell_type": "code",
   "execution_count": 3,
   "metadata": {
    "vscode": {
     "languageId": "java"
    }
   },
   "outputs": [
    {
     "name": "stdout",
     "output_type": "stream",
     "text": [
      "Main method before changeInt(n): n = 5\n",
      "In changeInt method\n",
      "\tBefore n += 10: n = 5\n",
      "\tAfter n += 10: n = 15\n",
      "Main method after changeInt(n): n = 5\n"
     ]
    }
   ],
   "source": [
    "public class IntByValue {\n",
    "    \n",
    "    public static void changeInt(int n) {\n",
    "        System.out.println(\"In changeInt method\");\n",
    "        System.out.println(\"\\tBefore n += 10: n = \" + n); // prints 5\n",
    "        n = n += 10;\n",
    "        System.out.println(\"\\tAfter n += 10: n = \" + n); // prints 10\n",
    "    }\n",
    "\n",
    "    public static void main(String[] args) {\n",
    "        int n = 5;\n",
    "        System.out.println(\"Main method before changeInt(n): n = \" + n); // prints 5\n",
    "        changeInt(n);\n",
    "        System.out.println(\"Main method after changeInt(n): n = \" + n); // still prints 5\n",
    "    }\n",
    "}\n",
    "IntByValue.main(null);"
   ]
  },
  {
   "cell_type": "code",
   "execution_count": 4,
   "metadata": {
    "vscode": {
     "languageId": "java"
    }
   },
   "outputs": [
    {
     "name": "stdout",
     "output_type": "stream",
     "text": [
      "Before: 21 16\n",
      "After: 16 21\n",
      "\n",
      "Before: 16 21\n",
      "After: 16 21\n",
      "\n",
      "Before: 16 -1\n",
      "After: -1 16\n",
      "\n"
     ]
    }
   ],
   "source": [
    "public class IntByReference {\n",
    "    private int value;\n",
    "\n",
    "    public IntByReference(Integer value) {\n",
    "        this.value = value;\n",
    "    }\n",
    "\n",
    "    public String toString() {\n",
    "        return (String.format(\"%d\", this.value));\n",
    "    }\n",
    "\n",
    "    public void swapToLowHighOrder(IntByReference i) {\n",
    "        if (this.value > i.value) {\n",
    "            int tmp = this.value;\n",
    "            this.value = i.value;\n",
    "            i.value = tmp;\n",
    "        }\n",
    "    }\n",
    "\n",
    "    public static void swapper(int n0, int n1) {\n",
    "        IntByReference a = new IntByReference(n0);\n",
    "        IntByReference b = new IntByReference(n1);\n",
    "        System.out.println(\"Before: \" + a + \" \" + b);\n",
    "        a.swapToLowHighOrder(b);  // conditionally build swap method to change values of a, b\n",
    "        System.out.println(\"After: \" + a + \" \" + b);\n",
    "        System.out.println();\n",
    "    }\n",
    "\n",
    "    public static void main(String[] ags) {\n",
    "        IntByReference.swapper(21, 16);\n",
    "        IntByReference.swapper(16, 21);\n",
    "        IntByReference.swapper(16, -1);\n",
    "    }\n",
    "\n",
    "}\n",
    "IntByReference.main(null);"
   ]
  }
 ],
 "metadata": {
  "kernelspec": {
   "display_name": "Java",
   "language": "java",
   "name": "java"
  },
  "language_info": {
   "codemirror_mode": "java",
   "file_extension": ".jshell",
   "mimetype": "text/x-java-source",
   "name": "Java",
   "pygments_lexer": "java",
   "version": "17.0.5+8"
  },
  "orig_nbformat": 4
 },
 "nbformat": 4,
 "nbformat_minor": 2
}
