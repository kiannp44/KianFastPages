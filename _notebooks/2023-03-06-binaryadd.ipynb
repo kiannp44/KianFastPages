{
 "cells": [
  {
   "attachments": {},
   "cell_type": "markdown",
   "metadata": {},
   "source": [
    "# Binary Add\n",
    "- toc: true\n",
    "- badges: true\n",
    "- comments: true\n",
    "- author: Kian Pasokhi\n",
    "- categories: [ PLB]"
   ]
  },
  {
   "cell_type": "code",
   "execution_count": 2,
   "metadata": {
    "vscode": {
     "languageId": "java"
    }
   },
   "outputs": [],
   "source": [
    "public class BinaryAddition {\n",
    "    public static void main(String[] args) {\n",
    "        int a = 0b1; // binary representation of 1\n",
    "        int b = 0b1; // binary representation of 1\n",
    "\n",
    "        // perform binary addition\n",
    "        int sum = a + b;\n",
    "\n",
    "        // print result in binary and decimal\n",
    "        System.out.println(\"Binary: \" + Integer.toBinaryString(sum));\n",
    "        System.out.println(\"Decimal: \" + sum);\n",
    "    }\n",
    "}"
   ]
  }
 ],
 "metadata": {
  "kernelspec": {
   "display_name": "Java",
   "language": "java",
   "name": "java"
  },
  "language_info": {
   "codemirror_mode": "java",
   "file_extension": ".jshell",
   "mimetype": "text/x-java-source",
   "name": "Java",
   "pygments_lexer": "java",
   "version": "17.0.5+8"
  },
  "orig_nbformat": 4
 },
 "nbformat": 4,
 "nbformat_minor": 2
}
