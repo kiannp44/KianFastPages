{
 "cells": [
  {
   "attachments": {},
   "cell_type": "markdown",
   "metadata": {},
   "source": [
    "# Binary Add\n",
    "- toc: true\n",
    "- badges: true\n",
    "- comments: true\n",
    "- author: Kian Pasokhi\n",
    "- categories: [ PLB]"
   ]
  },
  {
   "cell_type": "code",
   "execution_count": 19,
   "metadata": {
    "vscode": {
     "languageId": "java"
    }
   },
   "outputs": [
    {
     "name": "stdout",
     "output_type": "stream",
     "text": [
      "Operation: 1 + 1\n",
      "Decimal Sum: 2\n",
      "Binary Sum: 10\n"
     ]
    }
   ],
   "source": [
    "int a = 1;\n",
    "int b = 1;\n",
    "\n",
    "int sum = a+b;\n",
    "\n",
    "System.out.println(\"Operation: 1 + 1\"); // Operation Statement\n",
    "System.out.println(\"Decimal Sum: \" + sum); // Print Decimal Sum\n",
    "System.out.println(\"Binary Sum: \" + Integer.toBinaryString(sum)); // Print Converted to Binary Sum"
   ]
  }
 ],
 "metadata": {
  "kernelspec": {
   "display_name": "Java",
   "language": "java",
   "name": "java"
  },
  "language_info": {
   "codemirror_mode": "java",
   "file_extension": ".jshell",
   "mimetype": "text/x-java-source",
   "name": "Java",
   "pygments_lexer": "java",
   "version": "17.0.5+8"
  },
  "orig_nbformat": 4
 },
 "nbformat": 4,
 "nbformat_minor": 2
}
