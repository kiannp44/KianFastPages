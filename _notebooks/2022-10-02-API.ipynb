{
 "cells": [
  {
   "cell_type": "code",
   "execution_count": null,
   "metadata": {
    "vscode": {
     "languageId": "java"
    }
   },
   "outputs": [],
   "source": [
    "# Bing News API\n",
    "- toc: true\n",
    "- badges: true\n",
    "- comments: true\n",
    "- author: Kian Pasokhi\n",
    "- categories: [ PBL]\n",
    "\n"
   ]
  },
  {
   "cell_type": "markdown",
   "metadata": {},
   "source": [
    "# Bing News API"
   ]
  },
  {
   "cell_type": "code",
   "execution_count": 14,
   "metadata": {
    "vscode": {
     "languageId": "java"
    }
   },
   "outputs": [
    {
     "name": "stdout",
     "output_type": "stream",
     "text": [
      "{\"_type\": \"News\", \"webSearchUrl\": \"https:\\/\\/www.bing.com\\/news\\/search?q=top+stories&form=TNSA02\", \"value\": [{\"_type\": \"NewsArticle\", \"name\": \"Hurricane Ian death toll climbs to at least 68; over 4,000 people rescued in Florida: Updates\", \"url\": \"https:\\/\\/www.msn.com\\/en-us\\/news\\/us\\/hurricane-ian-death-toll-climbs-to-at-least-68-over-4000-people-rescued-in-florida-updates\\/ar-AA12vvab\", \"image\": {\"_type\": \"ImageObject\", \"thumbnail\": {\"_type\": \"ImageObject\", \"contentUrl\": \"https:\\/\\/www.bing.com\\/th?id=ORMS.94f391e6fc7fe96461c0d03dedeb6eb2&pid=Wdp\", \"width\": 4206, \"height\": 2804}, \"isLicensed\": true}, \"description\": \"Editor's note: Don't have power? Click here for a lite version of this page with a quicker load time.             The death toll from Hurricane Ian rose to at least 68 and about 700,000 homes and\", \"provider\": [{\"_type\": \"Organization\", \"name\": \"USA TODAY\", \"image\": {\"_type\": \"ImageObject\", \"thumbnail\": {\"_type\": \"ImageObject\", \"contentUrl\": \"https:\\/\\/www.bing.com\\/th?id=ODF.m1iod5ODNIyyKu23kGIllQ&pid=news\"}}}], \"datePublished\": \"2022-10-03T02:58:17.0000000Z\"}, {\"_type\": \"NewsArticle\", \"name\": \"Zelensky praises countries backing Ukraine application to join NATO\", \"url\": \"https:\\/\\/www.msn.com\\/en-us\\/news\\/world\\/zelensky-praises-countries-backing-ukraine-application-to-join-nato\\/ar-AA12w2zf\", \"image\": {\"_type\": \"ImageObject\", \"thumbnail\": {\"_type\": \"ImageObject\", \"contentUrl\": \"https:\\/\\/www.bing.com\\/th?id=ORMS.a21bf92b5297ad5c652e09640775d8d4&pid=Wdp\", \"width\": 1200, \"height\": 799}, \"isLicensed\": true}, \"description\": \"Oct. 2 (UPI) -- Ukrainian President Volodymyr Zelensky on Sunday praised the support of neighboring countries after Ukraine submitted an application to join NATO. \\\"Grateful to our neighbors,\", \"provider\": [{\"_type\": \"Organization\", \"name\": \" UPI News\", \"image\": {\"_type\": \"ImageObject\", \"thumbnail\": {\"_type\": \"ImageObject\", \"contentUrl\": \"https:\\/\\/www.bing.com\\/th?id=ODF.cpo3ek4OYDsinkv1bzpa2Q&pid=news\"}}}], \"datePublished\": \"2022-10-03T02:54:53.0000000Z\"}, {\"_type\": \"NewsArticle\", \"name\": \"Russia-Ukraine war latest: what we know on day 222 of the invasion\", \"url\": \"https:\\/\\/www.msn.com\\/en-us\\/news\\/world\\/russia-ukraine-war-latest-what-we-know-on-day-222-of-the-invasion\\/ar-AA12w5Ag\", \"description\": \"    The US and its allies would destroy Russia’s troops and equipment in Ukraine and sink its Black Sea fleet if Russian president Vladimir Putin uses nuclear weapons, former CIA director and retired\", \"provider\": [{\"_type\": \"Organization\", \"name\": \"The Guardian\", \"image\": {\"_type\": \"ImageObject\", \"thumbnail\": {\"_type\": \"ImageObject\", \"contentUrl\": \"https:\\/\\/www.bing.com\\/th?id=ODF.FLSSz2cn3Rqzpu_HVWuRvA&pid=news\"}}}], \"datePublished\": \"2022-10-02T23:32:12.0000000Z\"}, {\"_type\": \"NewsArticle\", \"name\": \"CNN team visits key city of Lyman, hours after Ukraine regains control from Russian forces\", \"url\": \"https:\\/\\/www.msn.com\\/en-us\\/news\\/world\\/cnn-team-visits-key-city-of-lyman-hours-after-ukraine-regains-control-from-russian-forces\\/ar-AA12vPOu\", \"image\": {\"_type\": \"ImageObject\", \"thumbnail\": {\"_type\": \"ImageObject\", \"contentUrl\": \"https:\\/\\/www.bing.com\\/th?id=ORMS.3329ec2463c3c807aada979a24276e26&pid=Wdp\", \"width\": 960, \"height\": 540}, \"isLicensed\": true}, \"description\": \"The ghostly emptiness of the streets of Lyman in eastern Ukraine belies this city’s strategic significance. There are no signs of Russian troops at all on Sunday – few damaged Russian tanks, or\", \"provider\": [{\"_type\": \"Organization\", \"name\": \"CNN\", \"image\": {\"_type\": \"ImageObject\", \"thumbnail\": {\"_type\": \"ImageObject\", \"contentUrl\": \"https:\\/\\/www.bing.com\\/th?id=ODF.t0BGYosS4GKZSebCajKQGA&pid=news\"}}}], \"datePublished\": \"2022-10-02T19:05:00.0000000Z\"}, {\"_type\": \"NewsArticle\", \"name\": \"Insurance fraud expert warns Florida homeowners of scams after Hurricane Ian\", \"url\": \"https:\\/\\/www.msn.com\\/en-us\\/news\\/us\\/insurance-fraud-expert-warns-florida-homeowners-of-scams-after-hurricane-ian\\/ar-AA12qte5\", \"image\": {\"_type\": \"ImageObject\", \"thumbnail\": {\"_type\": \"ImageObject\", \"contentUrl\": \"https:\\/\\/www.bing.com\\/th?id=ORMS.62b279c487e696710893e2bdbbc52cfc&pid=Wdp\", \"width\": 1992, \"height\": 1318}, \"isLicensed\": true}, \"description\": \"             An expert on insurance fraud is warning Florida residents whose properties were damaged by Hurricane Ian to be careful of scams, especially from construction workers who may ask\", \"provider\": [{\"_type\": \"Organization\", \"name\": \"USA TODAY\", \"image\": {\"_type\": \"ImageObject\", \"thumbnail\": {\"_type\": \"ImageObject\", \"contentUrl\": \"https:\\/\\/www.bing.com\\/th?id=ODF.m1iod5ODNIyyKu23kGIllQ&pid=news\"}}}], \"datePublished\": \"2022-10-02T22:17:59.0000000Z\"}, {\"_type\": \"NewsArticle\", \"name\": \"Pope Francis calls on Zelensky to be open to 'serious proposals for peace' in Ukraine\", \"url\": \"https:\\/\\/www.msn.com\\/en-us\\/news\\/world\\/pope-francis-calls-on-zelensky-to-be-open-to-serious-proposals-for-peace-in-ukraine\\/ar-AA12w59G\", \"image\": {\"_type\": \"ImageObject\", \"thumbnail\": {\"_type\": \"ImageObject\", \"contentUrl\": \"https:\\/\\/www.bing.com\\/th?id=ORMS.e067b6d03da267e23c36aff2984aabc9&pid=Wdp\", \"width\": 1200, \"height\": 798}, \"isLicensed\": true}, \"description\": \"Oct. 2 (UPI) -- Pope Francis on Sunday called on Ukrainian President Volodymyr Zelensky to be open to \\\"serious proposals for peace\\\" as he condemned Russia's war in Ukraine. Francis, speaking ahead of\", \"provider\": [{\"_type\": \"Organization\", \"name\": \" UPI News\", \"image\": {\"_type\": \"ImageObject\", \"thumbnail\": {\"_type\": \"ImageObject\", \"contentUrl\": \"https:\\/\\/www.bing.com\\/th?id=ODF.cpo3ek4OYDsinkv1bzpa2Q&pid=news\"}}}], \"datePublished\": \"2022-10-02T21:43:49.0000000Z\"}, {\"_type\": \"NewsArticle\", \"name\": \"Here’s What Putin’s Nuclear Disaster Would Really Look Like\", \"url\": \"https:\\/\\/www.msn.com\\/en-us\\/news\\/world\\/here-s-what-putin-s-nuclear-disaster-would-really-look-like\\/ar-AA12wkQP\", \"image\": {\"_type\": \"ImageObject\", \"thumbnail\": {\"_type\": \"ImageObject\", \"contentUrl\": \"https:\\/\\/www.bing.com\\/th?id=ORMS.ba4dbda292b5e441cf75edb067dd1f4e&pid=Wdp\", \"width\": 1170, \"height\": 658}, \"isLicensed\": true}, \"description\": \"Vitaly Fedchenko is a widely recognized authority on fissionable things that go boom in the night and a mighty important fellow in the business of thwarting the apocalypse.Indeed, the throw-weight of\", \"provider\": [{\"_type\": \"Organization\", \"name\": \"The Daily Beast\", \"image\": {\"_type\": \"ImageObject\", \"thumbnail\": {\"_type\": \"ImageObject\", \"contentUrl\": \"https:\\/\\/www.bing.com\\/th?id=ODF.avzW8pxZL1SVWJJCsS0cJQ&pid=news\"}}}], \"datePublished\": \"2022-10-03T01:29:35.0000000Z\"}, {\"_type\": \"NewsArticle\", \"name\": \"Ukraine presses on with counteroffensive; Russia uses drones\", \"url\": \"https:\\/\\/www.msn.com\\/en-us\\/news\\/world\\/ukraine-presses-on-with-counteroffensive-russia-uses-drones\\/ar-AA12w5Nm\", \"image\": {\"_type\": \"ImageObject\", \"thumbnail\": {\"_type\": \"ImageObject\", \"contentUrl\": \"https:\\/\\/www.bing.com\\/th?id=ORMS.3cecc026af2100724e63269ce72224cd&pid=Wdp\", \"width\": 1140, \"height\": 798}, \"isLicensed\": true}, \"description\": \"KYIV, Ukraine — Russia attacked the Ukrainian president’s hometown and other targets Sunday with suicide drones, and Ukraine took back full control of a strategic eastern city in a counteroffensive\", \"provider\": [{\"_type\": \"Organization\", \"name\": \"Pittsburgh Post-Gazette\", \"image\": {\"_type\": \"ImageObject\", \"thumbnail\": {\"_type\": \"ImageObject\", \"contentUrl\": \"https:\\/\\/www.bing.com\\/th?id=ODF.6kChMef4_Wz7RtnxS_Txdw&pid=news\"}}}], \"datePublished\": \"2022-10-03T00:35:03.0000000Z\"}, {\"_type\": \"NewsArticle\", \"name\": \"Hurricane Ian: Americans urged to weigh risks of rebuilding in vulnerable areas\", \"url\": \"https:\\/\\/www.msn.com\\/en-us\\/news\\/us\\/hurricane-ian-americans-urged-to-weigh-risks-of-rebuilding-in-vulnerable-areas\\/ar-AA12vDHe\", \"description\": \" US Federal Emergency Management Agency (Fema) administrator Deanne Criswell asked Americans on Sunday “to make informed decisions” about rebuilding in vulnerable areas hit by natural disasters\", \"provider\": [{\"_type\": \"Organization\", \"name\": \"The Guardian\", \"image\": {\"_type\": \"ImageObject\", \"thumbnail\": {\"_type\": \"ImageObject\", \"contentUrl\": \"https:\\/\\/www.bing.com\\/th?id=ODF.FLSSz2cn3Rqzpu_HVWuRvA&pid=news\"}}}], \"datePublished\": \"2022-10-02T16:27:49.0000000Z\"}, {\"_type\": \"NewsArticle\", \"name\": \"Biden to visit Florida and Puerto Rico as scale of Hurricane Ian's death and destruction emerges\", \"url\": \"https:\\/\\/www.msn.com\\/en-us\\/news\\/us\\/biden-to-visit-florida-and-puerto-rico-as-scale-of-hurricane-ians-death-and-destruction-emerges\\/ar-AA12vjVb\", \"image\": {\"_type\": \"ImageObject\", \"thumbnail\": {\"_type\": \"ImageObject\", \"contentUrl\": \"https:\\/\\/www.bing.com\\/th?id=ORMS.50ad482d9b7aac8218943cad299cbc91&pid=Wdp\", \"width\": 4206, \"height\": 2804}, \"isLicensed\": true}, \"description\": \"President Joe Biden and first lady Jill Biden will travel to devastated areas this week as the United States reels from the death, dangerous floods and destruction left in Hurricane Ian's wake.The\", \"provider\": [{\"_type\": \"Organization\", \"name\": \"NBC News\", \"image\": {\"_type\": \"ImageObject\", \"thumbnail\": {\"_type\": \"ImageObject\", \"contentUrl\": \"https:\\/\\/www.bing.com\\/th?id=ODF.ighWNnrr5MMFUs8WKMme2A&pid=news\"}}}], \"datePublished\": \"2022-10-02T10:00:26.0000000Z\"}, {\"_type\": \"NewsArticle\", \"name\": \"Putin’s Claims to Donetsk Are News To Some Residents of Newly-Liberated Lyman\", \"url\": \"https:\\/\\/www.msn.com\\/en-us\\/news\\/world\\/putin-s-claims-to-donetsk-are-news-to-some-residents-of-newly-liberated-lyman\\/ar-AA12w1Oi\", \"image\": {\"_type\": \"ImageObject\", \"thumbnail\": {\"_type\": \"ImageObject\", \"contentUrl\": \"https:\\/\\/www.bing.com\\/th?id=ORMS.4d71d30231c23fe831010a8dac203a0f&pid=Wdp\", \"width\": 1600, \"height\": 900}, \"isLicensed\": true}, \"description\": \"LYMAN, Ukraine — As dusk gathered on Sunday, Elena Kharkovska stood in the courtyard of her apartment block in eastern Ukraine, contemplating what she had just learned: She had lived in Russia for a\", \"provider\": [{\"_type\": \"Organization\", \"name\": \"The New York Times\", \"image\": {\"_type\": \"ImageObject\", \"thumbnail\": {\"_type\": \"ImageObject\", \"contentUrl\": \"https:\\/\\/www.bing.com\\/th?id=ODF.GzcmUDr41J6Qc1JEQyNTCA&pid=news\"}}}], \"datePublished\": \"2022-10-02T21:16:09.0000000Z\"}, {\"_type\": \"NewsArticle\", \"name\": \"Latvian premier's center-right party wins national election\", \"url\": \"https:\\/\\/www.msn.com\\/en-us\\/news\\/world\\/latvian-premiers-center-right-party-wins-national-election\\/ar-AA12uyS8\", \"description\": \"HELSINKI (AP) — Latvia's ruling center-right party won the most votes in the country's general election, centrist parties were the runners-up and pro-Moscow parties crashed in a vote that was shaped\", \"provider\": [{\"_type\": \"Organization\", \"name\": \"Associated Press\", \"image\": {\"_type\": \"ImageObject\", \"thumbnail\": {\"_type\": \"ImageObject\", \"contentUrl\": \"https:\\/\\/www.bing.com\\/th?id=ODF.AlMAEy7MoWNz0OI_xSWQiw&pid=news\"}}}], \"datePublished\": \"2022-10-02T08:59:56.0000000Z\"}]}\n"
     ]
    }
   ],
   "source": [
    "HttpRequest request = HttpRequest.newBuilder()\n",
    "\t\t.uri(URI.create(\"https://bing-news-search1.p.rapidapi.com/news?safeSearch=Off&textFormat=Raw\"))\n",
    "\t\t.header(\"X-BingApis-SDK\", \"true\")\n",
    "\t\t.header(\"X-RapidAPI-Key\", \"74bd99649amsha1c396dfa85e888p1c1773jsn35b095711d42\")\n",
    "\t\t.header(\"X-RapidAPI-Host\", \"bing-news-search1.p.rapidapi.com\")\n",
    "\t\t.method(\"GET\", HttpRequest.BodyPublishers.noBody())\n",
    "\t\t.build();\n",
    "HttpResponse<String> response = HttpClient.newHttpClient().send(request, HttpResponse.BodyHandlers.ofString());\n",
    "System.out.println(response.body());"
   ]
  }
 ],
 "metadata": {
  "kernelspec": {
   "display_name": "Java",
   "language": "java",
   "name": "java"
  },
  "language_info": {
   "codemirror_mode": "java",
   "file_extension": ".jshell",
   "mimetype": "text/x-java-source",
   "name": "Java",
   "pygments_lexer": "java",
   "version": "11.0.16+8-post-Ubuntu-0ubuntu120.04"
  },
  "orig_nbformat": 4,
  "vscode": {
   "interpreter": {
    "hash": "916dbcbb3f70747c44a77c7bcd40155683ae19c65e1c03b4aa3499c5328201f1"
   }
  }
 },
 "nbformat": 4,
 "nbformat_minor": 2
}
