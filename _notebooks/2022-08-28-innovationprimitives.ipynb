{
 "cells": [
  {
   "cell_type": "markdown",
   "metadata": {},
   "source": [
    "# Innovation - Primitives\n",
    "> Week 1, Review submission and learning checks\n",
    "- toc: true\n",
    "- badges: true\n",
    "- comments: true\n",
    "- author: Kian Pasokhi\n",
    "- categories: [fastpages, jupyter]\n",
    "\n"
   ]
  },
  {
   "cell_type": "markdown",
   "metadata": {},
   "source": [
    "# Fastpages\n",
    "- [Bash + Install Checks](https://kiannp44.github.io/KianFastPages/fastpages/jupyter/2022/08/25/checks.html)\n",
    "- [Java Primitives](https://kiannp44.github.io/KianFastPages/fastpages/jupyter/2022/08/28/javaprim.html)\n"
   ]
  },
  {
   "cell_type": "markdown",
   "metadata": {},
   "source": [
    "# Code.org\n",
    "\n",
    "![](my_icons/code_org.png)"
   ]
  },
  {
   "cell_type": "markdown",
   "metadata": {},
   "source": [
    "# Capture Information Plan\n",
    "\n",
    "## Information Capture\n",
    "- I will easily be able to capture and record information through fast pages and it will easily be accessible to me, my peers and anybody else. Fastpages makes it easy to record code and capture notes all at the same time. I can create a category for my notes and code.\n",
    "\n",
    "## PBL vs Collegeboard\n",
    "- For Collegeboard assignments I can easily change the category to CB or Collegeboard and for PBL assignments I can change it to PBL."
   ]
  }
 ],
 "metadata": {
  "kernelspec": {
   "display_name": "Python 3.9.12 ('base')",
   "language": "python",
   "name": "python3"
  },
  "language_info": {
   "codemirror_mode": {
    "name": "ipython",
    "version": 3
   },
   "file_extension": ".py",
   "mimetype": "text/x-python",
   "name": "python",
   "nbconvert_exporter": "python",
   "pygments_lexer": "ipython3",
   "version": "3.9.12"
  },
  "orig_nbformat": 4,
  "vscode": {
   "interpreter": {
    "hash": "8c8857ce64b21bd3ccd4fbc6254adfd729bc4820a97fa6d21d3364e118603856"
   }
  }
 },
 "nbformat": 4,
 "nbformat_minor": 2
}
