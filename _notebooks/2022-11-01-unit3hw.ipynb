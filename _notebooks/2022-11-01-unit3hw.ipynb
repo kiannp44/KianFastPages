{
 "cells": [
  {
   "cell_type": "markdown",
   "metadata": {},
   "source": [
    "# Unit 3 Booleans/If Statements\n",
    "- toc: true\n",
    "- badges: true\n",
    "- comments: true\n",
    "- author: Kian Pasokhi\n",
    "- categories: [ Collegeboard]\n",
    "\n"
   ]
  },
  {
   "cell_type": "markdown",
   "metadata": {},
   "source": [
    "![](my_icons/grade2.png)"
   ]
  },
  {
   "cell_type": "markdown",
   "metadata": {},
   "source": [
    "- The Collegeboard website states that this unit makes up 15%-17.5% of the AP test\n",
    "- Almost all the FRQs and multiple choice will contain some kind of if-else statements as it allows for more complex code\n",
    "- Switch case allows for if-else statements to be written more effeciently\n",
    "- Booleans are required for many assignment and comparative logic functions\n",
    "- Boolean allows a programmer to implement choice into their code\n"
   ]
  },
  {
   "cell_type": "code",
   "execution_count": null,
   "metadata": {},
   "outputs": [],
   "source": [
    "//condition inside if statment is true so system outprints \"Hi\"\n",
    "if (true) {\n",
    "    System.out.println(\"Hi\");\n",
    "}\n",
    "\n",
    "//true and not false so system prints out \"Hello\"\n",
    "if (true && !false) {\n",
    "    System.out.println(\"Hello\");\n",
    "}"
   ]
  },
  {
   "cell_type": "markdown",
   "metadata": {},
   "source": [
    "The If/Else statement extends the If statement by specifying an action if the If (true/false expression) is false. With the If statement, a program will execute the true code block or do nothing. With the If/Else statement, the program will execute either the true code block or the false code block so something is always executed with an If/Else statement.\n",
    "\n"
   ]
  },
  {
   "cell_type": "code",
   "execution_count": null,
   "metadata": {},
   "outputs": [],
   "source": [
    "int x = 10;\n",
    "\n",
    "//if statement is false so the else statment runs\n",
    "if (x<5) {\n",
    "    System.out.println(\"Hello\");\n",
    "}\n",
    "else {\n",
    "    System.out.println(\"Greater than 5\");\n",
    "}"
   ]
  },
  {
   "cell_type": "markdown",
   "metadata": {},
   "source": [
    "The If/ElseIf statement allows you to create a chain of If statements. You are able to test more than two conditions unlike the If/Else statment. The If statements are evaluated in order until one of the If expressions is true or the end of the If/ElseIf chain is reached. If the end of the If/ElseIf chain is reached without a true expression, no code blocks are executed.\n"
   ]
  },
  {
   "cell_type": "code",
   "execution_count": null,
   "metadata": {},
   "outputs": [],
   "source": [
    "int x = 9;\n",
    "\n",
    "//false conditions until last else if statement so that one runs\n",
    "if (x<2){\n",
    "    System.out.println(\"Less than 2\");\n",
    "}\n",
    "else if (x<4){\n",
    "    System.out.println(\"Less than 4\");\n",
    "}\n",
    "else if (x<6){\n",
    "    System.out.println(\"Less than 6\");\n",
    "}\n",
    "else if (x<8){\n",
    "    System.out.println(\"Less than 8\");\n",
    "}\n",
    "else if (x<10){\n",
    "    System.out.println(\"Less than 10\");\n",
    "}"
   ]
  },
  {
   "cell_type": "code",
   "execution_count": null,
   "metadata": {},
   "outputs": [],
   "source": [
    "public static int numberOfLeapYears(int year1, int year2) {\n",
    "    int count = 0;\n",
    "    for (int i = year1; i <= year2; i++) {\n",
    "      // add to count if year is leap year\n",
    "      if (isLeapYear(i)) count++;\n",
    "    }\n",
    "    return count;\n",
    "  }"
   ]
  },
  {
   "cell_type": "code",
   "execution_count": null,
   "metadata": {},
   "outputs": [],
   "source": [
    "public static int dayOfWeek(int month, int day, int year) {\n",
    "    int day = firstDayOfYear(year) + dayOfYear(month, day, year) - 1;\n",
    "    // only 7 days in a week\n",
    "    return day % 7;\n",
    "  }"
   ]
  }
 ],
 "metadata": {
  "kernelspec": {
   "display_name": "Java",
   "language": "java",
   "name": "java"
  },
  "language_info": {
   "name": "java",
   "version": "3.8.10"
  },
  "orig_nbformat": 4,
  "vscode": {
   "interpreter": {
    "hash": "916dbcbb3f70747c44a77c7bcd40155683ae19c65e1c03b4aa3499c5328201f1"
   }
  }
 },
 "nbformat": 4,
 "nbformat_minor": 2
}
