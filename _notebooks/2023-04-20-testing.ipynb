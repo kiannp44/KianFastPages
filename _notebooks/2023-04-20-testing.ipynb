{
 "cells": [
  {
   "attachments": {},
   "cell_type": "markdown",
   "metadata": {},
   "source": [
    "# Testing 4/20\n",
    "- toc: true\n",
    "- badges: true\n",
    "- comments: true\n",
    "- author: Kian Pasokhi\n",
    "- categories: [ Collegeboard]"
   ]
  },
  {
   "cell_type": "code",
   "execution_count": 21,
   "metadata": {
    "vscode": {
     "languageId": "java"
    }
   },
   "outputs": [],
   "source": [
    "// Part 1\n",
    "\n",
    "public class Book {\n",
    "    private String title;\n",
    "    private int id;\n",
    "    private static int nextId = 1;\n",
    "    public static int bookCount = 0;\n",
    "\n",
    "    public Book(String title) {\n",
    "        this.title = title;\n",
    "        this.id = nextId;\n",
    "        nextId++;\n",
    "        bookCount++;\n",
    "    }\n",
    "\n",
    "    // Getter and setter for title and id\n",
    "    public String getTitle() {\n",
    "        return title;\n",
    "    }\n",
    "\n",
    "    public void setTitle(String title) {\n",
    "        this.title = title;\n",
    "    }\n",
    "\n",
    "    public int getId() {\n",
    "        return id;\n",
    "    }\n",
    "\n",
    "    public void setId(int id) {\n",
    "        this.id = id;\n",
    "    }\n",
    "\n",
    "    // Other fields, constructors, and methods for the Book class\n",
    "}\n",
    "\n",
    "public class Novel extends Book {\n",
    "    // fields, constructors, and methods for the Novel class\n",
    "    public Novel(String title) {\n",
    "        super(title);\n",
    "    }\n",
    "}\n",
    "\n",
    "public class Textbook extends Book {\n",
    "    // fields, constructors, and methods for the Textbook class\n",
    "    public Textbook(String title) {\n",
    "        super(title);\n",
    "    }\n",
    "}\n",
    "\n",
    "public class BookTester {\n",
    "    public static void main(String[] args) {\n",
    "        // Test the Book class\n",
    "        Book book1 = new Book(\"The Great Gatsby\");\n",
    "        Book book2 = new Book(\"To Kill a Mockingbird\");\n",
    "\n",
    "        // Test the getTitle method\n",
    "        String title1 = book1.getTitle();\n",
    "        String title2 = book2.getTitle();\n",
    "        System.out.println(\"Title 1: \" + title1);\n",
    "        System.out.println(\"Title 2: \" + title2);\n",
    "\n",
    "        // Test the bookCount field\n",
    "        System.out.println(\"Book count: \" + Book.bookCount);\n",
    "    }\n",
    "}\n",
    "\n",
    "\n"
   ]
  },
  {
   "cell_type": "code",
   "execution_count": null,
   "metadata": {
    "vscode": {
     "languageId": "java"
    }
   },
   "outputs": [],
   "source": [
    "// Part 2\n",
    "\n"
   ]
  }
 ],
 "metadata": {
  "kernelspec": {
   "display_name": "Java",
   "language": "java",
   "name": "java"
  },
  "language_info": {
   "codemirror_mode": "java",
   "file_extension": ".jshell",
   "mimetype": "text/x-java-source",
   "name": "Java",
   "pygments_lexer": "java",
   "version": "17.0.5+8"
  },
  "orig_nbformat": 4
 },
 "nbformat": 4,
 "nbformat_minor": 2
}
