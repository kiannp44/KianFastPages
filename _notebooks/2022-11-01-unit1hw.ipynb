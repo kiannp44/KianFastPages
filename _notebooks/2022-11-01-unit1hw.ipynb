{
 "cells": [
  {
   "cell_type": "markdown",
   "metadata": {},
   "source": [
    "# Unit 1 Primitives\n",
    "- toc: true\n",
    "- badges: true\n",
    "- comments: true\n",
    "- author: Kian Pasokhi\n",
    "- categories: [ Collegeboard]\n"
   ]
  },
  {
   "cell_type": "markdown",
   "metadata": {},
   "source": [
    "- All code that runs must be in the main method \n",
    "- Data types are different categories in which one can store various types of data.\n",
    "The main Primitve data types are:\n",
    "Integer (int): used for whole numbers\n",
    "Double (double): used for numbers with decimals\n",
    "Boolean (boolean): used for true or false conditionals\n",
    "For Primitive types, variables store actual data instead of reference\n",
    "If the variable is declared final, it cannot be edited\n",
    "A non Primitive type which is commonly used is String\n",
    "Stores text\n",
    "- To comment your code, use // for single line comments and /**/ for multiple lines\n",
    "1. In order to perform mathmatical calculations on integers and doubles, you can use operators\n",
    "2. Main ones are +, -, *, /\n",
    "3. Modulus is %, used to get remainder when two numbers are divided\n",
    "\n",
    "## Example\n"
   ]
  },
  {
   "cell_type": "code",
   "execution_count": 1,
   "metadata": {},
   "outputs": [
    {
     "name": "stdout",
     "output_type": "stream",
     "text": [
      "7\n",
      "7.0\n",
      "-3\n",
      "-3.0\n",
      "10\n",
      "10.0\n",
      "0\n",
      "0.4\n",
      "1.0\n",
      "1\n"
     ]
    }
   ],
   "source": [
    "public class Math {\n",
    "\n",
    "    public static void main(String[] args) {\n",
    "\n",
    "        int number = 2;\n",
    "        int number2 = 5;\n",
    "        double number3 = 2.0;\n",
    "        double number4 = 5.0;\n",
    "\n",
    "        System.out.println(number+number2);\n",
    "        System.out.println(number3+number4);\n",
    "        System.out.println(number-number2);\n",
    "        System.out.println(number3-number4);\n",
    "        System.out.println(number * number2);\n",
    "        System.out.println(number3 * number4);\n",
    "        System.out.println(number/number2);\n",
    "        System.out.println(number3/number4);\n",
    "        System.out.println(number4 % number3);\n",
    "        System.out.println(number2 % number);\n",
    "    }\n",
    "}\n",
    "\n",
    "Math.main(null);"
   ]
  },
  {
   "cell_type": "markdown",
   "metadata": {},
   "source": [
    "Compute the remainder of 6 multiplied by 1234124 divided by 11345 minus 890809 plus 90800 (use order of operations) is divided by 980098, and store this in a variable called num (get an exact number as opposed to a whole number)\n"
   ]
  },
  {
   "cell_type": "code",
   "execution_count": 1,
   "metadata": {},
   "outputs": [
    {
     "name": "stdout",
     "output_type": "stream",
     "text": [
      "10.5\n",
      "100\n",
      "10\n",
      "100.0\n",
      "2147483647\n",
      "-2147483648\n"
     ]
    }
   ],
   "source": [
    "public class Cast {\n",
    "\n",
    "    public static void main(String[] args) {\n",
    "        double num = 10.5;\n",
    "        int num2 = 100;\n",
    "        int numInt = (int)num;\n",
    "        double num2Double = (double)num2;\n",
    "\n",
    "        System.out.println(num);\n",
    "        System.out.println(num2);\n",
    "        System.out.println(numInt);\n",
    "        System.out.println(num2Double);\n",
    "        System.out.println(Integer.MAX_VALUE);\n",
    "        System.out.println(Integer.MIN_VALUE);\n",
    "\n",
    "\n",
    "    }\n",
    "}\n",
    "\n",
    "Cast.main(null);"
   ]
  },
  {
   "cell_type": "markdown",
   "metadata": {},
   "source": [
    "# Assignment Operators\n",
    "- += adds value of a variabe to another variable and assigns total value to first variable\n",
    "- -= subtracts value of a variabe to another variable and assigns total value to first variable\n",
    "- *= multiplies value of a variabe to another variable and assigns total value to first variable\n",
    "- /= multiplies value of a variabe to another variable and assigns total value to first variable\n",
    "- %= takes the remainder of a variable with a second variable and assigns remainder to first variable\n",
    "- ++ increments a variable by 1, to incrememt by more change second plus to number which you want to incrememnt by\n",
    "- -- subracts a variable by 1, to incrememt by more change second plus to number which you want to subtract by\n",
    " "
   ]
  },
  {
   "cell_type": "markdown",
   "metadata": {},
   "source": [
    "<mark >Casting: </mark> \"When you assign a value of one primitive type to another type.\" You can use it to round a number or truncuate it\n",
    "## Casting Example"
   ]
  },
  {
   "cell_type": "code",
   "execution_count": 3,
   "metadata": {},
   "outputs": [
    {
     "name": "stdout",
     "output_type": "stream",
     "text": [
      "9\n",
      "9.0\n"
     ]
    }
   ],
   "source": [
    " int myInt = 9;\n",
    " double myDouble = myInt; // Automatic casting: int to double\n",
    "  \n",
    "System.out.println(myInt);      // Outputs 9\n",
    "System.out.println(myDouble);   // Outputs 9.0\n"
   ]
  },
  {
   "cell_type": "markdown",
   "metadata": {},
   "source": [
    "<mark> Trunacte:</mark> to trim some digits of a float or double-type number or some characters of a string from the right\n",
    "## Truncate Example"
   ]
  },
  {
   "cell_type": "code",
   "execution_count": 6,
   "metadata": {},
   "outputs": [],
   "source": [
    "import java.lang.Math;\n",
    "\n",
    "public class Program {\n",
    "    public static void main(String[] args) {\n",
    "        double test1 = 1.234;\n",
    "        double test2 = -1.567;\n",
    "        \n",
    "        // ... Math.floor will always go towards negative infinity.\n",
    "        System.out.println(Math.floor(test1));\n",
    "        System.out.println(Math.floor(test2));\n",
    "        \n",
    "        // ... Math.round may go towards negative or positive infinity.\n",
    "        System.out.println(Math.round(test1));\n",
    "        System.out.println(Math.round(test2));\n",
    "        \n",
    "        // ... Casting to int will remove the fractional part.\n",
    "        // This truncates the number.\n",
    "        System.out.println((int) test1);\n",
    "        System.out.println((int) test2);\n",
    "    }\n",
    "}"
   ]
  }
 ],
 "metadata": {
  "kernelspec": {
   "display_name": "Java",
   "language": "java",
   "name": "java"
  },
  "language_info": {
   "codemirror_mode": "java",
   "file_extension": ".jshell",
   "mimetype": "text/x-java-source",
   "name": "java",
   "pygments_lexer": "java",
   "version": "17.0.5+8"
  },
  "orig_nbformat": 4,
  "vscode": {
   "interpreter": {
    "hash": "916dbcbb3f70747c44a77c7bcd40155683ae19c65e1c03b4aa3499c5328201f1"
   }
  }
 },
 "nbformat": 4,
 "nbformat_minor": 2
}
