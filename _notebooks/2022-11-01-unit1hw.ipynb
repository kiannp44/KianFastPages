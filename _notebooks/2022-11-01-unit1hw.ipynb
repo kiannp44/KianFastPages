{
 "cells": [
  {
   "cell_type": "markdown",
   "metadata": {},
   "source": [
    "# Unit 1 Hw - Primitives\n",
    "- toc: true\n",
    "- badges: true\n",
    "- comments: true\n",
    "- author: Kian Pasokhi\n",
    "- categories: [ Collegeboard]\n"
   ]
  },
  {
   "cell_type": "markdown",
   "metadata": {},
   "source": [
    "- All code that runs must be in the main method \n",
    "- Data types are different categories in which one can store various types of data.\n",
    "The main Primitve data types are:\n",
    "Integer (int): used for whole numbers\n",
    "Double (double): used for numbers with decimals\n",
    "Boolean (boolean): used for true or false conditionals\n",
    "For Primitive types, variables store actual data instead of reference\n",
    "If the variable is declared final, it cannot be edited\n",
    "A non Primitive type which is commonly used is String\n",
    "Stores text\n",
    "- To comment your code, use // for single line comments and /**/ for multiple lines\n",
    "1. In order to perform mathmatical calculations on integers and doubles, you can use operators\n",
    "2. Main ones are +, -, *, /\n",
    "3. Modulus is %, used to get remainder when two numbers are divided\n"
   ]
  }
 ],
 "metadata": {
  "kernelspec": {
   "display_name": "Python 3.8.10 64-bit",
   "language": "python",
   "name": "python3"
  },
  "language_info": {
   "name": "python",
   "version": "3.8.10"
  },
  "orig_nbformat": 4,
  "vscode": {
   "interpreter": {
    "hash": "916dbcbb3f70747c44a77c7bcd40155683ae19c65e1c03b4aa3499c5328201f1"
   }
  }
 },
 "nbformat": 4,
 "nbformat_minor": 2
}
