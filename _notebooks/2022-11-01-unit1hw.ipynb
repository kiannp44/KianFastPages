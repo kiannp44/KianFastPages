{
 "cells": [
  {
   "cell_type": "markdown",
   "metadata": {},
   "source": [
    "# Unit 1 Primitives\n",
    "- toc: true\n",
    "- badges: true\n",
    "- comments: true\n",
    "- author: Kian Pasokhi\n",
    "- categories: [ Collegeboard]\n"
   ]
  },
  {
   "cell_type": "markdown",
   "metadata": {},
   "source": [
    "- All code that runs must be in the main method \n",
    "- Data types are different categories in which one can store various types of data.\n",
    "The main Primitve data types are:\n",
    "Integer (int): used for whole numbers\n",
    "Double (double): used for numbers with decimals\n",
    "Boolean (boolean): used for true or false conditionals\n",
    "For Primitive types, variables store actual data instead of reference\n",
    "If the variable is declared final, it cannot be edited\n",
    "A non Primitive type which is commonly used is String\n",
    "Stores text\n",
    "- To comment your code, use // for single line comments and /**/ for multiple lines\n",
    "1. In order to perform mathmatical calculations on integers and doubles, you can use operators\n",
    "2. Main ones are +, -, *, /\n",
    "3. Modulus is %, used to get remainder when two numbers are divided\n",
    "\n",
    "## Example\n"
   ]
  },
  {
   "cell_type": "code",
   "execution_count": 1,
   "metadata": {
    "vscode": {
     "languageId": "java"
    }
   },
   "outputs": [
    {
     "name": "stdout",
     "output_type": "stream",
     "text": [
      "7\n",
      "7.0\n",
      "-3\n",
      "-3.0\n",
      "10\n",
      "10.0\n",
      "0\n",
      "0.4\n",
      "1.0\n",
      "1\n"
     ]
    }
   ],
   "source": [
    "public class Math {\n",
    "\n",
    "    public static void main(String[] args) {\n",
    "\n",
    "        int number = 2;\n",
    "        int number2 = 5;\n",
    "        double number3 = 2.0;\n",
    "        double number4 = 5.0;\n",
    "\n",
    "        System.out.println(number+number2);\n",
    "        System.out.println(number3+number4);\n",
    "        System.out.println(number-number2);\n",
    "        System.out.println(number3-number4);\n",
    "        System.out.println(number * number2);\n",
    "        System.out.println(number3 * number4);\n",
    "        System.out.println(number/number2);\n",
    "        System.out.println(number3/number4);\n",
    "        System.out.println(number4 % number3);\n",
    "        System.out.println(number2 % number);\n",
    "    }\n",
    "}\n",
    "\n",
    "Math.main(null);"
   ]
  },
  {
   "cell_type": "markdown",
   "metadata": {},
   "source": [
    "Compute the remainder of 6 multiplied by 1234124 divided by 11345 minus 890809 plus 90800 (use order of operations) is divided by 980098, and store this in a variable called num (get an exact number as opposed to a whole number)\n"
   ]
  },
  {
   "cell_type": "code",
   "execution_count": 1,
   "metadata": {
    "vscode": {
     "languageId": "java"
    }
   },
   "outputs": [
    {
     "name": "stdout",
     "output_type": "stream",
     "text": [
      "10.5\n",
      "100\n",
      "10\n",
      "100.0\n",
      "2147483647\n",
      "-2147483648\n"
     ]
    }
   ],
   "source": [
    "public class Cast {\n",
    "\n",
    "    public static void main(String[] args) {\n",
    "        double num = 10.5;\n",
    "        int num2 = 100;\n",
    "        int numInt = (int)num;\n",
    "        double num2Double = (double)num2;\n",
    "\n",
    "        System.out.println(num);\n",
    "        System.out.println(num2);\n",
    "        System.out.println(numInt);\n",
    "        System.out.println(num2Double);\n",
    "        System.out.println(Integer.MAX_VALUE);\n",
    "        System.out.println(Integer.MIN_VALUE);\n",
    "\n",
    "\n",
    "    }\n",
    "}\n",
    "\n",
    "Cast.main(null);"
   ]
  },
  {
   "cell_type": "markdown",
   "metadata": {},
   "source": [
    "# Assignment Operators\n",
    "- += adds value of a variabe to another variable and assigns total value to first variable\n",
    "- -= subtracts value of a variabe to another variable and assigns total value to first variable\n",
    "- *= multiplies value of a variabe to another variable and assigns total value to first variable\n",
    "- /= multiplies value of a variabe to another variable and assigns total value to first variable\n",
    "- %= takes the remainder of a variable with a second variable and assigns remainder to first variable\n",
    "- ++ increments a variable by 1, to incrememt by more change second plus to number which you want to incrememnt by\n",
    "- -- subracts a variable by 1, to incrememt by more change second plus to number which you want to subtract by\n",
    " "
   ]
  },
  {
   "cell_type": "markdown",
   "metadata": {},
   "source": [
    "<mark >Casting: </mark> \"When you assign a value of one primitive type to another type.\" You can use it to round a number or truncuate it\n",
    "## Casting Example"
   ]
  },
  {
   "cell_type": "code",
   "execution_count": 3,
   "metadata": {
    "vscode": {
     "languageId": "java"
    }
   },
   "outputs": [
    {
     "name": "stdout",
     "output_type": "stream",
     "text": [
      "9\n",
      "9.0\n"
     ]
    }
   ],
   "source": [
    " int myInt = 9;\n",
    " double myDouble = myInt; // Automatic casting: int to double\n",
    "  \n",
    "System.out.println(myInt);      // Outputs 9\n",
    "System.out.println(myDouble);   // Outputs 9.0\n"
   ]
  },
  {
   "cell_type": "markdown",
   "metadata": {},
   "source": [
    "<mark> Trunacte:</mark> to trim some digits of a float or double-type number or some characters of a string from the right\n",
    "## Truncate Example"
   ]
  },
  {
   "cell_type": "code",
   "execution_count": 6,
   "metadata": {
    "vscode": {
     "languageId": "java"
    }
   },
   "outputs": [],
   "source": [
    "import java.lang.Math;\n",
    "\n",
    "public class Program {\n",
    "    public static void main(String[] args) {\n",
    "        double test1 = 1.234;\n",
    "        double test2 = -1.567;\n",
    "        \n",
    "        // ... Math.floor will always go towards negative infinity.\n",
    "        System.out.println(Math.floor(test1));\n",
    "        System.out.println(Math.floor(test2));\n",
    "        \n",
    "        // ... Math.round may go towards negative or positive infinity.\n",
    "        System.out.println(Math.round(test1));\n",
    "        System.out.println(Math.round(test2));\n",
    "        \n",
    "        // ... Casting to int will remove the fractional part.\n",
    "        // This truncates the number.\n",
    "        System.out.println((int) test1);\n",
    "        System.out.println((int) test2);\n",
    "    }\n",
    "}"
   ]
  },
  {
   "cell_type": "markdown",
   "metadata": {},
   "source": [
    "# Homework"
   ]
  },
  {
   "cell_type": "markdown",
   "metadata": {},
   "source": [
    "## Hack 1.1"
   ]
  },
  {
   "cell_type": "code",
   "execution_count": 1,
   "metadata": {
    "vscode": {
     "languageId": "java"
    }
   },
   "outputs": [
    {
     "name": "stdout",
     "output_type": "stream",
     "text": [
      "Kian Pasokhi\n",
      "Period 2\n"
     ]
    }
   ],
   "source": [
    "public class Printing {\n",
    "    public static void main(String[] args){\n",
    "        System.out.println(\"Kian Pasokhi\");\n",
    "        System.out.println(\"Period 2\");\n",
    "}  \n",
    "}\n",
    "Printing.main(null);"
   ]
  },
  {
   "cell_type": "markdown",
   "metadata": {},
   "source": [
    "## Hack 1.2"
   ]
  },
  {
   "cell_type": "code",
   "execution_count": 2,
   "metadata": {
    "vscode": {
     "languageId": "java"
    }
   },
   "outputs": [
    {
     "name": "stdout",
     "output_type": "stream",
     "text": [
      "Kian Pasokhi\n",
      "17\n",
      "false\n",
      "5.7\n"
     ]
    }
   ],
   "source": [
    "public class Biodata {\n",
    "\n",
    "    public static void main(String[] args) {\n",
    "        String name = \"Kian Pasokhi\";\n",
    "        int age = 17;\n",
    "        boolean underclassman = false;\n",
    "        double height = 5.7;\n",
    "\n",
    "        System.out.println(name);\n",
    "        System.out.println(age);\n",
    "        System.out.println(underclassman);\n",
    "        System.out.println(height);\n",
    "    }\n",
    "}\n",
    "\n",
    "Biodata.main(null);"
   ]
  },
  {
   "cell_type": "markdown",
   "metadata": {},
   "source": [
    "## Hack 1.3"
   ]
  },
  {
   "cell_type": "code",
   "execution_count": 5,
   "metadata": {
    "vscode": {
     "languageId": "java"
    }
   },
   "outputs": [
    {
     "name": "stdout",
     "output_type": "stream",
     "text": [
      "162.0\n"
     ]
    }
   ],
   "source": [
    "public class Num {\n",
    "\n",
    "    public static void main(String[] args) {\n",
    "    double num = ( ( 123 * 15003 ) / 11345 );\n",
    "    System.out.println(num);\n",
    "\n",
    "}\n",
    "}\n",
    "\n",
    "Num.main(null);"
   ]
  },
  {
   "cell_type": "markdown",
   "metadata": {},
   "source": [
    "## Hack 1.4"
   ]
  },
  {
   "cell_type": "code",
   "execution_count": 6,
   "metadata": {
    "vscode": {
     "languageId": "java"
    }
   },
   "outputs": [
    {
     "name": "stdout",
     "output_type": "stream",
     "text": [
      "Remainder when divided by 4 is 2\n"
     ]
    }
   ],
   "source": [
    "public class Operators {\n",
    "\n",
    "    public static void main(String[] args) {\n",
    "        long num = 23948294;\n",
    "        num %= 4;\n",
    "        System.out.println(\"Remainder when divided by 4 is \" + num);\n",
    "    }\n",
    "}\n",
    "\n",
    "Operators.main(null);"
   ]
  },
  {
   "cell_type": "markdown",
   "metadata": {},
   "source": [
    "## Hack 1.5"
   ]
  },
  {
   "cell_type": "code",
   "execution_count": 11,
   "metadata": {
    "vscode": {
     "languageId": "java"
    }
   },
   "outputs": [
    {
     "name": "stdout",
     "output_type": "stream",
     "text": [
      "the double to the integer is: 123456\n"
     ]
    }
   ],
   "source": [
    "public class CastActivity {\n",
    "\n",
    "    public static void main(String[] args) {\n",
    "        double dNum = 123456.123456;\n",
    "        int dInt = (int) dNum;\n",
    "        System.out.println(\"the double to the integer is: \" + dInt);\n",
    "\n",
    "    }\n",
    "}\n",
    "\n",
    "CastActivity.main(null);"
   ]
  },
  {
   "cell_type": "markdown",
   "metadata": {},
   "source": [
    "## Code Example"
   ]
  },
  {
   "cell_type": "code",
   "execution_count": null,
   "metadata": {
    "vscode": {
     "languageId": "java"
    }
   },
   "outputs": [],
   "source": [
    "public class Main {\n",
    "    public static void main (String[] args) {\n",
    "      Scanner sc = new Scanner(System.in);\n",
    "      System.out.println(\"What is your name?\");\n",
    "      String name = sc.next(); //string\n",
    "      System.out.println(name);\n",
    "      System.out.println(\"How many pizzas do you want to buy?\");\n",
    "      int pizzas = sc.nextInt(); //integer\n",
    "      System.out.println(pizzas);\n",
    "      System.out.println(\"Do you have the discount (true/false)?\");\n",
    "      boolean hasDiscount = sc.nextBoolean(); //boolean\n",
    "      System.out.println(hasDiscount);\n",
    "  \n",
    "      double price; //double, defaults to 0\n",
    "      if (hasDiscount) {\n",
    "        price = 1.20;\n",
    "      } else {\n",
    "        price = 2.10;\n",
    "      }\n",
    "  \n",
    "      char firstChar = name.charAt(0); //character\n",
    "      double finalPrice = price * pizzas * 1.08; // adding taxes\n",
    "  \n",
    "      System.out.println(\"Hi \" + firstChar + \"! You have to pay \" + (finalPrice) + \" dollars.\");\n",
    "    }\n",
    "  }\n",
    "  \n",
    "  Main.main(null);"
   ]
  },
  {
   "cell_type": "markdown",
   "metadata": {},
   "source": [
    "# GPA Calculator"
   ]
  },
  {
   "cell_type": "code",
   "execution_count": 7,
   "metadata": {
    "vscode": {
     "languageId": "java"
    }
   },
   "outputs": [
    {
     "name": "stdout",
     "output_type": "stream",
     "text": [
      "Enter final category (separate/tests): separate\n",
      "Current grade: 90.0\n",
      "Percentage of grade that is final: 50.0\n",
      "Desired grade: 20.0\n",
      "You need a -50.00 on the test\n"
     ]
    }
   ],
   "source": [
    "import java.util.Scanner;\n",
    "import java.lang.Math;\n",
    "\n",
    "public class GradeCalculator {\n",
    "\n",
    "    private String category;\n",
    "    private double current;\n",
    "    private double percent;\n",
    "    private double desired;\n",
    "    private double test;\n",
    "\n",
    "    private double percent_test;\n",
    "    private double current_test;\n",
    "    private int points_test;\n",
    "    private int points_final;\n",
    "\n",
    "    public double calculate() {\n",
    "        this.enterCat();\n",
    "\n",
    "        if (category.equals(\"separate\")) {\n",
    "            this.enterVals();\n",
    "            // current * (1-percent) + final * percent = desired\n",
    "            test = (desired - (current * (1-percent/100))) / (percent/100); // Ex. 95 - (90 * (1 - .20)) / .20\n",
    "        }\n",
    "\n",
    "        else if (category.equals(\"tests\")) {\n",
    "            this.enterPoints();\n",
    "            // current_points = current * 100 - percent_test * points_test\n",
    "            // percent_test * (points_test + points_final) + (1-percent_test) * (current_points) = desired\n",
    "            percent_test /= 100;\n",
    "            int current_points = (int)current - (int)(percent_test) * points_test;\n",
    "            test = ((desired - ((1-percent_test)*current_points)/percent_test) - points_test);\n",
    "        }\n",
    "\n",
    "        return test;\n",
    "    }\n",
    "\n",
    "    private void enterCat() {\n",
    "        while (true) {\n",
    "            Scanner dd = new Scanner(System.in);\n",
    "            System.out.print(\"Enter final category (separate/tests): \");\n",
    "            try {\n",
    "                category = dd.nextLine();\n",
    "                System.out.println(category);\n",
    "                break;\n",
    "\n",
    "            } catch (Exception e) { // catch non-numerical input\n",
    "                System.out.println(\"Not a string, \" + e);\n",
    "            }\n",
    "            dd.close();\n",
    "        }\n",
    "    }\n",
    "\n",
    "    private void enterVals() {\n",
    "        while (true) {\n",
    "            Scanner dd2 = new Scanner(System.in);\n",
    "            try {\n",
    "                System.out.print(\"Current grade: \");\n",
    "                current = dd2.nextDouble();\n",
    "                System.out.println(current);\n",
    "\n",
    "                System.out.print(\"Percentage of grade that is final: \");\n",
    "                percent = dd2.nextDouble();\n",
    "                System.out.println(percent);\n",
    "\n",
    "                System.out.print(\"Desired grade: \");\n",
    "                desired = dd2.nextDouble();\n",
    "                System.out.println(desired);\n",
    "\n",
    "                break;\n",
    "            } catch (Exception e) { // catch non-numerical input\n",
    "                System.out.println(current + \"not a double, \" + e);\n",
    "            }\n",
    "            dd2.close();\n",
    "        }\n",
    "    }\n",
    "\n",
    "    private void enterPoints() {\n",
    "        while (true) {\n",
    "            Scanner dd3 = new Scanner(System.in);\n",
    "            try {\n",
    "                System.out.print(\"Current grade: \");\n",
    "                current = dd3.nextDouble();\n",
    "                System.out.println(current);\n",
    "\n",
    "                System.out.print(\"Percentage of grade that is tests: \");\n",
    "                percent = dd3.nextDouble();\n",
    "                System.out.println(percent_test);\n",
    "                \n",
    "                System.out.print(\"Current percent in tests: \");\n",
    "                current_test = dd3.nextDouble();\n",
    "                System.out.println(current_test);\n",
    "                \n",
    "                System.out.print(\"Current amount of points in tests: \");\n",
    "                points_test = dd3.nextInt();\n",
    "                System.out.println(points_test);\n",
    "\n",
    "                System.out.print(\"Amount of points in final: \");\n",
    "                points_final = dd3.nextInt();\n",
    "                System.out.println(points_final);\n",
    "\n",
    "                System.out.print(\"Desired grade: \");\n",
    "                desired = dd3.nextDouble();\n",
    "                System.out.println(desired);\n",
    "\n",
    "                break;\n",
    "            } catch (Exception e) { // catch non-numerical input\n",
    "                System.out.println(current + \"not a double, \" + e);\n",
    "            }\n",
    "            dd3.close();\n",
    "        }\n",
    "    }\n",
    "\n",
    "    public static void main(String[] args) {    // main method\n",
    "        GradeCalculator calc = new GradeCalculator();\n",
    "        System.out.println(\"You need a \" + String.format(\"%.2f\", calc.calculate()) + \" on the test\");\n",
    "    }\n",
    "}\n",
    "\n",
    "GradeCalculator.main(null);"
   ]
  }
 ],
 "metadata": {
  "kernelspec": {
   "display_name": "Java",
   "language": "java",
   "name": "java"
  },
  "language_info": {
   "codemirror_mode": "java",
   "file_extension": ".jshell",
   "mimetype": "text/x-java-source",
   "name": "Java",
   "pygments_lexer": "java",
   "version": "17.0.5+8"
  },
  "orig_nbformat": 4,
  "vscode": {
   "interpreter": {
    "hash": "916dbcbb3f70747c44a77c7bcd40155683ae19c65e1c03b4aa3499c5328201f1"
   }
  }
 },
 "nbformat": 4,
 "nbformat_minor": 2
}
