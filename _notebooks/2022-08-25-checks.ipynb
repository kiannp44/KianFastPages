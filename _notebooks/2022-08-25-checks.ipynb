{
 "cells": [
  {
   "cell_type": "markdown",
   "metadata": {},
   "source": [
    "# Install Check\n",
    "> Week 1, This productive blog contains install checks for python, java, anaconda and kernel checks.\n",
    "\n",
    "- toc: true\n",
    "- badges: true\n",
    "- comments: true\n",
    "- author: Kian Pasokhi\n",
    "- categories: [fastpages, jupyter]\n",
    "- image: /images/checkmark.png\n",
    "\n"
   ]
  },
  {
   "cell_type": "markdown",
   "metadata": {},
   "source": [
    "# Python Version Checks"
   ]
  },
  {
   "cell_type": "code",
   "execution_count": 16,
   "metadata": {
    "vscode": {
     "languageId": "shellscript"
    }
   },
   "outputs": [
    {
     "name": "stdout",
     "output_type": "stream",
     "text": [
      "Python 3.9.12\n"
     ]
    }
   ],
   "source": [
    "#collapse-hide \n",
    " \n",
    "python --version"
   ]
  },
  {
   "cell_type": "code",
   "execution_count": 5,
   "metadata": {
    "vscode": {
     "languageId": "shellscript"
    }
   },
   "outputs": [
    {
     "name": "stdout",
     "output_type": "stream",
     "text": [
      "Python 2.7.18\n"
     ]
    }
   ],
   "source": [
    "#collapse-hide \n",
    "\n",
    "python2 --version"
   ]
  },
  {
   "cell_type": "markdown",
   "metadata": {},
   "source": [
    "# Java(c) Version Checks"
   ]
  },
  {
   "cell_type": "code",
   "execution_count": 15,
   "metadata": {
    "vscode": {
     "languageId": "shellscript"
    }
   },
   "outputs": [
    {
     "name": "stdout",
     "output_type": "stream",
     "text": [
      "openjdk 11.0.16 2022-07-19\n",
      "OpenJDK Runtime Environment (build 11.0.16+8-post-Ubuntu-0ubuntu120.04)\n",
      "OpenJDK 64-Bit Server VM (build 11.0.16+8-post-Ubuntu-0ubuntu120.04, mixed mode, sharing)\n"
     ]
    }
   ],
   "source": [
    "#collapse-hide \n",
    "\n",
    "java --version"
   ]
  },
  {
   "cell_type": "code",
   "execution_count": 17,
   "metadata": {
    "vscode": {
     "languageId": "shellscript"
    }
   },
   "outputs": [
    {
     "name": "stdout",
     "output_type": "stream",
     "text": [
      "javac 11.0.16\n"
     ]
    }
   ],
   "source": [
    "#collapse-hide \n",
    "\n",
    "javac --version"
   ]
  },
  {
   "cell_type": "markdown",
   "metadata": {},
   "source": [
    "# Anaconda Version Check"
   ]
  },
  {
   "cell_type": "code",
   "execution_count": 18,
   "metadata": {
    "vscode": {
     "languageId": "shellscript"
    }
   },
   "outputs": [
    {
     "name": "stdout",
     "output_type": "stream",
     "text": [
      "conda 4.13.0\n"
     ]
    }
   ],
   "source": [
    "#collapse-hide \n",
    "\n",
    "conda --version "
   ]
  },
  {
   "cell_type": "markdown",
   "metadata": {},
   "source": [
    "# Node Package Manager"
   ]
  },
  {
   "cell_type": "code",
   "execution_count": 21,
   "metadata": {
    "vscode": {
     "languageId": "shellscript"
    }
   },
   "outputs": [
    {
     "name": "stdout",
     "output_type": "stream",
     "text": [
      "3.10.10\n"
     ]
    }
   ],
   "source": [
    "#collapse-hide \n",
    "\n",
    "npm -version"
   ]
  },
  {
   "cell_type": "markdown",
   "metadata": {},
   "source": [
    "# Kernel Checks"
   ]
  },
  {
   "cell_type": "code",
   "execution_count": 19,
   "metadata": {
    "vscode": {
     "languageId": "shellscript"
    }
   },
   "outputs": [
    {
     "name": "stdout",
     "output_type": "stream",
     "text": [
      "Available kernels:\n",
      "  bash          /home/kianp/.local/share/jupyter/kernels/bash\n",
      "  java          /home/kianp/.local/share/jupyter/kernels/java\n",
      "  javascript    /home/kianp/.local/share/jupyter/kernels/javascript\n",
      "  python3       /home/kianp/.local/share/jupyter/kernels/python3\n"
     ]
    }
   ],
   "source": [
    "#collapse-hide \n",
    "\n",
    "jupyter kernelspec list"
   ]
  },
  {
   "cell_type": "markdown",
   "metadata": {},
   "source": [
    "# Others"
   ]
  },
  {
   "cell_type": "code",
   "execution_count": 7,
   "metadata": {
    "vscode": {
     "languageId": "shellscript"
    }
   },
   "outputs": [
    {
     "name": "stdout",
     "output_type": "stream",
     "text": [
      "2020-02-20-test.ipynb      2022-08-25-checks.ipynb      \u001b[0m\u001b[01;34mghtop_images\u001b[0m\n",
      "2020-08-22-testpost.ipynb  2022-08-28-javaprim.ipynb    \u001b[01;34mmy_icons\u001b[0m\n",
      "2022-08-22-java.ipynb      2022-08-28-primitives.ipynb\n",
      "2022-08-22-python.ipynb    README.md\n"
     ]
    }
   ],
   "source": [
    "ls\n"
   ]
  },
  {
   "cell_type": "code",
   "execution_count": 6,
   "metadata": {
    "vscode": {
     "languageId": "shellscript"
    }
   },
   "outputs": [
    {
     "name": "stdout",
     "output_type": "stream",
     "text": [
      "\u001b[01;31m\u001b[Kjupyter\u001b[m\u001b[K                   1.0.0            py39h06a4308_7  \n",
      "\u001b[01;31m\u001b[Kjupyter\u001b[m\u001b[K_client            6.1.12             pyhd3eb1b0_0  \n",
      "\u001b[01;31m\u001b[Kjupyter\u001b[m\u001b[K_console           6.4.0              pyhd3eb1b0_0  \n",
      "\u001b[01;31m\u001b[Kjupyter\u001b[m\u001b[K_core              4.9.2            py39h06a4308_0  \n",
      "\u001b[01;31m\u001b[Kjupyter\u001b[m\u001b[K_server            1.13.5             pyhd3eb1b0_0  \n",
      "\u001b[01;31m\u001b[Kjupyter\u001b[m\u001b[Klab                3.3.2              pyhd3eb1b0_0  \n",
      "\u001b[01;31m\u001b[Kjupyter\u001b[m\u001b[Klab_pygments       0.1.2                      py_0  \n",
      "\u001b[01;31m\u001b[Kjupyter\u001b[m\u001b[Klab_server         2.10.3             pyhd3eb1b0_1  \n",
      "\u001b[01;31m\u001b[Kjupyter\u001b[m\u001b[Klab_widgets        1.0.0              pyhd3eb1b0_1  \n"
     ]
    }
   ],
   "source": [
    "#collapse-hide \n",
    "\n",
    "conda list | grep \"jupyter\""
   ]
  },
  {
   "cell_type": "markdown",
   "metadata": {},
   "source": [
    "# Hacks"
   ]
  },
  {
   "cell_type": "code",
   "execution_count": 1,
   "metadata": {
    "vscode": {
     "languageId": "shellscript"
    }
   },
   "outputs": [
    {
     "name": "stdout",
     "output_type": "stream",
     "text": [
      "ipython                   8.2.0            py39h06a4308_0  \n",
      "ipython_genutils          0.2.0              pyhd3eb1b0_1  \n",
      "msgpack-python            1.0.2            py39hff7bd54_1  \n",
      "python                    3.9.12               h12debd9_0  \n",
      "python-dateutil           2.8.2              pyhd3eb1b0_0  \n",
      "python-fastjsonschema     2.15.1             pyhd3eb1b0_0  \n",
      "python-libarchive-c       2.9                pyhd3eb1b0_1  \n",
      "python-lsp-black          1.0.0              pyhd3eb1b0_0  \n",
      "python-lsp-jsonrpc        1.0.0              pyhd3eb1b0_0  \n",
      "python-lsp-server         1.2.4              pyhd3eb1b0_0  \n",
      "python-slugify            5.0.2              pyhd3eb1b0_0  \n",
      "python-snappy             0.6.0            py39h2531618_3  \n"
     ]
    }
   ],
   "source": [
    "test=\"python\"\n",
    "check=`conda list | grep $test`\n",
    "n=${#check}\n",
    "\n",
    "if [[ ${n} > 0 ]]; \n",
    "then\n",
    "    echo \"$check\"\n",
    "else \n",
    "    echo \"$test not found\"\n",
    "fi"
   ]
  }
 ],
 "metadata": {
  "kernelspec": {
   "display_name": "Bash",
   "language": "bash",
   "name": "bash"
  },
  "language_info": {
   "codemirror_mode": "shell",
   "file_extension": ".sh",
   "mimetype": "text/x-sh",
   "name": "bash"
  },
  "orig_nbformat": 4,
  "vscode": {
   "interpreter": {
    "hash": "8c8857ce64b21bd3ccd4fbc6254adfd729bc4820a97fa6d21d3364e118603856"
   }
  }
 },
 "nbformat": 4,
 "nbformat_minor": 2
}
