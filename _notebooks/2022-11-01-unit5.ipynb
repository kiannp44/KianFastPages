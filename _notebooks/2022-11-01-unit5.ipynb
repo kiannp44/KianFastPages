{
 "cells": [
  {
   "cell_type": "markdown",
   "metadata": {},
   "source": [
    "# Unit 5 Using Classes\n",
    "- toc: true\n",
    "- badges: true\n",
    "- comments: true\n",
    "- author: Kian Pasokhi\n",
    "- categories: [ Collegeboard]\n",
    "\n"
   ]
  },
  {
   "cell_type": "markdown",
   "metadata": {},
   "source": [
    "-Precondition: condition that must be true before execution of a code block\n",
    "Methods don't need to check preconditions\n",
    "-Postcondition: condition that is ALWAYS true after the execution of a code block\n",
    "Outcome\n",
    "State of instance variables"
   ]
  },
  {
   "cell_type": "code",
   "execution_count": null,
   "metadata": {},
   "outputs": [],
   "source": [
    "-Allows other objects outside of the class to obtain values of instance variables or static variables\n",
    "-Non-void method returns a single value\n",
    "-Header includes return type (String, int, Long etc)\n",
    "\"return by value\": return expression at the end of a method will specify that value that will be returned (must correspond to the type)\n",
    "-Must be used when different classes need to access the instance variables"
   ]
  },
  {
   "cell_type": "code",
   "execution_count": null,
   "metadata": {},
   "outputs": [],
   "source": [
    "// always public\n",
    "// must specify return type\n",
    "// getVariable (typical naming convention)\n",
    "// no parameters\n",
    "\n",
    "public String getVariable(){\n",
    "\n",
    "}"
   ]
  },
  {
   "cell_type": "markdown",
   "metadata": {},
   "source": [
    "- Overridden method that provides description of a specific object (ie values of instance variables)\n",
    "- If System.out.print or System.out.println() is passed an object, that object's toString() method is called ==> returned string is printed\n",
    "Java default toString() will return a hashcode, but you can manually write your own toString() method"
   ]
  },
  {
   "cell_type": "markdown",
   "metadata": {},
   "source": [
    "# FRQ Answers"
   ]
  },
  {
   "cell_type": "code",
   "execution_count": null,
   "metadata": {},
   "outputs": [],
   "source": [
    "public class StepTracker {\n",
    "   \n",
    "    private int totalSteps;\n",
    "    private int minimumSteps;\n",
    "    private int days;\n",
    "    private int activeDays;\n",
    "    \n",
    "    public StepTracker(int min){\n",
    "        minimumSteps = min;\n",
    "        totalSteps = 0;\n",
    "        days = 0;\n",
    "        activeDays = 0;\n",
    "    }\n",
    "\n",
    "    public void addDailySteps(int steps){\n",
    "        totalSteps += steps;\n",
    "        days++;\n",
    "        if (steps >= minSteps){\n",
    "            activeDays++;\n",
    "        }\n",
    "    }\n",
    "\n",
    "    public double averageSteps(){\n",
    "        if (days == 0){\n",
    "            return 0.0;\n",
    "        } \n",
    "\n",
    "        else{\n",
    "            return (double) totalSteps / days;\n",
    "        }\n",
    "    }\n",
    "\n",
    "\n",
    "    public int getActiveDays(){\n",
    "        return days;\n",
    "    }\n",
    "\n",
    "}"
   ]
  },
  {
   "cell_type": "code",
   "execution_count": null,
   "metadata": {},
   "outputs": [],
   "source": [
    "public class StepTracker {\n",
    "\n",
    "    private double Steps = 0;\n",
    "    private int activeDays = 0;\n",
    "    private int totalDays = 0;\n",
    "    private double cutoff = 0;\n",
    "\n",
    "    public StepTracker (double Steps) {\n",
    "        this.cutoff = Steps;\n",
    "    }\n",
    "\n",
    "    public void addDailySteps (int Steps) {\n",
    "        this.Steps = this.Steps + Steps;\n",
    "\n",
    "        if (Steps >= cutoff) {\n",
    "            this.activeDays++;\n",
    "        }\n",
    "\n",
    "        this.totalDays++;\n",
    "\n",
    "    }\n",
    "\n",
    "    public int activeDays () {\n",
    "        return activeDays;\n",
    "    }\n",
    "\n",
    "    public double averageSteps() {\n",
    "        return this.Steps/totalDays;\n",
    "    }\n",
    "\n",
    "    public static void main (String[] args) {\n",
    "        StepTracker tr = new StepTracker(10000);\n",
    "        System.out.println(tr.activeDays());\n",
    "        System.out.println(tr.averageSteps());\n",
    "        tr.addDailySteps(9000);\n",
    "        tr.addDailySteps(5000);\n",
    "        System.out.println(tr.activeDays());\n",
    "        System.out.println(tr.averageSteps());\n",
    "        tr.addDailySteps(13000);\n",
    "        System.out.println(tr.activeDays());\n",
    "        System.out.println(tr.averageSteps());\n",
    "        tr.addDailySteps(23000);\n",
    "        tr.addDailySteps(1111);\n",
    "        System.out.println(tr.activeDays());\n",
    "        System.out.println(tr.averageSteps());\n",
    "    }\n",
    "}\n",
    "\n",
    "StepTracker.main(null);"
   ]
  }
 ],
 "metadata": {
  "kernelspec": {
   "display_name": "Java",
   "language": "java",
   "name": "java"
  },
  "language_info": {
   "name": "java",
   "version": "3.8.10"
  },
  "orig_nbformat": 4,
  "vscode": {
   "interpreter": {
    "hash": "916dbcbb3f70747c44a77c7bcd40155683ae19c65e1c03b4aa3499c5328201f1"
   }
  }
 },
 "nbformat": 4,
 "nbformat_minor": 2
}
