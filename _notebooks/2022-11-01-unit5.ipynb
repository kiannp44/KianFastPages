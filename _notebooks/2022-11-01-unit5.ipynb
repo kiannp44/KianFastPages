{
 "cells": [
  {
   "cell_type": "markdown",
   "metadata": {},
   "source": [
    "# Unit 5 Hw Using Classes\n",
    "- toc: true\n",
    "- badges: true\n",
    "- comments: true\n",
    "- author: Kian Pasokhi\n",
    "- categories: [ Collegeboard]\n",
    "\n"
   ]
  },
  {
   "cell_type": "code",
   "execution_count": null,
   "metadata": {},
   "outputs": [],
   "source": [
    "public class StepTracker {\n",
    "\n",
    "    private double Steps = 0;\n",
    "    private int activeDays = 0;\n",
    "    private int totalDays = 0;\n",
    "    private double cutoff = 0;\n",
    "\n",
    "    public StepTracker (double Steps) {\n",
    "        this.cutoff = Steps;\n",
    "    }\n",
    "\n",
    "    public void addDailySteps (int Steps) {\n",
    "        this.Steps = this.Steps + Steps;\n",
    "\n",
    "        if (Steps >= cutoff) {\n",
    "            this.activeDays++;\n",
    "        }\n",
    "\n",
    "        this.totalDays++;\n",
    "\n",
    "    }\n",
    "\n",
    "    public int activeDays () {\n",
    "        return activeDays;\n",
    "    }\n",
    "\n",
    "    public double averageSteps() {\n",
    "        return this.Steps/totalDays;\n",
    "    }\n",
    "\n",
    "    public static void main (String[] args) {\n",
    "        StepTracker tr = new StepTracker(10000);\n",
    "        System.out.println(tr.activeDays());\n",
    "        System.out.println(tr.averageSteps());\n",
    "        tr.addDailySteps(9000);\n",
    "        tr.addDailySteps(5000);\n",
    "        System.out.println(tr.activeDays());\n",
    "        System.out.println(tr.averageSteps());\n",
    "        tr.addDailySteps(13000);\n",
    "        System.out.println(tr.activeDays());\n",
    "        System.out.println(tr.averageSteps());\n",
    "        tr.addDailySteps(23000);\n",
    "        tr.addDailySteps(1111);\n",
    "        System.out.println(tr.activeDays());\n",
    "        System.out.println(tr.averageSteps());\n",
    "    }\n",
    "}\n",
    "\n",
    "StepTracker.main(null);"
   ]
  }
 ],
 "metadata": {
  "kernelspec": {
   "display_name": "Java",
   "language": "java",
   "name": "java"
  },
  "language_info": {
   "name": "java",
   "version": "3.8.10"
  },
  "orig_nbformat": 4,
  "vscode": {
   "interpreter": {
    "hash": "916dbcbb3f70747c44a77c7bcd40155683ae19c65e1c03b4aa3499c5328201f1"
   }
  }
 },
 "nbformat": 4,
 "nbformat_minor": 2
}
