{
 "cells": [
  {
   "attachments": {},
   "cell_type": "markdown",
   "metadata": {},
   "source": [
    "# 52 Question Corrections\n",
    "- toc: false\n",
    "- badges: true\n",
    "- comments: true\n",
    "- author: Kian Pasokhi\n",
    "- categories: [ Collegeboard]\n"
   ]
  },
  {
   "attachments": {},
   "cell_type": "markdown",
   "metadata": {},
   "source": [
    "# Question 2\n",
    "The answer was A, I made a mistake within the index and it caused me to get the question wrong. Topic 6.2 Skill 4.b"
   ]
  },
  {
   "cell_type": "markdown",
   "metadata": {},
   "source": [
    "# Question 7\n",
    "The answer was D, This was a multiple answer question and I didn't realize that II would also be a right answer overlooked it. Topic 9.3 Skill 4.b"
   ]
  },
  {
   "cell_type": "markdown",
   "metadata": {},
   "source": [
    "# Question 9\n",
    "The answer was C, I didn't realize that the initial value is not 5 and its always above 10. Topic 3.4 Skill 4.c"
   ]
  },
  {
   "cell_type": "markdown",
   "metadata": {},
   "source": [
    "# Question 27\n",
    "The answer was D, This was a multiple answer question and I didn't realize that II would also be a right answer overlooked it. Topic 9.3 Skill 4.b"
   ]
  },
  {
   "cell_type": "markdown",
   "metadata": {},
   "source": [
    "# Question 36\n",
    "The answer was A, I made a mistake when I was following along with the line of code which caused me to get the question wrong. Topic 3.3 Skill 3.a"
   ]
  },
  {
   "cell_type": "markdown",
   "metadata": {},
   "source": [
    "# Question 42\n",
    "The answer was A, I wasnt sure on the topic and it caused me to make a big mistake, wasnt sure about the syntax. Topic 3.3 Skill 3.a"
   ]
  },
  {
   "attachments": {},
   "cell_type": "markdown",
   "metadata": {},
   "source": [
    "# Question 44\n",
    "The answer was A, I made a mistake when I was following along with the line of code which caused me to get the question wrong. Topic 3.3 Skill 3.a"
   ]
  },
  {
   "cell_type": "markdown",
   "metadata": {},
   "source": [
    "# Reflection\n",
    "- I realized a lot of the mistakes I were making was because I rushed the answers but I also realized most of my wrong answers were from Inheritance. I might need to revisit the topic and study it in order to get a better score next time."
   ]
  }
 ],
 "metadata": {
  "kernelspec": {
   "display_name": "Java",
   "language": "java",
   "name": "java"
  },
  "language_info": {
   "name": "java",
   "version": "3.10.9 (main, Dec 15 2022, 17:11:09) [Clang 14.0.0 (clang-1400.0.29.202)]"
  },
  "orig_nbformat": 4,
  "vscode": {
   "interpreter": {
    "hash": "b0fa6594d8f4cbf19f97940f81e996739fb7646882a419484c72d19e05852a7e"
   }
  }
 },
 "nbformat": 4,
 "nbformat_minor": 2
}
