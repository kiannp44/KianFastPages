{
 "cells": [
  {
   "cell_type": "markdown",
   "metadata": {},
   "source": [
    "# Focus and Habits\n",
    "- toc: true\n",
    "- badges: true\n",
    "- comments: true\n",
    "- author: Kian Pasokhi\n",
    "- categories: [ PBL]\n",
    "- image: /images/psych.png\n",
    "\n",
    "\n"
   ]
  },
  {
   "cell_type": "markdown",
   "metadata": {},
   "source": [
    "# Vocabulary and Gratitude\n",
    "-  People walking around prestige colleges often find themselves depressed. Dopamine can be an evolutionary reason. When we obtain what we always wanted, we start picking out the flaws of it. This can be an evolutionary reason and can cause us to obtain the next best thing or cause us to be even more depressed. Gratitude may be the solution to these problems. \n",
    "- Somebody who I have gratitude for at school is my math teacher. He helps me understand the difficult topics while making it fun. Who I have gratitude for at home is my dad who helps me out with everything there is.\n",
    "- I think everyones goal in life is to be successful, but success has different definitions for everybody. For me is to be educated and complete everything I want to do. Completing goals in life is what makes someone the most happy."
   ]
  }
 ],
 "metadata": {
  "kernelspec": {
   "display_name": "Python 3.8.10 64-bit",
   "language": "python",
   "name": "python3"
  },
  "language_info": {
   "name": "python",
   "version": "3.8.10"
  },
  "orig_nbformat": 4,
  "vscode": {
   "interpreter": {
    "hash": "916dbcbb3f70747c44a77c7bcd40155683ae19c65e1c03b4aa3499c5328201f1"
   }
  }
 },
 "nbformat": 4,
 "nbformat_minor": 2
}
