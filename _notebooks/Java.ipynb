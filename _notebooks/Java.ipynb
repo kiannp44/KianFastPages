{
 "cells": [
  {
   "cell_type": "code",
   "execution_count": null,
   "metadata": {},
   "outputs": [],
   "source": [
    "public class HelloStatic {\n",
    "    public static void main(String[] args) {    \n",
    "        System.out.println(\"Hi\");\n",
    "    }\n",
    "}\n",
    "HelloStatic.main(null);"
   ]
  }
 ],
 "metadata": {
  "kernelspec": {
   "display_name": "Python 3.10.6 64-bit",
   "language": "python",
   "name": "python3"
  },
  "language_info": {
   "name": "python",
   "version": "3.10.6"
  },
  "orig_nbformat": 4,
  "vscode": {
   "interpreter": {
    "hash": "4a7fc9a95e43a0c5fefa1b4bc6a1c50353eef3f1921dc782f0e416f3b90e8dcf"
   }
  }
 },
 "nbformat": 4,
 "nbformat_minor": 2
}
