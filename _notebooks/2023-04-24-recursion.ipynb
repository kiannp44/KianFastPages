{
 "cells": [
  {
   "attachments": {},
   "cell_type": "markdown",
   "metadata": {},
   "source": [
    "# Recursion Lesson\n",
    "- toc: true\n",
    "- badges: true\n",
    "- comments: true\n",
    "- author: Kian Pasokhi\n",
    "- categories: [ Collegeboard]"
   ]
  },
  {
   "cell_type": "code",
   "execution_count": 3,
   "metadata": {},
   "outputs": [],
   "source": [
    "import java.util.ArrayList;\n",
    "import java.util.Comparator;\n",
    "\n",
    "public class Country {\n",
    "    private String name;\n",
    "    private int size;\n",
    "\n",
    "    public Country(String name, int size) {\n",
    "        this.name = name;\n",
    "        this.size = size;\n",
    "    }\n",
    "\n",
    "    public String getName() {\n",
    "        return name;\n",
    "    }\n",
    "\n",
    "    public int getSize() {\n",
    "        return size;\n",
    "    }\n",
    "\n",
    "    public static void main(String[] args) {\n",
    "        ArrayList<Country> countries = new ArrayList<>();\n",
    "        countries.add(new Country(\"Russia\", 17125191));\n",
    "        countries.add(new Country(\"Canada\", 9984670));\n",
    "        countries.add(new Country(\"China\", 9596960));\n",
    "        countries.add(new Country(\"United States\", 9372610));\n",
    "        countries.add(new Country(\"Brazil\", 8515767));\n",
    "        countries.add(new Country(\"Australia\", 7692024));\n",
    "        countries.add(new Country(\"India\", 3287263));\n",
    "\n",
    "        // Sort the countries in decreasing order of size\n",
    "        countries.sort(new Comparator<Country>() {\n",
    "            @Override\n",
    "            public int compare(Country c1, Country c2) {\n",
    "                return c2.getSize() - c1.getSize();\n",
    "            }\n",
    "        });\n",
    "\n",
    "        // Print the sorted list of countries\n",
    "        for (Country country : countries) {\n",
    "            System.out.println(country.getName() + \" (\" + country.getSize() + \")\");\n",
    "        }\n",
    "    }\n",
    "}\n"
   ]
  }
 ],
 "metadata": {
  "kernelspec": {
   "display_name": "Java",
   "language": "java",
   "name": "java"
  },
  "language_info": {
   "codemirror_mode": "java",
   "file_extension": ".jshell",
   "mimetype": "text/x-java-source",
   "name": "java",
   "pygments_lexer": "java",
   "version": "17.0.5+8"
  },
  "orig_nbformat": 4
 },
 "nbformat": 4,
 "nbformat_minor": 2
}
