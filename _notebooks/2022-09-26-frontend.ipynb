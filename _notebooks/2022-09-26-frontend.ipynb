{
 "cells": [
  {
   "cell_type": "code",
   "execution_count": null,
   "metadata": {},
   "outputs": [],
   "source": []
  },
  {
   "cell_type": "code",
   "execution_count": 1,
   "metadata": {},
   "outputs": [
    {
     "ename": "SyntaxError",
     "evalue": "Unexpected token <",
     "output_type": "error",
     "traceback": [
      "evalmachine.<anonymous>:1",
      "<div id=\"myDIV\" class=\"header\">",
      "^",
      "",
      "SyntaxError: Unexpected token <",
      "    at createScript (vm.js:56:10)",
      "    at Object.runInThisContext (vm.js:97:10)",
      "    at run ([eval]:1020:15)",
      "    at onRunRequest ([eval]:864:18)",
      "    at onMessage ([eval]:828:13)",
      "    at emitTwo (events.js:106:13)",
      "    at process.emit (events.js:191:7)",
      "    at process.nextTick (internal/child_process.js:758:12)",
      "    at _combinedTickCallback (internal/process/next_tick.js:73:7)",
      "    at process._tickCallback (internal/process/next_tick.js:104:9)"
     ]
    }
   ],
   "source": [
    "<div id=\"myDIV\" class=\"header\">\n",
    "  <h2>My To Do List</h2>\n",
    "  <input type=\"text\" id=\"myInput\" placeholder=\"Title...\">\n",
    "  <span onclick=\"newElement()\" class=\"addBtn\">Add</span>\n",
    "</div>\n",
    "\n",
    "<ul id=\"myUL\">\n",
    "  <li>Hit the gym</li>\n",
    "  <li class=\"checked\">Pay bills</li>\n",
    "  <li>Meet George</li>\n",
    "  <li>Buy eggs</li>\n",
    "  <li>Read a book</li>\n",
    "  <li>Organize office</li>\n",
    "</ul>"
   ]
  }
 ],
 "metadata": {
  "kernelspec": {
   "display_name": "JavaScript (Node.js)",
   "language": "javascript",
   "name": "javascript"
  },
  "language_info": {
   "file_extension": ".js",
   "mimetype": "application/javascript",
   "name": "javascript",
   "version": "6.11.2"
  },
  "orig_nbformat": 4
 },
 "nbformat": 4,
 "nbformat_minor": 2
}
