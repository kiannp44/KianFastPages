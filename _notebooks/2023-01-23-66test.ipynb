{
 "cells": [
  {
   "attachments": {},
   "cell_type": "markdown",
   "metadata": {},
   "source": [
    "# 66 Question Corrections\n",
    "- toc: true\n",
    "- badges: true\n",
    "- comments: true\n",
    "- author: Kian Pasokhi\n",
    "- categories: [ Collegeboard]\n"
   ]
  },
  {
   "attachments": {},
   "cell_type": "markdown",
   "metadata": {},
   "source": [
    "# Total: 49/66"
   ]
  },
  {
   "attachments": {},
   "cell_type": "markdown",
   "metadata": {},
   "source": [
    "# Question 2\n",
    "The answer was A, I made a mistake within the index and it caused me to get the question wrong. Topic 6.2 Skill 4.b"
   ]
  },
  {
   "attachments": {},
   "cell_type": "markdown",
   "metadata": {},
   "source": [
    "# Question 6\n",
    "The answer was A, I made a mistake when I was following along with the line of code which caused me to get the question wrong. Topic 3.3 Skill 3.a"
   ]
  },
  {
   "attachments": {},
   "cell_type": "markdown",
   "metadata": {},
   "source": [
    "# Question 7\n",
    "The answer was D, This was a multiple answer question and I didn't realize that II would also be a right answer overlooked it. Topic 9.3 Skill 4.b"
   ]
  },
  {
   "attachments": {},
   "cell_type": "markdown",
   "metadata": {},
   "source": [
    "# Question 9\n",
    "The answer was C, I didn't realize that the initial value is not 5 and its always above 10. Topic 3.4 Skill 4.c"
   ]
  },
  {
   "attachments": {},
   "cell_type": "markdown",
   "metadata": {},
   "source": [
    "# Question 10\n",
    "The answer was E, the two different code segments made it confusing for me and it made me miss the question. Topic 3.3 Skill 3.a"
   ]
  },
  {
   "attachments": {},
   "cell_type": "markdown",
   "metadata": {},
   "source": [
    "# Question 13\n",
    "The answer was A, I wasnt sure on the topic and it caused me to make a big mistake, wasnt sure about the syntax. Topic 3.3 Skill 3.a"
   ]
  },
  {
   "attachments": {},
   "cell_type": "markdown",
   "metadata": {},
   "source": [
    "# Question 21\n",
    "The answer was A, I made a mistake when I was following along with the line of code which caused me to get the question wrong. Topic 9.3 Skill 4.c"
   ]
  },
  {
   "attachments": {},
   "cell_type": "markdown",
   "metadata": {},
   "source": [
    "# Question 27\n",
    "The answer was D, This was a multiple answer question and I didn't realize that II would also be a right answer overlooked it. Topic 9.3 Skill 4.b"
   ]
  },
  {
   "attachments": {},
   "cell_type": "markdown",
   "metadata": {},
   "source": [
    "# Question 33\n",
    "The answer was A, I didnt make the right syntax which caused me to get the answer wrong. Topic 9.3 Skill 4.b"
   ]
  }
 ],
 "metadata": {
  "kernelspec": {
   "display_name": "Java",
   "language": "java",
   "name": "java"
  },
  "language_info": {
   "name": "java"
  },
  "orig_nbformat": 4
 },
 "nbformat": 4,
 "nbformat_minor": 2
}
