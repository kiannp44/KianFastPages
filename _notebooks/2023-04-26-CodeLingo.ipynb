{
 "cells": [
  {
   "attachments": {},
   "cell_type": "markdown",
   "metadata": {},
   "source": [
    "# Code Lingo Hacks\n",
    "- toc: true\n",
    "- badges: true\n",
    "- comments: true\n",
    "- author: Kian Pasokhi\n",
    "- categories: [ Collegeboard]"
   ]
  },
  {
   "cell_type": "code",
   "execution_count": 1,
   "metadata": {
    "vscode": {
     "languageId": "java"
    }
   },
   "outputs": [
    {
     "name": "stdout",
     "output_type": "stream",
     "text": [
      "**********\n",
      "*********\n",
      "********\n",
      "*******\n",
      "******\n",
      "*****\n",
      "****\n",
      "***\n",
      "**\n",
      "*\n"
     ]
    }
   ],
   "source": [
    "public void drawLine(int n) {\n",
    "    if (n != 0) {\n",
    "         for (int i = 1; i <= n; i++) {\n",
    "              System.out.print(\"*\");\n",
    "              \n",
    "         }\n",
    "         System.out.println();\n",
    "         drawLine(n - 1);\n",
    "    }\n",
    "}\n",
    "drawLine(10);"
   ]
  },
  {
   "cell_type": "code",
   "execution_count": 2,
   "metadata": {
    "vscode": {
     "languageId": "java"
    }
   },
   "outputs": [],
   "source": [
    "public class Country implements Comparable<Country> {\n",
    "    private int size;\n",
    "    private int population;\n",
    "\n",
    "    public Country(int size, int population) {\n",
    "        this.size = size;\n",
    "        this.population = population;\n",
    "    }\n",
    "\n",
    "    public int getSize() {\n",
    "        return size;\n",
    "    }\n",
    "\n",
    "    public int getPopulation() {\n",
    "        return population;\n",
    "    }\n",
    "\n",
    "    @Override\n",
    "    public int compareTo(Country o) {\n",
    "        return this.size - o.size;\n",
    "    }\n",
    "\n",
    "    @Override\n",
    "    public boolean equals(Object obj) {\n",
    "        if (obj instanceof Country) {\n",
    "            Country other = (Country) obj;\n",
    "            return this.size == other.size && this.population == other.population;\n",
    "        }\n",
    "        return false;\n",
    "    }\n",
    "\n",
    "    @Override\n",
    "    public String toString() {\n",
    "        return \"Country{\" +\n",
    "                \"size=\" + size +\n",
    "                \", population=\" + population +\n",
    "                '}';\n",
    "    }\n",
    "}"
   ]
  },
  {
   "cell_type": "code",
   "execution_count": 3,
   "metadata": {
    "vscode": {
     "languageId": "java"
    }
   },
   "outputs": [
    {
     "name": "stdout",
     "output_type": "stream",
     "text": [
      "Country{size=23, population=23} \n",
      "Country{size=7, population=7} \n",
      "Country{size=6, population=6} \n",
      "Country{size=6, population=6} \n",
      "Country{size=4, population=4} \n",
      "Country{size=1, population=1} \n",
      "Country{size=1, population=1} \n"
     ]
    }
   ],
   "source": [
    "public class SelectionSortBackwards {\n",
    "    public void sort(ArrayList<Country> arr) {\n",
    "        for (int i = 0; i < arr.size()-1; i++) {\n",
    "            int max_idx = i;\n",
    "            for (int j = i+1; j < arr.size(); j++) {\n",
    "                if (arr.get(j).compareTo(arr.get(max_idx)) > 0)\n",
    "                    max_idx = j;\n",
    "            }\n",
    "            Country temp = arr.get(max_idx);\n",
    "            arr.set(max_idx, arr.get(i));\n",
    "            arr.set(i, temp);\n",
    "        }\n",
    "\n",
    "        // for (int i = arr.length-1; i > 0; i--) {\n",
    "        //     int max_idx = i;\n",
    "        //     for (int j = i-1; j >= 0; j--) {\n",
    "        //         if (arr[j].compareTo(arr[max_idx]) > 0)\n",
    "        //             max_idx = j;\n",
    "        //     }\n",
    "        //     Country temp = arr[max_idx];\n",
    "        //     arr[max_idx] = arr[i];\n",
    "        //     arr[i] = temp;\n",
    "        // }\n",
    "    }\n",
    "    public static void main() {\n",
    "        SelectionSortBackwards ob = new SelectionSortBackwards();\n",
    "        ArrayList<Country> arr = new ArrayList<Country>();\n",
    "        arr.add(new Country(1, 1));\n",
    "        arr.add(new Country(7, 7));\n",
    "        arr.add(new Country(23, 23));\n",
    "        arr.add(new Country(6, 6));\n",
    "        arr.add(new Country(4, 4));\n",
    "        arr.add(new Country(6, 6));\n",
    "        arr.add(new Country(1, 1));\n",
    "\n",
    "        ob.sort(arr);\n",
    "        for (int i = 0; i < arr.size(); i++) {\n",
    "            System.out.println(arr.get(i) + \" \");\n",
    "        }\n",
    "    }\n",
    "}\n",
    "\n",
    "SelectionSortBackwards.main();"
   ]
  },
  {
   "cell_type": "code",
   "execution_count": 4,
   "metadata": {
    "vscode": {
     "languageId": "java"
    }
   },
   "outputs": [
    {
     "name": "stdout",
     "output_type": "stream",
     "text": [
      "Country{size=1, population=1} \n",
      "Country{size=1, population=1} \n",
      "Country{size=4, population=4} \n",
      "Country{size=6, population=6} \n",
      "Country{size=6, population=6} \n",
      "Country{size=7, population=7} \n",
      "Country{size=23, population=23} \n"
     ]
    }
   ],
   "source": [
    "// create a class with a heapSort() and heapify() method\n",
    "public class HeapSort\n",
    "{\n",
    "    public void sort(ArrayList<Country> arr) {\n",
    "        int n = arr.size();\n",
    "  \n",
    "        // Build heap (rearrange array)\n",
    "        for (int i = n / 2 - 1; i >= 0; i--)\n",
    "            heapify(arr, n, i);\n",
    "  \n",
    "        // One by one extract an element from heap\n",
    "        for (int i=n-1; i>=0; i--)\n",
    "        {\n",
    "            // Move current root to end\n",
    "            Country temp = arr.get(0);\n",
    "            arr.set(0, arr.get(i));\n",
    "            arr.set(i, temp);\n",
    "  \n",
    "            // call max heapify on the reduced heap\n",
    "            heapify(arr, i, 0);\n",
    "        }\n",
    "    }\n",
    "\n",
    "    void heapify(ArrayList<Country> arr, int n, int i)\n",
    "    {\n",
    "        int largest = i;  // Initialize largest as root\n",
    "        int l = 2*i + 1;  // left = 2*i + 1\n",
    "        int r = 2*i + 2;  // right = 2*i + 2\n",
    "  \n",
    "        // If left child is larger than root\n",
    "        if (l < n && arr.get(l).compareTo(arr.get(largest)) > 0)\n",
    "            largest = l;\n",
    "  \n",
    "        // If right child is larger than largest so far\n",
    "        if (r < n && arr.get(r).compareTo(arr.get(largest)) > 0)\n",
    "            largest = r;\n",
    "  \n",
    "        // If largest is not root\n",
    "        if (largest != i)\n",
    "        {\n",
    "            Country swap = arr.get(i);\n",
    "            arr.set(i, arr.get(largest));\n",
    "            arr.set(largest, swap);\n",
    "  \n",
    "            // Recursively heapify the affected sub-tree\n",
    "            heapify(arr, n, largest);\n",
    "        }\n",
    "    }\n",
    "\n",
    "    public static void main() {\n",
    "        HeapSort ob = new HeapSort();\n",
    "        ArrayList<Country> arr = new ArrayList<Country>();\n",
    "        arr.add(new Country(1, 1));\n",
    "        arr.add(new Country(7, 7));\n",
    "        arr.add(new Country(23, 23));\n",
    "        arr.add(new Country(6, 6));\n",
    "        arr.add(new Country(4, 4));\n",
    "        arr.add(new Country(6, 6));\n",
    "        arr.add(new Country(1, 1));\n",
    "\n",
    "        ob.sort(arr);\n",
    "        for (int i = 0; i < arr.size(); i++) {\n",
    "            System.out.println(arr.get(i) + \" \");\n",
    "        }\n",
    "    }\n",
    "\n",
    "}\n",
    "\n",
    "HeapSort.main()"
   ]
  }
 ],
 "metadata": {
  "kernelspec": {
   "display_name": "Java",
   "language": "java",
   "name": "java"
  },
  "language_info": {
   "codemirror_mode": "java",
   "file_extension": ".jshell",
   "mimetype": "text/x-java-source",
   "name": "Java",
   "pygments_lexer": "java",
   "version": "17.0.5+8"
  },
  "orig_nbformat": 4
 },
 "nbformat": 4,
 "nbformat_minor": 2
}
