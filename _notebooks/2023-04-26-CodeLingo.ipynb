{
 "cells": [
  {
   "attachments": {},
   "cell_type": "markdown",
   "metadata": {},
   "source": [
    "# Code Lingo Hacks\n",
    "- toc: true\n",
    "- badges: true\n",
    "- comments: true\n",
    "- author: Kian Pasokhi\n",
    "- categories: [ Collegeboard]"
   ]
  },
  {
   "cell_type": "code",
   "execution_count": 5,
   "metadata": {
    "vscode": {
     "languageId": "java"
    }
   },
   "outputs": [
    {
     "name": "stdout",
     "output_type": "stream",
     "text": [
      "**********\n",
      "*********\n",
      "********\n",
      "*******\n",
      "******\n",
      "*****\n",
      "****\n",
      "***\n",
      "**\n",
      "*\n"
     ]
    }
   ],
   "source": [
    "public void drawLine(int stars) {\n",
    "     for (int i = 1; i <= stars; i++) {\n",
    "         System.out.print(\"*\");\n",
    "        \n",
    "     }\n",
    "     if(stars>0){\n",
    "         System.out.println();\n",
    "         drawLine(stars - 1);\n",
    "     }\n",
    " \n",
    " }\n",
    " drawLine(10);"
   ]
  },
  {
   "cell_type": "code",
   "execution_count": 2,
   "metadata": {
    "vscode": {
     "languageId": "java"
    }
   },
   "outputs": [],
   "source": [
    "public class Country implements Comparable<Country> {\n",
    "    private int size;\n",
    "    private int population;\n",
    "\n",
    "    public Country(int size, int population) {\n",
    "        this.size = size;\n",
    "        this.population = population;\n",
    "    }\n",
    "\n",
    "    public int getSize() {\n",
    "        return size;\n",
    "    }\n",
    "\n",
    "    public int getPopulation() {\n",
    "        return population;\n",
    "    }\n",
    "\n",
    "    @Override\n",
    "    public int compareTo(Country o) {\n",
    "        return this.size - o.size;\n",
    "    }\n",
    "\n",
    "    @Override\n",
    "    public boolean equals(Object obj) {\n",
    "        if (obj instanceof Country) {\n",
    "            Country other = (Country) obj;\n",
    "            return this.size == other.size && this.population == other.population;\n",
    "        }\n",
    "        return false;\n",
    "    }\n",
    "\n",
    "    @Override\n",
    "    public String toString() {\n",
    "        return \"Country{\" +\n",
    "                \"size=\" + size +\n",
    "                \", population=\" + population +\n",
    "                '}';\n",
    "    }\n",
    "}"
   ]
  },
  {
   "attachments": {},
   "cell_type": "markdown",
   "metadata": {},
   "source": [
    "### Write a insertion or selection sort program that sorts an ArrayList in decreasing order so that the largest country is at the beginning of the array (Create your own Country class with size). Use a Comparator"
   ]
  },
  {
   "cell_type": "code",
   "execution_count": 6,
   "metadata": {
    "vscode": {
     "languageId": "java"
    }
   },
   "outputs": [
    {
     "name": "stdout",
     "output_type": "stream",
     "text": [
      "country: US Size: 9525067\n",
      "country: Brazil Size: 8515770\n",
      "country: Australia Size: 7741220\n",
      "country: India Size: 3287260\n",
      "country: Argentina Size: 2780400\n"
     ]
    }
   ],
   "source": [
    "public class Country {\n",
    "    int size;\n",
    "    String countryName;\n",
    "    \n",
    "        public Country(String countryName, int size){\n",
    "            this.size = size;\n",
    "            this.countryName = countryName; \n",
    "    \n",
    "        }\n",
    "    \n",
    "        public int getSize(){\n",
    "            return this.size;\n",
    "        }\n",
    "    \n",
    "    \n",
    "        // compare country population sizes\n",
    "        public int compareCountry(Country country) {\n",
    "            if (this.getSize() < country.getSize())\n",
    "            {\n",
    "                return 0;\n",
    "            }   \n",
    "            else if (this.getSize() > country.getSize()){\n",
    "                return 1;\n",
    "            }\n",
    "            else{\n",
    "                return -1;\n",
    "            }\n",
    "        }\n",
    "    \n",
    "        public String toString() {\n",
    "            String string = \"country: \" + this.countryName + \" Size: \" + this.size;\n",
    "            return string;\n",
    "        }\n",
    "    \n",
    "    }\n",
    "    public class SelectionSort {\n",
    "        public static void sort(Country[] arr) {\n",
    "            for (int i = 0; i < arr.length-1; i++) {\n",
    "                int min_idx = i;\n",
    "                for (int j = i+1; j < arr.length; j++) {\n",
    "                    // use compare country, only set min_idx if -1 (smaller pop)\n",
    "                    if (arr[j].compareCountry(arr[min_idx]) == 1)\n",
    "                        min_idx = j;\n",
    "                }\n",
    "                // assign temp country to swap\n",
    "                Country temp = arr[min_idx];\n",
    "                arr[min_idx] = arr[i];\n",
    "                arr[i] = temp;\n",
    "            }\n",
    "        }\n",
    "    \n",
    "        public static void main(String[] args) {\n",
    "        \n",
    "            Country[] arr = {new Country(\"Argentina\", 2780400 ), new Country(\"India\", 3287260), new Country(\"Australia\", 7741220 ), new Country(\"Brazil\", 8515770 ), new Country(\"US\", 9525067)};\n",
    "            \n",
    "        \n",
    "            \n",
    "            SelectionSort.sort(arr);\n",
    "            for (int i = 0; i < arr.length; i++) {\n",
    "                System.out.println(arr[i]);\n",
    "            }\n",
    "         \n",
    "        }\n",
    "    \n",
    "    }\n",
    "    SelectionSort.main(null);"
   ]
  },
  {
   "attachments": {},
   "cell_type": "markdown",
   "metadata": {},
   "source": [
    "### Test if two arraylists contain the same elements in reverse order"
   ]
  },
  {
   "cell_type": "code",
   "execution_count": 8,
   "metadata": {
    "vscode": {
     "languageId": "java"
    }
   },
   "outputs": [
    {
     "name": "stdout",
     "output_type": "stream",
     "text": [
      "[Ronaldo, Messi, Neymar]\n",
      "[Kian, Brian, Arman]\n",
      "not equal\n"
     ]
    }
   ],
   "source": [
    "public static void main(String []args){\n",
    "    ArrayList<String> list1=new ArrayList<String>();\n",
    "    list1.add(\"Ronaldo\");//Adding object in arraylist    \n",
    "    list1.add(\"Messi\");    \n",
    "    list1.add(\"Neymar\");    \n",
    "    System.out.println(list1); \n",
    "\n",
    "    ArrayList<String> list2=new ArrayList<String>();\n",
    "    list2.add(\"Kian\");    \n",
    "    list2.add(\"Brian\");    \n",
    "    list2.add(\"Arman\");    \n",
    "  \n",
    "    System.out.println(list2); \n",
    "\n",
    "    if(list1.equals(list2)) {\n",
    "        System.out.println(\"is equal\");\n",
    "    }\n",
    "    else{\n",
    "        System.out.println(\"not equal\");\n",
    "    }\n",
    "    \n",
    "}\n",
    "main(null);"
   ]
  },
  {
   "attachments": {},
   "cell_type": "markdown",
   "metadata": {},
   "source": [
    "### Remove every other element from an arraylist"
   ]
  },
  {
   "cell_type": "code",
   "execution_count": 9,
   "metadata": {
    "vscode": {
     "languageId": "java"
    }
   },
   "outputs": [
    {
     "name": "stdout",
     "output_type": "stream",
     "text": [
      "[1, 3, 5]"
     ]
    }
   ],
   "source": [
    "public static void main(String []args){\n",
    "    ArrayList<Integer> list = new ArrayList<Integer>();\n",
    "    list.add(1);\n",
    "    list.add(2);\n",
    "    list.add(3);\n",
    "    list.add(4);\n",
    "    list.add(5);\n",
    "    list.add(6);\n",
    "    \n",
    "    ArrayList<Integer> remove = new ArrayList<Integer>();\n",
    "    int count = 2;\n",
    "    \n",
    "    for (int i = 0; i < list.size(); i++) {\n",
    "        if (!(i % count == 0)) {\n",
    "            remove.add(list.get(i));\n",
    "        }\n",
    "    }\n",
    "    \n",
    "    list.removeAll(remove);\n",
    "    \n",
    "    System.out.print(list);\n",
    "    }\n",
    "    main(null);"
   ]
  },
  {
   "attachments": {},
   "cell_type": "markdown",
   "metadata": {},
   "source": [
    "### Bonus Hack"
   ]
  },
  {
   "cell_type": "code",
   "execution_count": 10,
   "metadata": {
    "vscode": {
     "languageId": "java"
    }
   },
   "outputs": [],
   "source": [
    "import java.util.ArrayList;\n",
    "import java.util.Comparator;\n",
    "\n",
    "public class Country {\n",
    "    private String name;\n",
    "    private int size;\n",
    "\n",
    "    public Country(String name, int size) {\n",
    "        this.name = name;\n",
    "        this.size = size;\n",
    "    }\n",
    "\n",
    "    public String getName() {\n",
    "        return name;\n",
    "    }\n",
    "\n",
    "    public int getSize() {\n",
    "        return size;\n",
    "    }\n",
    "\n",
    "    public String toString() {\n",
    "        return name + \" (\" + size + \")\";\n",
    "    }\n",
    "\n",
    "    public static void heapSort(ArrayList<Country> countries, Comparator<Country> comparator) {\n",
    "        int n = countries.size();\n",
    "\n",
    "        // Build max heap\n",
    "        for (int i = n / 2 - 1; i >= 0; i--)\n",
    "            heapify(countries, n, i, comparator);\n",
    "\n",
    "        // Extract elements from heap in decreasing order\n",
    "        for (int i = n - 1; i > 0; i--) {\n",
    "            // Move current root to end\n",
    "            Country temp = countries.get(0);\n",
    "            countries.set(0, countries.get(i));\n",
    "            countries.set(i, temp);\n",
    "\n",
    "            // Heapify reduced heap\n",
    "            heapify(countries, i, 0, comparator);\n",
    "        }\n",
    "    }\n",
    "\n",
    "    public static void heapify(ArrayList<Country> countries, int n, int i, Comparator<Country> comparator) {\n",
    "        int largest = i; // Initialize largest as root\n",
    "        int left = 2 * i + 1;\n",
    "        int right = 2 * i + 2;\n",
    "\n",
    "        // If left child is larger than root\n",
    "        if (left < n && comparator.compare(countries.get(left), countries.get(largest)) > 0)\n",
    "            largest = left;\n",
    "\n",
    "        // If right child is larger than largest so far\n",
    "        if (right < n && comparator.compare(countries.get(right), countries.get(largest)) > 0)\n",
    "            largest = right;\n",
    "\n",
    "        // If largest is not root\n",
    "        if (largest != i) {\n",
    "            Country swap = countries.get(i);\n",
    "            countries.set(i, countries.get(largest));\n",
    "            countries.set(largest, swap);\n",
    "\n",
    "            // Recursively heapify the affected sub-tree\n",
    "            heapify(countries, n, largest, comparator);\n",
    "        }\n",
    "    }\n",
    "\n",
    "    public static void main(String[] args) {\n",
    "        ArrayList<Country> countries = new ArrayList<>();\n",
    "        countries.add(new Country(\"USA\", 9833520));\n",
    "        countries.add(new Country(\"China\", 9596961));\n",
    "        countries.add(new Country(\"India\", 3287263));\n",
    "        countries.add(new Country(\"Brazil\", 8515767));\n",
    "        countries.add(new Country(\"Australia\", 7692024));\n",
    "\n",
    "        System.out.println(\"Before sorting:\");\n",
    "        System.out.println(countries);\n",
    "\n",
    "        heapSort(countries, Comparator.comparing(Country::getSize).reversed());\n",
    "\n",
    "        System.out.println(\"After sorting:\");\n",
    "        System.out.println(countries);\n",
    "    }\n",
    "}\n"
   ]
  }
 ],
 "metadata": {
  "kernelspec": {
   "display_name": "Java",
   "language": "java",
   "name": "java"
  },
  "language_info": {
   "codemirror_mode": "java",
   "file_extension": ".jshell",
   "mimetype": "text/x-java-source",
   "name": "Java",
   "pygments_lexer": "java",
   "version": "17.0.5+8"
  },
  "orig_nbformat": 4
 },
 "nbformat": 4,
 "nbformat_minor": 2
}
