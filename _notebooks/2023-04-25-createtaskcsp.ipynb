{
 "cells": [
  {
   "attachments": {},
   "cell_type": "markdown",
   "metadata": {},
   "source": [
    "# Create Task\n",
    "- toc: true\n",
    "- badges: true\n",
    "- comments: true\n",
    "- author: Kian Pasokhi\n",
    "- categories: [ Collegeboard]"
   ]
  },
  {
   "cell_type": "code",
   "execution_count": 7,
   "metadata": {},
   "outputs": [
    {
     "ename": "SyntaxError",
     "evalue": "invalid syntax (<ipython-input-7-c75ac1425724>, line 24)",
     "output_type": "error",
     "traceback": [
      "\u001b[0;36m  File \u001b[0;32m\"<ipython-input-7-c75ac1425724>\"\u001b[0;36m, line \u001b[0;32m24\u001b[0m\n\u001b[0;31m    question = f\"What is {num1} {operator} {num2}? \"\u001b[0m\n\u001b[0m                                                   ^\u001b[0m\n\u001b[0;31mSyntaxError\u001b[0m\u001b[0;31m:\u001b[0m invalid syntax\n"
     ]
    }
   ],
   "source": [
    "import random\n",
    "\n",
    "# Define the range of numbers to use in the questions\n",
    "MIN_NUMBER = 1\n",
    "MAX_NUMBER = 10\n",
    "\n",
    "# Define the number of questions to ask\n",
    "NUM_QUESTIONS = 5\n",
    "\n",
    "# Initialize the answer key and score\n",
    "answer_key = []\n",
    "score = 0\n",
    "\n",
    "# Generate and ask the questions\n",
    "for i in range(NUM_QUESTIONS):\n",
    "    # Generate two random numbers within the specified range\n",
    "    num1 = random.randint(MIN_NUMBER, MAX_NUMBER)\n",
    "    num2 = random.randint(MIN_NUMBER, MAX_NUMBER)\n",
    "    \n",
    "    # Generate a random operator\n",
    "    operator = random.choice(['+', '-', '*'])\n",
    "    \n",
    "    # Ask the question and get the answer from the user\n",
    "    question = f\"What is {num1} {operator} {num2}? \"\n",
    "    user_answer = input(question)\n",
    "    \n",
    "    # Check if the answer is correct and update the score\n",
    "    expression = question[len(\"What is \"):len(question)-1]\n",
    "    if eval(expression) == int(user_answer):\n",
    "        answer_key.append('C')\n",
    "        score += 1\n",
    "    else:\n",
    "        answer_key.append('I')\n",
    "        \n",
    "# Print the answer key and score\n",
    "print(\"Answer Key:\", ' '.join(answer_key))\n",
    "print(\"Score:\", score, \"/\", NUM_QUESTIONS)\n",
    "\n"
   ]
  }
 ],
 "metadata": {
  "kernelspec": {
   "display_name": "Python 3",
   "language": "python",
   "name": "python3"
  },
  "language_info": {
   "codemirror_mode": {
    "name": "ipython",
    "version": 2
   },
   "file_extension": ".py",
   "mimetype": "text/x-python",
   "name": "python",
   "nbconvert_exporter": "python",
   "pygments_lexer": "ipython2",
   "version": "2.7.18"
  },
  "orig_nbformat": 4
 },
 "nbformat": 4,
 "nbformat_minor": 2
}
