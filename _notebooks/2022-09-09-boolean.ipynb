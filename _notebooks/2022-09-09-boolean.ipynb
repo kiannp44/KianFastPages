{
 "cells": [
  {
   "cell_type": "markdown",
   "metadata": {},
   "source": [
    "# Boolean Expressions and If Statements\n",
    "- toc: true\n",
    "- badges: true\n",
    "- comments: true\n",
    "- author: Kian Pasokhi\n",
    "- categories: [ PBL]\n",
    "\n",
    "\n"
   ]
  },
  {
   "cell_type": "markdown",
   "metadata": {},
   "source": [
    "# If Statements\n",
    "## If Statement\n",
    "- If statements can be used to excecute a method or a series of methods according to a condition if the condition is met. \n",
    "## If Else Statement\n",
    "- Same thing as an if statements, but if something else is met other than the condition for the If Statement, then it would run a different line of code. \n",
    "## If-Elseif-Else\n",
    "- If the condition of something is met, then run the code, if not then try to meet the next condition. If both are false then run the final condition."
   ]
  },
  {
   "cell_type": "code",
   "execution_count": 17,
   "metadata": {
    "vscode": {
     "languageId": "java"
    }
   },
   "outputs": [
    {
     "name": "stdout",
     "output_type": "stream",
     "text": [
      "Enter your first number: 0.0\n",
      "Enter the operator (+,-,*,/): /\n",
      "Enter your second number: 0.0\n",
      "The answer is: 1.6666666666666667\n"
     ]
    }
   ],
   "source": [
    "import java.util.Scanner;\n",
    "Scanner scanner = new Scanner(System.in);\n",
    "\n",
    "double c1;\n",
    "double c2;\n",
    "\n",
    "System.out.print(\"Enter your first number: \"); \n",
    "\n",
    "c1 = scanner.nextDouble();\n",
    "\n",
    "System.out.println(x);\n",
    "\n",
    "System.out.print(\"Enter the operator (+,-,*,/): \"); // First input for operator choice\n",
    "\n",
    "char operator = scanner.next().charAt(0);\n",
    "\n",
    "System.out.println(operator);\n",
    "\n",
    "System.out.print(\"Enter your second number: \"); // Second input for operator chosen\n",
    "\n",
    "c2 = scanner.nextDouble();\n",
    "\n",
    "System.out.println(y);\n",
    "\n",
    "if (operator == '+') {\n",
    "  System.out.println(\"The answer is: \"+ (c1 + c2)); // If addition is picked\n",
    "} else if (operator == '-') {\n",
    "  System.out.println(\"The answer is: \"+ (c1 - c2)); // If subtraction is picked\n",
    "} else if (operator == '*') {\n",
    "  System.out.println(\"The answer is: \"+ c1 * c2); // If multiplication is picked\n",
    "} else if (operator == '/') {\n",
    "  System.out.println(\"The answer is: \"+ c1 / c2); // If division is picked\n",
    "} else {\n",
    "  System.out.println(\"Unknown Operation\"); // If anything else is chosen\n",
    "}"
   ]
  },
  {
   "cell_type": "code",
   "execution_count": 1,
   "metadata": {
    "vscode": {
     "languageId": "java"
    }
   },
   "outputs": [
    {
     "name": "stdout",
     "output_type": "stream",
     "text": [
      "Enter the first number: 25.0\n",
      "Enter the operator (+,-,*,/): /\n",
      "Enter second number: 5.0\n",
      "The final equation: \n",
      "25.0 / 5.0 = 5.0\n"
     ]
    }
   ],
   "source": [
    "\n",
    "Scanner scanner = new Scanner(System.in);\n",
    "\n",
    "double c1; \n",
    "double c2;\n",
    "\n",
    "System.out.print(\"Enter the first number: \"); // Input for first number\n",
    "\n",
    "c1 = scanner.nextDouble();\n",
    "\n",
    "System.out.println(c1);\n",
    "\n",
    "System.out.print(\"Enter the operator (+,-,*,/): \"); // Input for operation\n",
    "\n",
    "char operator = scanner.next().charAt(0);\n",
    "\n",
    "System.out.println(operator);\n",
    "\n",
    "System.out.print(\"Enter second number: \"); // Input for second number\n",
    "\n",
    "c2 = scanner.nextDouble();\n",
    "\n",
    "System.out.println(c2);\n",
    "\n",
    "double output = 0;\n",
    "\n",
    "switch (operator) {\n",
    "\n",
    "case '+': // Case for addition\n",
    "\n",
    "    output = c1 + c2;\n",
    "\n",
    "    break;\n",
    "\n",
    " \n",
    "case '-': // Case for subtraction\n",
    "\n",
    "    output = c1 - c2;\n",
    "\n",
    "    break;\n",
    "\n",
    "\n",
    "case '*': // Case for multiplication\n",
    "\n",
    "    output = c1 * c2;\n",
    "\n",
    "    break;\n",
    "\n",
    "\n",
    "case '/': // Case for division\n",
    "\n",
    "    output = c1 / c2;\n",
    "\n",
    "    break;\n",
    "\n",
    "default:\n",
    "\n",
    "    System.out.println(\"Unknown input\");\n",
    "\n",
    "    break;\n",
    "}\n",
    "\n",
    "System.out.println(\"The final equation: \");\n",
    "\n",
    "System.out.println(c1 + \" \" + operator + \" \" + c2 + \" = \" + output); // Final answer"
   ]
  },
  {
   "cell_type": "markdown",
   "metadata": {},
   "source": [
    "# De Morgan's Law\n",
    "De Morgans Law of Union: The complement of the union of the two sets A and B will be equal to the intersection of A' (complement of A) and B' (complement of B). This is also known as De Morgan's Law of Union. It can be represented as (A ∪ B)' = A' ∩ B'.\n",
    "- What this means is, we would think of it as, not A or B is not A and B. It should be oposite of the statement."
   ]
  }
 ],
 "metadata": {
  "kernelspec": {
   "display_name": "Java",
   "language": "java",
   "name": "java"
  },
  "language_info": {
   "codemirror_mode": "java",
   "file_extension": ".jshell",
   "mimetype": "text/x-java-source",
   "name": "Java",
   "pygments_lexer": "java",
   "version": "11.0.16+8-post-Ubuntu-0ubuntu120.04"
  },
  "orig_nbformat": 4,
  "vscode": {
   "interpreter": {
    "hash": "916dbcbb3f70747c44a77c7bcd40155683ae19c65e1c03b4aa3499c5328201f1"
   }
  }
 },
 "nbformat": 4,
 "nbformat_minor": 2
}
