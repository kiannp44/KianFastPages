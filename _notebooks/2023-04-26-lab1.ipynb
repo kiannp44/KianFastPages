{
 "cells": [
  {
   "attachments": {},
   "cell_type": "markdown",
   "metadata": {},
   "source": [
    "# Binary Sort Lesson\n",
    "- toc: true\n",
    "- badges: true\n",
    "- comments: true\n",
    "- author: Kian Pasokhi\n",
    "- categories: [ Collegeboard]"
   ]
  },
  {
   "attachments": {},
   "cell_type": "markdown",
   "metadata": {},
   "source": [
    "- Binary Search is a searching algorithm used in a sorted array by repeatedly dividing the search interval in half. This topic can be tested on the AP Exam but it isnt commonly seen.\n",
    "\n",
    "- Binary search is one of the fastest searching algorithms. When compared to a linear search, it is much faster the bigger the array is"
   ]
  },
  {
   "attachments": {},
   "cell_type": "markdown",
   "metadata": {},
   "source": [
    "1. Which of the following is a prerequisite for using binary search in Java?\n",
    "- The array must be sorted in ascending order\n",
    "- The array must be sorted in descending order\n",
    "- The array can be in any order\n",
    "- The array must have at least one element\n",
    "\n",
    "2. What is the worst-case scenario for binary search in Java?\n",
    "- The element being searched for is at the beginning of the array\n",
    "- The element being searched for is at the end of the array\n",
    "- The element being searched for is not in the array\n",
    "- The element being searched for is in the middle of the array\n",
    "\n",
    "3. Which of the following data structures is best suited for binary search?\n",
    "- Linked List\n",
    "- Array\n",
    "- Stack\n",
    "- Queue\n",
    "\n",
    "4. What is returned if the target is not present in the array?\n",
    "- False\n",
    "- 0\n",
    "- -1\n",
    "- The index of the element closest in value to the target\n",
    "\n",
    "5. What is returned if the target is present multiple times in the array?\n",
    "- Binary Search does not work with duplicate values\n",
    "- The index of the first occurrence will be returned\n",
    "- The index of the middle occurrence will be returned\n",
    "- The index of one of the occurrences will be returned\n",
    "\n",
    "Answers: 1, 3, 2, 3, 4"
   ]
  },
  {
   "attachments": {},
   "cell_type": "markdown",
   "metadata": {},
   "source": [
    "# Binary Search Hack 1"
   ]
  },
  {
   "cell_type": "code",
   "execution_count": 6,
   "metadata": {
    "vscode": {
     "languageId": "java"
    }
   },
   "outputs": [],
   "source": [
    "public class BinarySearchRecursive {\n",
    "    public static void main(String[] args) {\n",
    "        int[] array = {1, 3, 5, 7, 9, 23, 45, 67};\n",
    "        int target = 45;\n",
    "        int result = binarySearch(array, target, 0, array.length - 1);\n",
    "        if (result == -1) {\n",
    "            System.out.println(\"Element not present in array\");\n",
    "        } else {\n",
    "            System.out.println(\"Element found at index \" + result);\n",
    "        }\n",
    "    }\n",
    "\n",
    "    /**\n",
    "     * Recursive binary search algorithm to find the target element in the given array\n",
    "     *\n",
    "     * @param array  The array to be searched\n",
    "     * @param target The element to be searched for\n",
    "     * @param start  The starting index of the subarray to be searched\n",
    "     * @param end    The ending index of the subarray to be searched\n",
    "     * @return The index of the target element, or -1 if it is not present in the array\n",
    "     */\n",
    "    public static int binarySearch(int[] array, int target, int start, int end) {\n",
    "        // Base case: target not found in subarray\n",
    "        if (start > end) {\n",
    "            return -1;\n",
    "        }\n",
    "\n",
    "        // Calculate the middle index of the subarray\n",
    "        int mid = start + (end - start) / 2;\n",
    "\n",
    "        // If the middle element is the target, return its index\n",
    "        if (array[mid] == target) {\n",
    "            return mid;\n",
    "        }\n",
    "\n",
    "        // If the target is smaller than the middle element, search the left half of the subarray\n",
    "        if (target < array[mid]) {\n",
    "            return binarySearch(array, target, start, mid - 1);\n",
    "        }\n",
    "\n",
    "        // If the target is larger than the middle element, search the right half of the subarray\n",
    "        return binarySearch(array, target, mid + 1, end);\n",
    "    }\n",
    "}\n"
   ]
  }
 ],
 "metadata": {
  "kernelspec": {
   "display_name": "Java",
   "language": "java",
   "name": "java"
  },
  "language_info": {
   "codemirror_mode": "java",
   "file_extension": ".jshell",
   "mimetype": "text/x-java-source",
   "name": "Java",
   "pygments_lexer": "java",
   "version": "17.0.5+8"
  },
  "orig_nbformat": 4
 },
 "nbformat": 4,
 "nbformat_minor": 2
}
