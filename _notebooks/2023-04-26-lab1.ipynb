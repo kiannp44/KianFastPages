{
 "cells": [
  {
   "attachments": {},
   "cell_type": "markdown",
   "metadata": {},
   "source": [
    "# Binary Sort Lesson\n",
    "- toc: true\n",
    "- badges: true\n",
    "- comments: true\n",
    "- author: Kian Pasokhi\n",
    "- categories: [ Collegeboard]"
   ]
  },
  {
   "attachments": {},
   "cell_type": "markdown",
   "metadata": {},
   "source": [
    "- Binary Search is a searching algorithm used in a sorted array by repeatedly dividing the search interval in half. This topic can be tested on the AP Exam but it isnt commonly seen.\n",
    "\n",
    "- Binary search is one of the fastest searching algorithms. When compared to a linear search, it is much faster the bigger the array is"
   ]
  },
  {
   "attachments": {},
   "cell_type": "markdown",
   "metadata": {},
   "source": [
    "1. Which of the following is a prerequisite for using binary search in Java?\n",
    "- The array must be sorted in ascending order\n",
    "- The array must be sorted in descending order\n",
    "- The array can be in any order\n",
    "- The array must have at least one element\n",
    "\n",
    "2. What is the worst-case scenario for binary search in Java?\n",
    "- The element being searched for is at the beginning of the array\n",
    "- The element being searched for is at the end of the array\n",
    "- The element being searched for is not in the array\n",
    "- The element being searched for is in the middle of the array\n",
    "\n",
    "3. Which of the following data structures is best suited for binary search?\n",
    "- Linked List\n",
    "- Array\n",
    "- Stack\n",
    "- Queue\n",
    "\n",
    "4. What is returned if the target is not present in the array?\n",
    "- False\n",
    "- 0\n",
    "- -1\n",
    "- The index of the element closest in value to the target\n",
    "\n",
    "5. What is returned if the target is present multiple times in the array?\n",
    "- Binary Search does not work with duplicate values\n",
    "- The index of the first occurrence will be returned\n",
    "- The index of the middle occurrence will be returned\n",
    "- The index of one of the occurrences will be returned\n",
    "\n",
    "Answers: 1, 3, 2, 3, 4"
   ]
  }
 ],
 "metadata": {
  "kernelspec": {
   "display_name": "Java",
   "language": "java",
   "name": "java"
  },
  "language_info": {
   "name": "java"
  },
  "orig_nbformat": 4
 },
 "nbformat": 4,
 "nbformat_minor": 2
}
