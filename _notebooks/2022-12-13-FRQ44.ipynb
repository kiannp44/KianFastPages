{
 "cells": [
  {
   "attachments": {},
   "cell_type": "markdown",
   "metadata": {},
   "source": [
    "# FRQ 2019\n",
    "- toc: true\n",
    "- badges: true\n",
    "- comments: true\n",
    "- author: Kian Pasokhi\n",
    "- categories: [ Collegeboard]\n"
   ]
  },
  {
   "cell_type": "code",
   "execution_count": 1,
   "metadata": {
    "vscode": {
     "languageId": "java"
    }
   },
   "outputs": [
    {
     "name": "stdout",
     "output_type": "stream",
     "text": [
      "false\n",
      "false\n",
      "false\n"
     ]
    }
   ],
   "source": [
    "public class LightBoard {\n",
    "\n",
    "    private boolean[][] lights;\n",
    "\n",
    "    public LightBoard(int numRows, int numCols) {\n",
    "\n",
    "        lights = new boolean[numRows][numCols];\n",
    "\n",
    "        for(int i = 0; i < lights.length; i++) {\n",
    "            for(int j = 0; j < lights[i].length; j++){\n",
    "                \n",
    "                if (Math.random() < 0.4) {\n",
    "                    lights[i][j] = true;\n",
    "                }\n",
    "                else {\n",
    "                    lights[i][j] = false;\n",
    "                }\n",
    "        \n",
    "            }\n",
    "        }\n",
    "\n",
    "    }\n",
    "\n",
    "    public boolean evaluateLight(int row, int col) {\n",
    "        int counter = 0;\n",
    "\n",
    "        for(int i = 0; i < lights.length; i++)\n",
    "            if(lights[i][col] == true){\n",
    "                counter++; \n",
    "            }\n",
    "        \n",
    "        if( counter % 2 == 0){\n",
    "            return false;\n",
    "        }\n",
    "        else if(counter % 3 == 0){\n",
    "            return true;\n",
    "        }\n",
    "        else{\n",
    "             return lights[row][col];\n",
    "        }\n",
    "    }\n",
    "}\n",
    "\n",
    "LightBoard x = new LightBoard(4,4);\n",
    "System.out.println(x.evaluateLight(0,0));\n",
    "System.out.println(x.evaluateLight(0,1));\n",
    "System.out.println(x.evaluateLight(1,2));"
   ]
  }
 ],
 "metadata": {
  "kernelspec": {
   "display_name": "Java",
   "language": "java",
   "name": "java"
  },
  "language_info": {
   "codemirror_mode": "java",
   "file_extension": ".jshell",
   "mimetype": "text/x-java-source",
   "name": "Java",
   "pygments_lexer": "java",
   "version": "17.0.5+8"
  },
  "orig_nbformat": 4
 },
 "nbformat": 4,
 "nbformat_minor": 2
}
