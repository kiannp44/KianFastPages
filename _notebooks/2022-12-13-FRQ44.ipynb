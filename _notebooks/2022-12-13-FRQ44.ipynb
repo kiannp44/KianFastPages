{
 "cells": [
  {
   "attachments": {},
   "cell_type": "markdown",
   "metadata": {},
   "source": [
    "# FRQ 2019\n",
    "- toc: true\n",
    "- badges: true\n",
    "- comments: true\n",
    "- author: Kian Pasokhi\n",
    "- categories: [ Collegeboard]\n"
   ]
  },
  {
   "attachments": {},
   "cell_type": "markdown",
   "metadata": {},
   "source": [
    "# Part A"
   ]
  },
  {
   "cell_type": "code",
   "execution_count": null,
   "metadata": {},
   "outputs": [],
   "source": [
    "public LightBoard(int numRows, int numCols) {\n",
    "    lights = new boolean[numRows][numCols];\n",
    "    for (int r = 0; r < numRows; r++) {\n",
    "        for (int c = 0; c < numCols; c++) {\n",
    "            double onoff = Math.random();\n",
    "            lights[r][c] = onoff < 0.4;\n",
    "        }\n",
    "    }\n",
    "}"
   ]
  },
  {
   "cell_type": "markdown",
   "metadata": {},
   "source": [
    "# Part B"
   ]
  },
  {
   "cell_type": "code",
   "execution_count": null,
   "metadata": {},
   "outputs": [],
   "source": [
    "public boolean evaluateLight(int row, int col){\n",
    "    int lightsOn = 0;\n",
    "    for (int r = 0; r < lights.length; r++){\n",
    "        if (lights[r][col]){\n",
    "            lightsOn++;\n",
    "        }\n",
    "    }\n",
    "    if (lights[row][col] && lightsOn % 2 == 0){\n",
    "        return false;\n",
    "    }\n",
    "    if (!lights[row][col] && lightsOn % 3 == 0){\n",
    "        return true;\n",
    "    }\n",
    "    return lights[row][col];\n",
    "}"
   ]
  }
 ],
 "metadata": {
  "kernelspec": {
   "display_name": "Java",
   "language": "java",
   "name": "java"
  },
  "language_info": {
   "name": "java"
  },
  "orig_nbformat": 4
 },
 "nbformat": 4,
 "nbformat_minor": 2
}
