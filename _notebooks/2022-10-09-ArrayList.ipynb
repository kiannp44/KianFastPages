{
 "cells": [
  {
   "cell_type": "code",
   "execution_count": null,
   "metadata": {
    "vscode": {
     "languageId": "java"
    }
   },
   "outputs": [],
   "source": []
  },
  {
   "cell_type": "code",
   "execution_count": 25,
   "metadata": {
    "vscode": {
     "languageId": "java"
    }
   },
   "outputs": [
    {
     "name": "stdout",
     "output_type": "stream",
     "text": [
      "Kian P\n",
      "2nd Student\n",
      "Samuel W\n",
      "4th Student\n",
      "Evan S\n",
      "Calissa T\n",
      "Student Name\n"
     ]
    }
   ],
   "source": [
    "import java.util.*;\n",
    "      \n",
    "// create an empty array list with an initial capacity\n",
    "ArrayList<String> student_list = new ArrayList<String>(7);\n",
    "\n",
    "// use add() method to add values in the list\n",
    "student_list.add(\"Kian P\");\n",
    "student_list.add(\"Samuel W\");\n",
    "student_list.add(\"Evan S\");\n",
    "student_list.add(\"Calissa T\");\n",
    "student_list.add(\"Student Name\");\n",
    "  \n",
    "// Insert Nocolor in 2nd and 4th position in the list \t\n",
    "student_list.add(1,\"2nd Student\");\t\n",
    "student_list.add(3,\"4th Student\");\t\t\n",
    "\n",
    "// Print out the colors in the ArrayList\n",
    "for (int i = 0; i < 7; i++)\n",
    "  {\n",
    "      System.out.println(student_list.get(i).toString());\n",
    "  }"
   ]
  },
  {
   "cell_type": "code",
   "execution_count": 26,
   "metadata": {
    "vscode": {
     "languageId": "java"
    }
   },
   "outputs": [
    {
     "name": "stdout",
     "output_type": "stream",
     "text": [
      "New Student\n",
      "2nd New Student\n",
      "New Student 2\n",
      "4th New Student\n",
      "New Student 3\n",
      "New Student 4\n",
      "New Student 5\n"
     ]
    },
    {
     "ename": "EvalException",
     "evalue": "Index 7 out of bounds for length 7",
     "output_type": "error",
     "traceback": [
      "\u001b[1m\u001b[31m---------------------------------------------------------------------------\u001b[0m",
      "\u001b[1m\u001b[31mjava.lang.IndexOutOfBoundsException: Index 7 out of bounds for length 7\u001b[0m",
      "\u001b[1m\u001b[31m\tat java.base/jdk.internal.util.Preconditions.outOfBounds(Preconditions.java:64)\u001b[0m",
      "\u001b[1m\u001b[31m\tat java.base/jdk.internal.util.Preconditions.outOfBoundsCheckIndex(Preconditions.java:70)\u001b[0m",
      "\u001b[1m\u001b[31m\tat java.base/jdk.internal.util.Preconditions.checkIndex(Preconditions.java:248)\u001b[0m",
      "\u001b[1m\u001b[31m\tat java.base/java.util.Objects.checkIndex(Objects.java:372)\u001b[0m",
      "\u001b[1m\u001b[31m\tat java.base/java.util.ArrayList.get(ArrayList.java:459)\u001b[0m",
      "\u001b[1m\u001b[31m\tat .(#191:5)\u001b[0m"
     ]
    }
   ],
   "source": [
    "// create an empty array list with an initial capacity\n",
    "ArrayList<String> student_list1 = new ArrayList<String>(7);\n",
    "\n",
    "// use add() method to add values in the list\n",
    "student_list1.add(\"New Student\");\n",
    "student_list1.add(\"New Student 2\");\n",
    "student_list1.add(\"New Student 3\");\n",
    "student_list1.add(\"New Student 4\");\n",
    "student_list1.add(\"New Student 5\");\n",
    "    \n",
    "// Insert Nocolor in 2nd and 4th position in the list \t\n",
    "student_list1.add(1,\"2nd New Student\");\t\n",
    "student_list1.add(3,\"4th New Student\");\t\t\n",
    "\n",
    "// Combines the two lists together inside of the student_list\n",
    "student_list.addAll(student_list1); \n",
    "\n",
    "for (int i = 0; i < 14; i++)\n",
    "  {\n",
    "      System.out.println(student_list1.get(i).toString());\n",
    "  }"
   ]
  },
  {
   "cell_type": "code",
   "execution_count": null,
   "metadata": {
    "vscode": {
     "languageId": "java"
    }
   },
   "outputs": [
    {
     "data": {
      "text/plain": [
       "21"
      ]
     },
     "execution_count": 18,
     "metadata": {},
     "output_type": "execute_result"
    }
   ],
   "source": [
    "player_list.size();"
   ]
  },
  {
   "cell_type": "code",
   "execution_count": null,
   "metadata": {
    "vscode": {
     "languageId": "java"
    }
   },
   "outputs": [
    {
     "name": "stdout",
     "output_type": "stream",
     "text": [
      "Kian P\n",
      "2nd Student\n",
      "Samuel W\n",
      "4th Student\n",
      "Evan S\n",
      "Calissa T\n",
      "Student Name\n",
      "2nd New Student\n",
      "New Student 2\n",
      "4th New Student\n",
      "New Student 3\n",
      "New Student 4\n",
      "New Student 5\n"
     ]
    }
   ],
   "source": [
    "student_list.remove(7); \n",
    "for (int i = 0; i < 13; i++)\n",
    "  {\n",
    "      System.out.println(student_list.get(i).toString());\n",
    "  }"
   ]
  },
  {
   "cell_type": "code",
   "execution_count": null,
   "metadata": {
    "vscode": {
     "languageId": "java"
    }
   },
   "outputs": [
    {
     "name": "stdout",
     "output_type": "stream",
     "text": [
      "2nd Student\n",
      "Samuel W\n",
      "4th Student\n",
      "Evan S\n",
      "Calissa T\n",
      "Student Name\n",
      "2nd New Student\n",
      "New Student 2\n",
      "4th New Student\n",
      "New Student 3\n",
      "New Student 4\n",
      "New Student 5\n"
     ]
    }
   ],
   "source": [
    "student_list.remove(\"Kian P\"); \n",
    "for (int i = 0; i < 12; i++)\n",
    "  {\n",
    "      System.out.println(student_list.get(i).toString());\n",
    "  }"
   ]
  },
  {
   "cell_type": "code",
   "execution_count": 28,
   "metadata": {
    "vscode": {
     "languageId": "java"
    }
   },
   "outputs": [
    {
     "ename": "EvalException",
     "evalue": "Index 20 out of bounds for length 14",
     "output_type": "error",
     "traceback": [
      "\u001b[1m\u001b[31m---------------------------------------------------------------------------\u001b[0m",
      "\u001b[1m\u001b[31mjava.lang.IndexOutOfBoundsException: Index 20 out of bounds for length 14\u001b[0m",
      "\u001b[1m\u001b[31m\tat java.base/jdk.internal.util.Preconditions.outOfBounds(Preconditions.java:64)\u001b[0m",
      "\u001b[1m\u001b[31m\tat java.base/jdk.internal.util.Preconditions.outOfBoundsCheckIndex(Preconditions.java:70)\u001b[0m",
      "\u001b[1m\u001b[31m\tat java.base/jdk.internal.util.Preconditions.checkIndex(Preconditions.java:248)\u001b[0m",
      "\u001b[1m\u001b[31m\tat java.base/java.util.Objects.checkIndex(Objects.java:372)\u001b[0m",
      "\u001b[1m\u001b[31m\tat java.base/java.util.ArrayList.get(ArrayList.java:459)\u001b[0m",
      "\u001b[1m\u001b[31m\tat .(#193:1)\u001b[0m"
     ]
    }
   ],
   "source": [
    "student_list.get(20);"
   ]
  }
 ],
 "metadata": {
  "kernelspec": {
   "display_name": "Java",
   "language": "java",
   "name": "java"
  },
  "language_info": {
   "codemirror_mode": "java",
   "file_extension": ".jshell",
   "mimetype": "text/x-java-source",
   "name": "Java",
   "pygments_lexer": "java",
   "version": "11.0.16+8-post-Ubuntu-0ubuntu120.04"
  },
  "orig_nbformat": 4
 },
 "nbformat": 4,
 "nbformat_minor": 2
}
