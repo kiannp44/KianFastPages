{
 "cells": [
  {
   "cell_type": "code",
   "execution_count": null,
   "metadata": {
    "vscode": {
     "languageId": "java"
    }
   },
   "outputs": [],
   "source": []
  },
  {
   "cell_type": "code",
   "execution_count": 13,
   "metadata": {
    "vscode": {
     "languageId": "java"
    }
   },
   "outputs": [
    {
     "name": "stdout",
     "output_type": "stream",
     "text": [
      "Kian P\n",
      "2nd Student\n",
      "Samuel W\n",
      "4th Student\n",
      "Evan S\n",
      "Calissa T\n",
      "Student Name\n"
     ]
    }
   ],
   "source": [
    "import java.util.*;\n",
    "      \n",
    "// create an empty array list with an initial capacity\n",
    "ArrayList<String> student_list = new ArrayList<String>(7);\n",
    "\n",
    "// use add() method to add values in the list\n",
    "student_list.add(\"Kian P\");\n",
    "student_list.add(\"Samuel W\");\n",
    "student_list.add(\"Evan S\");\n",
    "student_list.add(\"Calissa T\");\n",
    "student_list.add(\"Student Name\");\n",
    "  \n",
    "// Insert Nocolor in 2nd and 4th position in the list \t\n",
    "student_list.add(1,\"2nd Student\");\t\n",
    "student_list.add(3,\"4th Student\");\t\t\n",
    "\n",
    "// Print out the colors in the ArrayList\n",
    "for (int i = 0; i < 7; i++)\n",
    "  {\n",
    "      System.out.println(student_list.get(i).toString());\n",
    "  }"
   ]
  },
  {
   "cell_type": "code",
   "execution_count": 14,
   "metadata": {
    "vscode": {
     "languageId": "java"
    }
   },
   "outputs": [
    {
     "name": "stdout",
     "output_type": "stream",
     "text": [
      "New Student\n",
      "2nd New Student\n",
      "New Student 2\n",
      "4th New Student\n",
      "New Student 3\n",
      "New Student 4\n",
      "New Student 5\n",
      "New Student\n",
      "2nd New Student\n",
      "New Student 2\n",
      "4th New Student\n",
      "New Student 3\n",
      "New Student 4\n",
      "New Student 5\n"
     ]
    }
   ],
   "source": [
    "// create an empty array list with an initial capacity\n",
    "ArrayList<String> student_list1 = new ArrayList<String>(7);\n",
    "\n",
    "// use add() method to add values in the list\n",
    "student_list1.add(\"New Student\");\n",
    "student_list1.add(\"New Student 2\");\n",
    "student_list1.add(\"New Student 3\");\n",
    "student_list1.add(\"New Student 4\");\n",
    "student_list1.add(\"New Student 5\");\n",
    "    \n",
    "// Insert Nocolor in 2nd and 4th position in the list \t\n",
    "student_list1.add(1,\"2nd New Student\");\t\n",
    "student_list1.add(3,\"4th New Student\");\t\t\n",
    "\n",
    "// Combines the two lists together inside of the student_list\n",
    "student_list1.addAll(student_list1); \n",
    "\n",
    "for (int i = 0; i < 14; i++)\n",
    "  {\n",
    "      System.out.println(student_list1.get(i).toString());\n",
    "  }"
   ]
  },
  {
   "cell_type": "code",
   "execution_count": 15,
   "metadata": {
    "vscode": {
     "languageId": "java"
    }
   },
   "outputs": [
    {
     "ename": "CompilationException",
     "evalue": "",
     "output_type": "error",
     "traceback": [
      "\u001b[1m\u001b[30m|   \u001b[1m\u001b[30m\u001b[0m\u001b[1m\u001b[30m\u001b[41mplayer_list\u001b[0m\u001b[1m\u001b[30m.size();\u001b[0m",
      "\u001b[1m\u001b[31mcannot find symbol\u001b[0m",
      "\u001b[1m\u001b[31m  symbol:   variable player_list\u001b[0m",
      ""
     ]
    }
   ],
   "source": [
    "player_list.size();"
   ]
  },
  {
   "cell_type": "code",
   "execution_count": null,
   "metadata": {
    "vscode": {
     "languageId": "java"
    }
   },
   "outputs": [
    {
     "name": "stdout",
     "output_type": "stream",
     "text": [
      "Kian P\n",
      "2nd Student\n",
      "Samuel W\n",
      "4th Student\n",
      "Evan S\n",
      "Calissa T\n",
      "Student Name\n",
      "2nd New Student\n",
      "New Student 2\n",
      "4th New Student\n",
      "New Student 3\n",
      "New Student 4\n",
      "New Student 5\n"
     ]
    }
   ],
   "source": [
    "student_list.remove(7); \n",
    "for (int i = 0; i < 13; i++)\n",
    "  {\n",
    "      System.out.println(student_list.get(i).toString());\n",
    "  }"
   ]
  },
  {
   "cell_type": "code",
   "execution_count": null,
   "metadata": {
    "vscode": {
     "languageId": "java"
    }
   },
   "outputs": [
    {
     "name": "stdout",
     "output_type": "stream",
     "text": [
      "2nd Student\n",
      "Samuel W\n",
      "4th Student\n",
      "Evan S\n",
      "Calissa T\n",
      "Student Name\n",
      "2nd New Student\n",
      "New Student 2\n",
      "4th New Student\n",
      "New Student 3\n",
      "New Student 4\n",
      "New Student 5\n"
     ]
    }
   ],
   "source": [
    "student_list.remove(\"Kian P\"); \n",
    "for (int i = 0; i < 12; i++)\n",
    "  {\n",
    "      System.out.println(student_list.get(i).toString());\n",
    "  }"
   ]
  },
  {
   "cell_type": "code",
   "execution_count": 23,
   "metadata": {
    "vscode": {
     "languageId": "java"
    }
   },
   "outputs": [
    {
     "data": {
      "text/plain": [
       "Calissa T"
      ]
     },
     "execution_count": 23,
     "metadata": {},
     "output_type": "execute_result"
    }
   ],
   "source": [
    "student_list.get(5);"
   ]
  },
  {
   "cell_type": "code",
   "execution_count": 25,
   "metadata": {
    "vscode": {
     "languageId": "java"
    }
   },
   "outputs": [
    {
     "name": "stdout",
     "output_type": "stream",
     "text": [
      "Samuel W\n",
      "2nd Student\n",
      "Samuel W\n",
      "4th Student\n",
      "Evan S\n",
      "Calissa T\n",
      "Student Name\n"
     ]
    }
   ],
   "source": [
    "student_list.set(0, \"Samuel W\");\n",
    "for (int i = 0; i < 7; i++)\n",
    "  {\n",
    "      System.out.println(student_list.get(i).toString());\n",
    "  }"
   ]
  },
  {
   "cell_type": "code",
   "execution_count": 26,
   "metadata": {
    "vscode": {
     "languageId": "java"
    }
   },
   "outputs": [
    {
     "data": {
      "text/plain": [
       "5"
      ]
     },
     "execution_count": 26,
     "metadata": {},
     "output_type": "execute_result"
    }
   ],
   "source": [
    "student_list.indexOf(\"Calissa T\");\n"
   ]
  },
  {
   "cell_type": "code",
   "execution_count": 27,
   "metadata": {
    "vscode": {
     "languageId": "java"
    }
   },
   "outputs": [
    {
     "data": {
      "text/plain": [
       "false"
      ]
     },
     "execution_count": 27,
     "metadata": {},
     "output_type": "execute_result"
    }
   ],
   "source": [
    "student_list.equals(\"Kian P\");"
   ]
  },
  {
   "cell_type": "code",
   "execution_count": 28,
   "metadata": {
    "vscode": {
     "languageId": "java"
    }
   },
   "outputs": [
    {
     "data": {
      "text/plain": [
       "-1788816664"
      ]
     },
     "execution_count": 28,
     "metadata": {},
     "output_type": "execute_result"
    }
   ],
   "source": [
    "student_list.hashCode();\n"
   ]
  },
  {
   "cell_type": "code",
   "execution_count": 29,
   "metadata": {
    "vscode": {
     "languageId": "java"
    }
   },
   "outputs": [
    {
     "data": {
      "text/plain": [
       "true"
      ]
     },
     "execution_count": 29,
     "metadata": {},
     "output_type": "execute_result"
    }
   ],
   "source": [
    "ArrayList<String> kianpas_list = new ArrayList<String>(7);\n",
    "kianpas_list.isEmpty();"
   ]
  },
  {
   "cell_type": "code",
   "execution_count": 31,
   "metadata": {
    "vscode": {
     "languageId": "java"
    }
   },
   "outputs": [
    {
     "name": "stdout",
     "output_type": "stream",
     "text": [
      "2nd Student\n",
      "4th Student\n",
      "Calissa T\n",
      "Evan S\n",
      "Samuel W\n",
      "Samuel W\n",
      "Student Name\n"
     ]
    }
   ],
   "source": [
    "import java.util.Collections;\n",
    "\n",
    "// Sorts the string in alphabetical order\n",
    "Collections.sort(student_list);\n",
    "for (int i = 0; i < 7; i++)\n",
    "  {\n",
    "      System.out.println(student_list.get(i).toString());\n",
    "  }"
   ]
  }
 ],
 "metadata": {
  "kernelspec": {
   "display_name": "Java",
   "language": "java",
   "name": "java"
  },
  "language_info": {
   "codemirror_mode": "java",
   "file_extension": ".jshell",
   "mimetype": "text/x-java-source",
   "name": "Java",
   "pygments_lexer": "java",
   "version": "11.0.16+8-post-Ubuntu-0ubuntu120.04"
  },
  "orig_nbformat": 4
 },
 "nbformat": 4,
 "nbformat_minor": 2
}
