{
 "cells": [
  {
   "cell_type": "markdown",
   "metadata": {},
   "source": [
    "# Unit 2 Objects\n",
    "- toc: true\n",
    "- badges: true\n",
    "- comments: true\n",
    "- author: Kian Pasokhi\n",
    "- categories: [ Collegeboard]\n",
    "\n"
   ]
  },
  {
   "cell_type": "markdown",
   "metadata": {},
   "source": [
    "![](my_icons/grade.png)"
   ]
  },
  {
   "cell_type": "markdown",
   "metadata": {},
   "source": [
    "- Objects are instances of Classes, which are like a template of data (attributes) and functions (methods)\n",
    "- Objects are created and their contents, which are pulled from the class, is used in code"
   ]
  },
  {
   "cell_type": "code",
   "execution_count": null,
   "metadata": {},
   "outputs": [],
   "source": [
    "public class Tennis { // class creation\n",
    "    \n",
    "    public void printPlayers(){   // simple method\n",
    "        System.out.println(\"Nadal\");\n",
    "        System.out.println(\"Federer\");\n",
    "        System.out.println(\"Djokovic\");\n",
    "    }\n",
    "\n",
    "    public static void main(String[] args){  // main class that runs\n",
    "        Tennis myObject = new Tennis();    // CREATING AN OBJECT FROM TENNIS CLASS\n",
    "        myObject.printPlayers();      // Use dot notation to reference methods/attributes from the class that the object is initialized from\n",
    "    }   \n",
    "\n",
    "}\n",
    "\n",
    "Tennis.main(null);"
   ]
  },
  {
   "cell_type": "markdown",
   "metadata": {},
   "source": [
    "- Extending another Class inherits all of the methods and attributes from that class.\n",
    "- Class being extended is called the super class\n",
    "- Class extending is called subclass"
   ]
  },
  {
   "cell_type": "code",
   "execution_count": null,
   "metadata": {},
   "outputs": [],
   "source": [
    "public class TennisTwo extends Tennis{  // extending Tennis class\n",
    "    public TennisTwo(){    // TennisTwo now has all of Tennis's methods\n",
    "        super();\n",
    "    }\n",
    "\n",
    "    public static void main(String[] args){  // main class that runs\n",
    "        TennisTwo myObjectTwo = new TennisTwo();    // CREATING AN OBJECT FROM TENNISTWO CLASS\n",
    "        myObjectTwo.printPlayers();      // Use dot notation to reference methods/attributes from the INHERITED class\n",
    "    }\n",
    "}\n",
    "\n",
    "TennisTwo.main(null);"
   ]
  },
  {
   "cell_type": "markdown",
   "metadata": {},
   "source": [
    "<mark>Comparing Objects</mark>\n",
    "- equals and hashCode methods can be used to compare objects\n",
    "- equals method compares equality of two objects\n",
    "### Example"
   ]
  },
  {
   "cell_type": "code",
   "execution_count": 1,
   "metadata": {},
   "outputs": [
    {
     "name": "stdout",
     "output_type": "stream",
     "text": [
      "false\n"
     ]
    }
   ],
   "source": [
    "import java.io.*;\n",
    " \n",
    "class Pet {\n",
    "\n",
    "    String name;\n",
    "    int age;\n",
    "    String breed;\n",
    " \n",
    "\n",
    "    Pet(String name, int age, String breed)\n",
    "    {\n",
    "        this.name = name;\n",
    "        this.age = age;\n",
    "        this.breed = breed;\n",
    "    }\n",
    "}\n",
    "\n",
    "public class Main {\n",
    " \n",
    "    public static void main(String args[])\n",
    "    {\n",
    " \n",
    "        Pet dog1 = new Pet(\"Snow\", 3, \"German Shepherd\");\n",
    "        Pet cat = new Pet(\"Jack\", 2, \"Tabby\");\n",
    "        Pet dog2 = new Pet(\"Snow\", 3, \"German Shepherd\");\n",
    " \n",
    "        System.out.println(dog1.equals(dog2));\n",
    "    }\n",
    "}\n",
    "\n",
    "Main.main(null);\n"
   ]
  },
  {
   "cell_type": "markdown",
   "metadata": {},
   "source": [
    "# FRQ"
   ]
  },
  {
   "cell_type": "code",
   "execution_count": null,
   "metadata": {},
   "outputs": [],
   "source": [
    "public int scoreGuess( String guess )\n",
    "{\n",
    "    int val = 0;\n",
    "    int len = guess.length();\n",
    "    for( int i = 0; i <= secret.length()-len; i+=1)\n",
    "    {\n",
    "        String ck = secret.substring( i, i+len );\n",
    "        if( ck.equals(guess) )\n",
    "            val++;\n",
    "    }\n",
    "    return val*len*len;\n",
    "}"
   ]
  },
  {
   "cell_type": "code",
   "execution_count": null,
   "metadata": {},
   "outputs": [],
   "source": [
    "public String findBetterGuess(String guess1, String guess2 )\n",
    "{\n",
    "    int a = scoreGuess( guess1 );\n",
    "    int b = scoreGuess( guess2 );\n",
    "    if( a > b ) return guess1;\n",
    "    if( b > a ) return guess2;\n",
    "    if( guess1.compareTo( guess2 ) > 0 )\n",
    "    return guess1;\n",
    "    return guess2;\n",
    "}"
   ]
  }
 ],
 "metadata": {
  "kernelspec": {
   "display_name": "Java",
   "language": "java",
   "name": "java"
  },
  "language_info": {
   "codemirror_mode": "java",
   "file_extension": ".jshell",
   "mimetype": "text/x-java-source",
   "name": "java",
   "pygments_lexer": "java",
   "version": "17.0.5+8"
  },
  "orig_nbformat": 4,
  "vscode": {
   "interpreter": {
    "hash": "916dbcbb3f70747c44a77c7bcd40155683ae19c65e1c03b4aa3499c5328201f1"
   }
  }
 },
 "nbformat": 4,
 "nbformat_minor": 2
}
