{
 "cells": [
  {
   "cell_type": "markdown",
   "metadata": {},
   "source": [
    "# Unit 2 Hw Objects\n",
    "- toc: true\n",
    "- badges: true\n",
    "- comments: true\n",
    "- author: Kian Pasokhi\n",
    "- categories: [ Collegeboard]\n",
    "\n"
   ]
  },
  {
   "cell_type": "markdown",
   "metadata": {},
   "source": [
    "![](my_icons/mcq.png)"
   ]
  },
  {
   "cell_type": "markdown",
   "metadata": {},
   "source": [
    "# FRQ"
   ]
  },
  {
   "cell_type": "code",
   "execution_count": null,
   "metadata": {},
   "outputs": [],
   "source": [
    "public int scoreGuess( String guess )\n",
    "{\n",
    "    int val = 0;\n",
    "    int len = guess.length();\n",
    "    for( int i = 0; i <= secret.length()-len; i+=1)\n",
    "    {\n",
    "        String ck = secret.substring( i, i+len );\n",
    "        if( ck.equals(guess) )\n",
    "            val++;\n",
    "    }\n",
    "    return val*len*len;\n",
    "}"
   ]
  },
  {
   "cell_type": "code",
   "execution_count": null,
   "metadata": {},
   "outputs": [],
   "source": [
    "public String findBetterGuess(String guess1, String guess2 )\n",
    "{\n",
    "    int a = scoreGuess( guess1 );\n",
    "    int b = scoreGuess( guess2 );\n",
    "    if( a > b ) return guess1;\n",
    "    if( b > a ) return guess2;\n",
    "    if( guess1.compareTo( guess2 ) > 0 )\n",
    "    return guess1;\n",
    "    return guess2;\n",
    "}"
   ]
  }
 ],
 "metadata": {
  "kernelspec": {
   "display_name": "Java",
   "language": "java",
   "name": "java"
  },
  "language_info": {
   "name": "java",
   "version": "3.8.10"
  },
  "orig_nbformat": 4,
  "vscode": {
   "interpreter": {
    "hash": "916dbcbb3f70747c44a77c7bcd40155683ae19c65e1c03b4aa3499c5328201f1"
   }
  }
 },
 "nbformat": 4,
 "nbformat_minor": 2
}
