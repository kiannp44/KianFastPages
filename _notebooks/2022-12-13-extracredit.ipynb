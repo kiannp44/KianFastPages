{
 "cells": [
  {
   "attachments": {},
   "cell_type": "markdown",
   "metadata": {},
   "source": [
    "# Technical Business Panel Blog\n",
    "- toc: true\n",
    "- badges: true\n",
    "- comments: true\n",
    "- author: Kian Pasokhi\n",
    "- categories: [ PBL]\n"
   ]
  },
  {
   "attachments": {},
   "cell_type": "markdown",
   "metadata": {},
   "source": [
    "### Kathyleen Beveridge\n",
    "- Born in Viatnam and immigrated here in 1980\n",
    "\n",
    "- Worked at Wells Fargo 1995-1996\n",
    "- Worked at HP 1996-2004\n",
    "- Worked at Qualcomm 2005-2018\n",
    "\n",
    "- She got her education at USC and was at the top of her class"
   ]
  }
 ],
 "metadata": {
  "kernelspec": {
   "display_name": "Java",
   "language": "java",
   "name": "java"
  },
  "language_info": {
   "name": "java"
  },
  "orig_nbformat": 4
 },
 "nbformat": 4,
 "nbformat_minor": 2
}
