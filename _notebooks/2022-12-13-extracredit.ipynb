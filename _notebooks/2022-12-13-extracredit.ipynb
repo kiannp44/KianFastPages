{
 "cells": [
  {
   "attachments": {},
   "cell_type": "markdown",
   "metadata": {},
   "source": [
    "# Technical Business Panel Blog\n",
    "- toc: true\n",
    "- badges: true\n",
    "- comments: true\n",
    "- author: Kian Pasokhi\n",
    "- categories: [ PBL]\n"
   ]
  },
  {
   "attachments": {},
   "cell_type": "markdown",
   "metadata": {},
   "source": [
    "# Kathyleen Beveridge\n",
    "- Born in Viatnam and immigrated here in 1980\n",
    "\n",
    "- Worked at Wells Fargo 1995-1996\n",
    "- Worked at HP 1996-2004\n",
    "- Worked at Qualcomm 2005-2018\n",
    "- Working at Thermo Fisher Scientific since 2018\n",
    "- She got her education at USC and was at the top of her class"
   ]
  },
  {
   "attachments": {},
   "cell_type": "markdown",
   "metadata": {},
   "source": [
    "### Company Mission Statements\n",
    "- HP: Create technology that makes life better for everyone.\n",
    "- Qualcomm: Inventing the tech the world loves.\n",
    "\n",
    "All these companies make products or services that are beneficial to the whole world and it gives back to the world through advancement in technology.\n",
    "\n",
    "- Everyday a billion peoples life is impacted by Qualcomm.\n",
    "They have 1.5 billion invested into R and D and they around 120,000 workers working full salaries."
   ]
  },
  {
   "attachments": {},
   "cell_type": "markdown",
   "metadata": {},
   "source": [
    "# Kris Porter\n",
    "- Went to highschool at Livermore High School alum and enjoyed STEM classes\n",
    "- Enrolled at UCLA for electrical engineering\n",
    "- Masters Degree in Electrical Engineering from Cal State LA.\n",
    "\n",
    "### Research\n",
    "- Center for Embedded Networked Sensors, NIMS: Networked Infomechanical systems which introduced him to Linux.\n",
    "- Worked at NBC Universal Streaming media 2012-2013\n",
    "- Worked at Qualcomm from 2014-2020\n",
    "- Works at Twitter from 2021 - Present\n",
    "\n",
    "### Continuous Learning - Highlights\n",
    "- CCNA Training\n",
    "- Machine Learning and Deep Learning (Qualcomm)\n",
    "- Python (Udemy)\n",
    "- Twitter Uni\n",
    "\n",
    "### Projects Worked On\n",
    "- Streaming Media Infrastructure for the 2012 Olympic Games\n",
    "- Twitter Projects\n",
    "- Analytics Infrastructure Projects (LocationSmart, Qualcomm)\n",
    "\n",
    "\n",
    "# Questions and Answers\n",
    "1. Do you have any experience with Agile methodology? A: Difference companies have different versions of Agile and they use it depending on how they need. For Qualcomm they planned everything quarter based and had a road map for everything they were going to do. It is very important and they work on sprints, 1 month increments, 2 month increments.\n",
    "\n",
    "2. Twitter Layoff? A: Most of his team was layed off and he was working remotely but he was forced to move to San Francisco however he didn't so he got layed off. He started looking for a job ASAP.\n",
    "\n",
    "3. What did you do at Qualcomm? A: They hosted a git lab of twitter and add 100,000 repositories before they left and they were concerned with who was downloading what. Built an analytics infrastructure in order to predict when to archive and delete the repository. If no one is downloading it, we delete it through code. Data Scientists predict where the customer demand and the sales are. \n"
   ]
  }
 ],
 "metadata": {
  "kernelspec": {
   "display_name": "Java",
   "language": "java",
   "name": "java"
  },
  "language_info": {
   "name": "java"
  },
  "orig_nbformat": 4
 },
 "nbformat": 4,
 "nbformat_minor": 2
}
