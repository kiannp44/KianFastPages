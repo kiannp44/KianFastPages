{
 "cells": [
  {
   "attachments": {},
   "cell_type": "markdown",
   "metadata": {},
   "source": [
    "# Technical Business Panel Blog\n",
    "- toc: true\n",
    "- badges: true\n",
    "- comments: true\n",
    "- author: Kian Pasokhi\n",
    "- categories: [ PBL]\n"
   ]
  },
  {
   "attachments": {},
   "cell_type": "markdown",
   "metadata": {},
   "source": [
    "# Kathyleen Beveridge\n",
    "- Born in Viatnam and immigrated here in 1980\n",
    "\n",
    "- Worked at Wells Fargo 1995-1996\n",
    "- Worked at HP 1996-2004\n",
    "- Worked at Qualcomm 2005-2018\n",
    "- Working at Thermo Fisher Scientific since 2018\n",
    "- She got her education at USC and was at the top of her class"
   ]
  },
  {
   "attachments": {},
   "cell_type": "markdown",
   "metadata": {},
   "source": [
    "### Company Mission Statements\n",
    "- HP: Create technology that makes life better for everyone.\n",
    "- Qualcomm: Inventing the tech the world loves.\n",
    "\n",
    "All these companies make products or services that are beneficial to the whole world and it gives back to the world through advancement in technology.\n",
    "\n",
    "- Everyday a billion peoples life is impacted by Qualcomm.\n",
    "They have 1.5 billion invested into R and D and they around 120,000 workers working full salaries."
   ]
  },
  {
   "attachments": {},
   "cell_type": "markdown",
   "metadata": {},
   "source": [
    "# Kris Porter\n",
    "- Went to highschool at Livermore High School alum and enjoyed STEM classes\n",
    "- Enrolled at UCLA for electrical engineering\n",
    "- Masters Degree in Electrical Engineering from Cal State LA."
   ]
  }
 ],
 "metadata": {
  "kernelspec": {
   "display_name": "Java",
   "language": "java",
   "name": "java"
  },
  "language_info": {
   "name": "java"
  },
  "orig_nbformat": 4
 },
 "nbformat": 4,
 "nbformat_minor": 2
}
